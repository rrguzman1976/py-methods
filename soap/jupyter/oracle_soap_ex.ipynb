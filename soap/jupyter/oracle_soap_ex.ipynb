{
 "cells": [
  {
   "cell_type": "markdown",
   "metadata": {},
   "source": [
    "# Examples using Zeep to Access SOAP Endpoints\n",
    "- [References](https://docs.python-zeep.org/en/master/index.html)"
   ]
  },
  {
   "cell_type": "code",
   "execution_count": null,
   "metadata": {},
   "outputs": [],
   "source": [
    "import json\n",
    "import os\n",
    "from zipfile import ZipFile\n",
    "\n",
    "import pandas as pd\n",
    "from requests import Session\n",
    "from requests.auth import HTTPBasicAuth\n",
    "from zeep import Client, Settings\n",
    "from zeep.cache import SqliteCache\n",
    "from zeep.transports import Transport"
   ]
  },
  {
   "cell_type": "code",
   "execution_count": null,
   "metadata": {},
   "outputs": [],
   "source": [
    "%%bash\n",
    "\n",
    "python3 -mzeep ${ERP_SERVICE_WSDL}"
   ]
  },
  {
   "cell_type": "markdown",
   "metadata": {},
   "source": [
    "## Create Soap Clients\n",
    "- ErpIntegrationService\n",
    "- GenericSoapPort"
   ]
  },
  {
   "cell_type": "code",
   "execution_count": null,
   "metadata": {},
   "outputs": [],
   "source": [
    "erp_uri = os.environ['ERP_SERVICE_WSDL']\n",
    "soap_uri = os.environ['GENERIC_SERVICE_WSDL']\n",
    "user = os.environ['FUSION_USER']\n",
    "password = os.environ['FUSION_PASSWORD']\n",
    "\n",
    "session = Session()\n",
    "session.auth = HTTPBasicAuth(user, password)\n",
    "\n",
    "settings = Settings(strict=True,\n",
    "                    xml_huge_tree=True,\n",
    "                    raw_response=False,\n",
    "                    force_https=True\n",
    "                    )\n",
    "transport = Transport(cache=SqliteCache(), session=session)\n",
    "\n",
    "client = Client(erp_uri,\n",
    "                settings=settings,\n",
    "                transport=transport)\n",
    "\n",
    "soap_client = Client(soap_uri,\n",
    "                     settings=settings,\n",
    "                     transport=transport)"
   ]
  },
  {
   "cell_type": "markdown",
   "metadata": {},
   "source": [
    "### Get Types"
   ]
  },
  {
   "cell_type": "code",
   "execution_count": null,
   "metadata": {},
   "outputs": [],
   "source": [
    "field_element = soap_client.get_element(name='ns0:Field')\n",
    "service_type = soap_client.get_type(name='ns0:Service')"
   ]
  },
  {
   "cell_type": "markdown",
   "metadata": {},
   "source": [
    "## Initiate Job Submission Workflow"
   ]
  },
  {
   "cell_type": "code",
   "execution_count": null,
   "metadata": {},
   "outputs": [],
   "source": [
    "package = \"oracle/apps/ess/custom/Conversion/\"\n",
    "job = \"BHSGLTBREP\"\n",
    "# package = \"oracle/apps/ess/custom/Custom/\"\n",
    "# job = \"BHSTESTUCM\"\n",
    "\n",
    "request_id = client.service.submitESSJobRequest(\n",
    "    jobPackageName=package, \n",
    "    jobDefinitionName=job, \n",
    "    paramList=[\n",
    "        \"Primary CAD\",\n",
    "        \"Nov-19\",\n",
    "        \"CAD\",\n",
    "        \"A\"\n",
    "    ])\n",
    "request_id"
   ]
  },
  {
   "cell_type": "code",
   "execution_count": null,
   "metadata": {},
   "outputs": [],
   "source": [
    "status = client.service.getESSJobStatus(requestId=request_id)\n",
    "status"
   ]
  },
  {
   "cell_type": "code",
   "execution_count": null,
   "metadata": {},
   "outputs": [],
   "source": [
    "details = client.service.getESSExecutionDetails(requestId=request_id)\n",
    "json_details = json.loads(details)\n",
    "\n",
    "json_details"
   ]
  },
  {
   "cell_type": "markdown",
   "metadata": {},
   "source": [
    "## Handling Attachments\n",
    "- [Reference](https://www.w3.org/TR/SOAP-attachments/)"
   ]
  },
  {
   "cell_type": "code",
   "execution_count": null,
   "metadata": {},
   "outputs": [],
   "source": [
    "pack = client.service.downloadESSJobExecutionDetails(\n",
    "    requestId=request_id, fileType=\"all\")"
   ]
  },
  {
   "cell_type": "code",
   "execution_count": null,
   "metadata": {},
   "outputs": [],
   "source": [
    "tmp_folder = 'data'\n",
    "\n",
    "for a in pack:\n",
    "    \n",
    "    print(f\"{a.DocumentId}, {a.DocumentName}, {a.DocumentTitle}, {a.ContentType}\")\n",
    "    \n",
    "    tmp_zip = os.path.join(tmp_folder, a.DocumentName)\n",
    "    \n",
    "    with open(tmp_zip, 'wb') as f:\n",
    "        f.write(a.Content)\n",
    "\n",
    "    with ZipFile(tmp_zip) as z:\n",
    "        z.extractall(path=tmp_folder)"
   ]
  },
  {
   "cell_type": "markdown",
   "metadata": {},
   "source": [
    "## Issue Search\n",
    "- Uses XML in CDATA section"
   ]
  },
  {
   "cell_type": "code",
   "execution_count": null,
   "metadata": {},
   "outputs": [],
   "source": [
    "search_query = u\"\"\"\n",
    "dOriginalName <starts> `MANIFEST_DATA_41`\n",
    "<AND> dSecurityGroup <starts> `OBIAImport`\n",
    "\"\"\".strip()\n",
    "\n",
    "search_element = field_element(search_query, name='QueryText')\n",
    "\n",
    "search_service = service_type(\n",
    "    Document={\n",
    "        \"Field\": [\n",
    "            search_element\n",
    "        ]\n",
    "    },\n",
    "    IdcService='GET_SEARCH_RESULTS')\n",
    "\n",
    "response = soap_client.service.GenericSoapOperation(\n",
    "    Service=search_service, webKey='cs')\n",
    "\n",
    "for result in response['Service']['Document']['ResultSet']:\n",
    "    if result['name'] == 'SearchResults':\n",
    "        for row in result['Row']:\n",
    "            for field in row['Field']:\n",
    "                if field['name'] == 'dID':\n",
    "                    document_id = field['_value_1']\n",
    "                    break\n",
    "\n",
    "if document_id:\n",
    "    print(f\"Found document {document_id}\")"
   ]
  },
  {
   "cell_type": "markdown",
   "metadata": {},
   "source": [
    "## File Download Process"
   ]
  },
  {
   "cell_type": "markdown",
   "metadata": {},
   "source": [
    "### Setup search"
   ]
  },
  {
   "cell_type": "code",
   "execution_count": null,
   "metadata": {},
   "outputs": [],
   "source": [
    "file_service = service_type(\n",
    "    Document={\n",
    "        \"Field\": [\n",
    "            field_element(62962, name='dID'),\n",
    "#             field_element('UCMFA00060055', name='dDocName'),\n",
    "#             field_element(1, name='allowInterrupt'),\n",
    "        ]\n",
    "    },\n",
    "    IdcService='GET_FILE')\n",
    "\n",
    "file_service"
   ]
  },
  {
   "cell_type": "markdown",
   "metadata": {},
   "source": [
    "### Issue Get File"
   ]
  },
  {
   "cell_type": "code",
   "execution_count": null,
   "metadata": {
    "scrolled": false
   },
   "outputs": [],
   "source": [
    "response = soap_client.service.GenericSoapOperation(\n",
    "    Service=file_service, \n",
    "    webKey='cs')\n",
    "response"
   ]
  },
  {
   "cell_type": "markdown",
   "metadata": {},
   "source": [
    "### Get Metadata"
   ]
  },
  {
   "cell_type": "code",
   "execution_count": null,
   "metadata": {},
   "outputs": [],
   "source": [
    "results = response['Service']['Document']['ResultSet']\n",
    "data = []\n",
    "\n",
    "for attach in results:\n",
    "    if attach['name'] == 'FILE_DOC_INFO':\n",
    "        for row in attach['Row']:\n",
    "            record = {}\n",
    "            for field in row['Field']:\n",
    "                record[field['name']] = field['_value_1']\n",
    "            data.append(record)\n",
    "\n",
    "pd.DataFrame(data)"
   ]
  },
  {
   "cell_type": "markdown",
   "metadata": {},
   "source": [
    "### Download Content"
   ]
  },
  {
   "cell_type": "code",
   "execution_count": null,
   "metadata": {},
   "outputs": [],
   "source": [
    "tmp_folder = './data'\n",
    "\n",
    "for attach in response['Service']['Document']['File']:\n",
    "    with open(os.path.join(tmp_folder, attach['href']), 'wb') as f:\n",
    "        f.write(attach['Contents'])\n"
   ]
  }
 ],
 "metadata": {
  "kernelspec": {
   "display_name": "Python 3",
   "language": "python",
   "name": "python3"
  },
  "language_info": {
   "codemirror_mode": {
    "name": "ipython",
    "version": 3
   },
   "file_extension": ".py",
   "mimetype": "text/x-python",
   "name": "python",
   "nbconvert_exporter": "python",
   "pygments_lexer": "ipython3",
   "version": "3.7.5"
  }
 },
 "nbformat": 4,
 "nbformat_minor": 4
}

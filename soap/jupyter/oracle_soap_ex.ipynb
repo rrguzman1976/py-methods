{
 "cells": [
  {
   "cell_type": "markdown",
   "metadata": {},
   "source": [
    "# Examples using Zeep to Access SOAP Endpoints\n",
    "- [References](https://docs.python-zeep.org/en/master/index.html)"
   ]
  },
  {
   "cell_type": "code",
   "execution_count": null,
   "metadata": {},
   "outputs": [],
   "source": [
    "import json\n",
    "import os\n",
    "from zipfile import ZipFile\n",
    "\n",
    "from requests import Session\n",
    "from requests.auth import HTTPBasicAuth\n",
    "from zeep import Client, Settings\n",
    "from zeep.cache import SqliteCache\n",
    "from zeep.transports import Transport\n"
   ]
  },
  {
   "cell_type": "code",
   "execution_count": null,
   "metadata": {},
   "outputs": [],
   "source": [
    "%%bash\n",
    "\n",
    "python3 -mzeep ${GENERIC_SERVICE_WSDL}"
   ]
  },
  {
   "cell_type": "markdown",
   "metadata": {},
   "source": [
    "## Create Soap Client"
   ]
  },
  {
   "cell_type": "code",
   "execution_count": null,
   "metadata": {},
   "outputs": [],
   "source": [
    "erp_uri = os.environ['ERP_SERVICE_WSDL']\n",
    "user = os.environ['FUSION_USER']\n",
    "password = os.environ['FUSION_PASSWORD']\n",
    "\n",
    "session = Session()\n",
    "session.auth = HTTPBasicAuth(user, password)\n",
    "\n",
    "settings = Settings(strict=True,\n",
    "                    xml_huge_tree=True,\n",
    "                    raw_response=False,\n",
    "                    force_https=True\n",
    "                    )\n",
    "transport = Transport(cache=SqliteCache(), session=session)\n",
    "\n",
    "client = Client(erp_uri,\n",
    "                settings=settings,\n",
    "                transport=transport)"
   ]
  },
  {
   "cell_type": "markdown",
   "metadata": {},
   "source": [
    "## Initiate Job Submission Workflow"
   ]
  },
  {
   "cell_type": "code",
   "execution_count": null,
   "metadata": {},
   "outputs": [],
   "source": [
    "package = \"oracle/apps/ess/custom/Custom/\"\n",
    "job = \"BHSTESTUCM\"\n",
    "\n",
    "response = client.service.submitESSJobRequest(jobPackageName=package, jobDefinitionName=job)\n",
    "response"
   ]
  },
  {
   "cell_type": "code",
   "execution_count": null,
   "metadata": {},
   "outputs": [],
   "source": [
    "status = client.service.getESSJobStatus(requestId=246009)\n",
    "status"
   ]
  },
  {
   "cell_type": "code",
   "execution_count": null,
   "metadata": {},
   "outputs": [],
   "source": [
    "details = client.service.getESSExecutionDetails(requestId=246009)\n",
    "json_details = json.loads(details)\n",
    "\n",
    "json_details"
   ]
  },
  {
   "cell_type": "markdown",
   "metadata": {},
   "source": [
    "## Handling Attachments\n",
    "- [Reference](https://www.w3.org/TR/SOAP-attachments/)"
   ]
  },
  {
   "cell_type": "code",
   "execution_count": null,
   "metadata": {},
   "outputs": [],
   "source": [
    "pack = client.service.downloadESSJobExecutionDetails(requestId=246009, fileType=\"all\")"
   ]
  },
  {
   "cell_type": "code",
   "execution_count": null,
   "metadata": {},
   "outputs": [],
   "source": [
    "tmp_folder = 'data'\n",
    "\n",
    "for a in pack:\n",
    "    \n",
    "    print(f\"{a.DocumentId}, {a.DocumentName}, {a.DocumentTitle}, {a.ContentType}\")\n",
    "    \n",
    "    tmp_zip = os.path.join(tmp_folder, a.DocumentName)\n",
    "    \n",
    "    with open(tmp_zip, 'wb') as f:\n",
    "        f.write(a.Content)\n",
    "\n",
    "    with ZipFile(tmp_zip) as z:\n",
    "        z.extractall(path=tmp_folder)"
   ]
  },
  {
   "cell_type": "markdown",
   "metadata": {},
   "source": [
    "## File Download Process"
   ]
  },
  {
   "cell_type": "code",
   "execution_count": null,
   "metadata": {},
   "outputs": [],
   "source": [
    "soap_uri = os.environ['GENERIC_SERVICE_WSDL']\n",
    "\n",
    "soap_client = Client(soap_uri,\n",
    "                     settings=settings,\n",
    "                     transport=transport)"
   ]
  },
  {
   "cell_type": "code",
   "execution_count": null,
   "metadata": {},
   "outputs": [],
   "source": [
    "# ns0:Field(xsd:string, name: xsd:anySimpleType)\n",
    "# ns0:OptionList(Option: xsd:string[], name: xsd:anySimpleType)\n",
    "# ns0:ResultSet(Row: ns0:Row[], name: xsd:anySimpleType)\n",
    "# ns0:Container(Field: ns0:Field[], ResultSet: ns0:ResultSet[], OptionList: ns0:OptionList[], _attr_1: {})\n",
    "# ns0:Service(\n",
    "#     User: ns0:Container, \n",
    "#     Document: {\n",
    "#         Field: ns0:Field[], \n",
    "#         ResultSet: ns0:ResultSet[], \n",
    "#         OptionList: ns0:OptionList[], \n",
    "#         File: ns0:File[], \n",
    "#         _attr_1: {}}, \n",
    "#     IdcService: xsd:anySimpleType)\n",
    "# GenericSoapOperation(Service: ns0:Service, webKey: xsd:anySimpleType)\n",
    "#     -> Service: ns0:Service, webKey: xsd:anySimpleType\n",
    "\n",
    "response = client.service.GenericSoapOperation(Service=, webKey='cs')"
   ]
  }
 ],
 "metadata": {
  "kernelspec": {
   "display_name": "Python 3",
   "language": "python",
   "name": "python3"
  },
  "language_info": {
   "codemirror_mode": {
    "name": "ipython",
    "version": 3
   },
   "file_extension": ".py",
   "mimetype": "text/x-python",
   "name": "python",
   "nbconvert_exporter": "python",
   "pygments_lexer": "ipython3",
   "version": "3.7.5"
  }
 },
 "nbformat": 4,
 "nbformat_minor": 4
}

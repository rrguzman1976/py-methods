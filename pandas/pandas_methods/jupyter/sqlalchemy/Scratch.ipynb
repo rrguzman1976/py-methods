{
 "cells": [
  {
   "cell_type": "code",
   "execution_count": 2,
   "metadata": {},
   "outputs": [],
   "source": [
    "from os import environ\n",
    "import urllib\n",
    "import json\n",
    "\n",
    "from sqlalchemy import create_engine, inspect\n",
    "from sqlalchemy import Table, Column, ForeignKey, Integer, String, Float, MetaData\n",
    "from sqlalchemy.ext.declarative import declarative_base\n",
    "from sqlalchemy.orm import relationship, backref\n",
    "from sqlalchemy.orm import sessionmaker, selectinload\n",
    "from sqlalchemy.sql import union, select, and_, or_, not_, text\n",
    "from sqlalchemy.sql import bindparam\n",
    "from sqlalchemy.sql.functions import coalesce\n"
   ]
  },
  {
   "cell_type": "markdown",
   "metadata": {},
   "source": [
    "# Connect"
   ]
  },
  {
   "cell_type": "code",
   "execution_count": 3,
   "metadata": {},
   "outputs": [],
   "source": [
    "driver = environ.get('SQL_DRIVER', '{ODBC Driver 17 for SQL Server}')\n",
    "host = environ.get('SQL_HOST', 'sql-fabulous')\n",
    "db = environ.get('SQL_DB', 'ScratchDB')\n",
    "user = environ.get('SQL_USER', 'sa')\n",
    "pw = environ.get('SQL_PASSWORD', 'HelloWorld1')\n",
    "con_str = f'DRIVER={driver};SERVER={host};DATABASE={db};UID={user};PWD={pw}'\n",
    "\n",
    "params = urllib.parse.quote_plus(con_str)\n",
    "sql_engine = create_engine(f\"mssql+pyodbc:///?odbc_connect={params}\"\n",
    "                           , echo=True) # echo's emitted sql"
   ]
  },
  {
   "cell_type": "markdown",
   "metadata": {},
   "source": [
    "# Define Schema"
   ]
  },
  {
   "cell_type": "code",
   "execution_count": 23,
   "metadata": {},
   "outputs": [],
   "source": [
    "Base = declarative_base()\n",
    "\n",
    "class Survey(Base):\n",
    "    __tablename__ = 'DirectionalSurvey2'\n",
    "\n",
    "    ID = Column(Integer, autoincrement=True, primary_key=True)\n",
    "    API = Column(String(32), nullable=True)\n",
    "    WKID = Column(String(32), nullable=True)\n",
    "    FIPS = Column(String(4), nullable=True)\n",
    "    STATUS_CODE = Column(String(1), nullable=False)\n",
    "\n",
    "    def __repr__(self):\n",
    "        return f\"Survey(ID={self.ID}, API={self.API}, WKID={self.WKID}, Points={self.stations})\"\n",
    "\n",
    "class SurveyReport(Base):\n",
    "    __tablename__ = 'SurveyReport2'\n",
    "\n",
    "    ID = Column(Integer, autoincrement=True, primary_key=True)\n",
    "    DirectionalSurveyId = Column(Integer, ForeignKey('DirectionalSurvey2.ID'), nullable=False)\n",
    "    Azimuth = Column(Float, nullable=True)\n",
    "    MD = Column(Float, nullable=True)\n",
    "    Inclination = Column(Float, nullable=True)\n",
    "    STATUS_CODE = Column(String(1), nullable=False)\n",
    "    survey = relationship(Survey, backref=backref('stations', uselist=True))\n",
    "\n",
    "    def __repr__(self):\n",
    "        return f\"Report(ID={self.ID}, FK={self.DirectionalSurveyId}, STATUS={self.STATUS_CODE})\"\n",
    "\n",
    "# Set mapped tables to local vars so that full SQL metadata is available.\n",
    "surveys = Survey.__table__\n",
    "points = SurveyReport.__table__"
   ]
  },
  {
   "cell_type": "markdown",
   "metadata": {},
   "source": [
    "# Bind Engine to Schema and Create Session, Connection"
   ]
  },
  {
   "cell_type": "code",
   "execution_count": 24,
   "metadata": {},
   "outputs": [],
   "source": [
    "Base.metadata.bind = sql_engine\n",
    "DBSession = sessionmaker(bind=sql_engine)\n",
    "session = DBSession()\n",
    "conn = sql_engine.connect()"
   ]
  },
  {
   "cell_type": "markdown",
   "metadata": {},
   "source": [
    "# Create Schema"
   ]
  },
  {
   "cell_type": "code",
   "execution_count": 26,
   "metadata": {},
   "outputs": [
    {
     "name": "stdout",
     "output_type": "stream",
     "text": [
      "2019-09-07 16:32:15,556 INFO sqlalchemy.engine.base.Engine SELECT [INFORMATION_SCHEMA].[COLUMNS].[TABLE_SCHEMA], [INFORMATION_SCHEMA].[COLUMNS].[TABLE_NAME], [INFORMATION_SCHEMA].[COLUMNS].[COLUMN_NAME], [INFORMATION_SCHEMA].[COLUMNS].[IS_NULLABLE], [INFORMATION_SCHEMA].[COLUMNS].[DATA_TYPE], [INFORMATION_SCHEMA].[COLUMNS].[ORDINAL_POSITION], [INFORMATION_SCHEMA].[COLUMNS].[CHARACTER_MAXIMUM_LENGTH], [INFORMATION_SCHEMA].[COLUMNS].[NUMERIC_PRECISION], [INFORMATION_SCHEMA].[COLUMNS].[NUMERIC_SCALE], [INFORMATION_SCHEMA].[COLUMNS].[COLUMN_DEFAULT], [INFORMATION_SCHEMA].[COLUMNS].[COLLATION_NAME] \n",
      "FROM [INFORMATION_SCHEMA].[COLUMNS] \n",
      "WHERE [INFORMATION_SCHEMA].[COLUMNS].[TABLE_NAME] = CAST(? AS NVARCHAR(max)) AND [INFORMATION_SCHEMA].[COLUMNS].[TABLE_SCHEMA] = CAST(? AS NVARCHAR(max))\n",
      "2019-09-07 16:32:15,557 INFO sqlalchemy.engine.base.Engine ('DirectionalSurvey2', 'dbo')\n",
      "2019-09-07 16:32:15,563 INFO sqlalchemy.engine.base.Engine SELECT [INFORMATION_SCHEMA].[COLUMNS].[TABLE_SCHEMA], [INFORMATION_SCHEMA].[COLUMNS].[TABLE_NAME], [INFORMATION_SCHEMA].[COLUMNS].[COLUMN_NAME], [INFORMATION_SCHEMA].[COLUMNS].[IS_NULLABLE], [INFORMATION_SCHEMA].[COLUMNS].[DATA_TYPE], [INFORMATION_SCHEMA].[COLUMNS].[ORDINAL_POSITION], [INFORMATION_SCHEMA].[COLUMNS].[CHARACTER_MAXIMUM_LENGTH], [INFORMATION_SCHEMA].[COLUMNS].[NUMERIC_PRECISION], [INFORMATION_SCHEMA].[COLUMNS].[NUMERIC_SCALE], [INFORMATION_SCHEMA].[COLUMNS].[COLUMN_DEFAULT], [INFORMATION_SCHEMA].[COLUMNS].[COLLATION_NAME] \n",
      "FROM [INFORMATION_SCHEMA].[COLUMNS] \n",
      "WHERE [INFORMATION_SCHEMA].[COLUMNS].[TABLE_NAME] = CAST(? AS NVARCHAR(max)) AND [INFORMATION_SCHEMA].[COLUMNS].[TABLE_SCHEMA] = CAST(? AS NVARCHAR(max))\n",
      "2019-09-07 16:32:15,564 INFO sqlalchemy.engine.base.Engine ('SurveyReport2', 'dbo')\n",
      "2019-09-07 16:32:15,567 INFO sqlalchemy.engine.base.Engine \n",
      "DROP TABLE [SurveyReport2]\n",
      "2019-09-07 16:32:15,568 INFO sqlalchemy.engine.base.Engine ()\n",
      "2019-09-07 16:32:15,764 INFO sqlalchemy.engine.base.Engine COMMIT\n",
      "2019-09-07 16:32:15,802 INFO sqlalchemy.engine.base.Engine \n",
      "DROP TABLE [DirectionalSurvey2]\n",
      "2019-09-07 16:32:15,803 INFO sqlalchemy.engine.base.Engine ()\n",
      "2019-09-07 16:32:15,807 INFO sqlalchemy.engine.base.Engine COMMIT\n",
      "2019-09-07 16:32:15,860 INFO sqlalchemy.engine.base.Engine SELECT [INFORMATION_SCHEMA].[COLUMNS].[TABLE_SCHEMA], [INFORMATION_SCHEMA].[COLUMNS].[TABLE_NAME], [INFORMATION_SCHEMA].[COLUMNS].[COLUMN_NAME], [INFORMATION_SCHEMA].[COLUMNS].[IS_NULLABLE], [INFORMATION_SCHEMA].[COLUMNS].[DATA_TYPE], [INFORMATION_SCHEMA].[COLUMNS].[ORDINAL_POSITION], [INFORMATION_SCHEMA].[COLUMNS].[CHARACTER_MAXIMUM_LENGTH], [INFORMATION_SCHEMA].[COLUMNS].[NUMERIC_PRECISION], [INFORMATION_SCHEMA].[COLUMNS].[NUMERIC_SCALE], [INFORMATION_SCHEMA].[COLUMNS].[COLUMN_DEFAULT], [INFORMATION_SCHEMA].[COLUMNS].[COLLATION_NAME] \n",
      "FROM [INFORMATION_SCHEMA].[COLUMNS] \n",
      "WHERE [INFORMATION_SCHEMA].[COLUMNS].[TABLE_NAME] = CAST(? AS NVARCHAR(max)) AND [INFORMATION_SCHEMA].[COLUMNS].[TABLE_SCHEMA] = CAST(? AS NVARCHAR(max))\n",
      "2019-09-07 16:32:15,861 INFO sqlalchemy.engine.base.Engine ('DirectionalSurvey2', 'dbo')\n",
      "2019-09-07 16:32:15,866 INFO sqlalchemy.engine.base.Engine SELECT [INFORMATION_SCHEMA].[COLUMNS].[TABLE_SCHEMA], [INFORMATION_SCHEMA].[COLUMNS].[TABLE_NAME], [INFORMATION_SCHEMA].[COLUMNS].[COLUMN_NAME], [INFORMATION_SCHEMA].[COLUMNS].[IS_NULLABLE], [INFORMATION_SCHEMA].[COLUMNS].[DATA_TYPE], [INFORMATION_SCHEMA].[COLUMNS].[ORDINAL_POSITION], [INFORMATION_SCHEMA].[COLUMNS].[CHARACTER_MAXIMUM_LENGTH], [INFORMATION_SCHEMA].[COLUMNS].[NUMERIC_PRECISION], [INFORMATION_SCHEMA].[COLUMNS].[NUMERIC_SCALE], [INFORMATION_SCHEMA].[COLUMNS].[COLUMN_DEFAULT], [INFORMATION_SCHEMA].[COLUMNS].[COLLATION_NAME] \n",
      "FROM [INFORMATION_SCHEMA].[COLUMNS] \n",
      "WHERE [INFORMATION_SCHEMA].[COLUMNS].[TABLE_NAME] = CAST(? AS NVARCHAR(max)) AND [INFORMATION_SCHEMA].[COLUMNS].[TABLE_SCHEMA] = CAST(? AS NVARCHAR(max))\n",
      "2019-09-07 16:32:15,867 INFO sqlalchemy.engine.base.Engine ('SurveyReport2', 'dbo')\n",
      "2019-09-07 16:32:15,870 INFO sqlalchemy.engine.base.Engine \n",
      "CREATE TABLE [DirectionalSurvey2] (\n",
      "\t[ID] INTEGER NOT NULL IDENTITY(1,1), \n",
      "\t[API] VARCHAR(32) NULL, \n",
      "\t[WKID] VARCHAR(32) NULL, \n",
      "\t[FIPS] VARCHAR(4) NULL, \n",
      "\t[STATUS_CODE] VARCHAR(1) NOT NULL, \n",
      "\tPRIMARY KEY ([ID])\n",
      ")\n",
      "\n",
      "\n",
      "2019-09-07 16:32:15,871 INFO sqlalchemy.engine.base.Engine ()\n",
      "2019-09-07 16:32:15,875 INFO sqlalchemy.engine.base.Engine COMMIT\n",
      "2019-09-07 16:32:15,914 INFO sqlalchemy.engine.base.Engine \n",
      "CREATE TABLE [SurveyReport2] (\n",
      "\t[ID] INTEGER NOT NULL IDENTITY(1,1), \n",
      "\t[DirectionalSurveyId] INTEGER NOT NULL, \n",
      "\t[Azimuth] FLOAT NULL, \n",
      "\t[MD] FLOAT NULL, \n",
      "\t[Inclination] FLOAT NULL, \n",
      "\t[STATUS_CODE] VARCHAR(1) NOT NULL, \n",
      "\tPRIMARY KEY ([ID]), \n",
      "\tFOREIGN KEY([DirectionalSurveyId]) REFERENCES [DirectionalSurvey2] ([ID])\n",
      ")\n",
      "\n",
      "\n",
      "2019-09-07 16:32:15,916 INFO sqlalchemy.engine.base.Engine ()\n",
      "2019-09-07 16:32:15,920 INFO sqlalchemy.engine.base.Engine COMMIT\n"
     ]
    }
   ],
   "source": [
    "Base.metadata.drop_all()\n",
    "Base.metadata.create_all(sql_engine, checkfirst=True)"
   ]
  },
  {
   "cell_type": "markdown",
   "metadata": {},
   "source": [
    "# Create Bean"
   ]
  },
  {
   "cell_type": "markdown",
   "metadata": {},
   "source": [
    "## Atomic Commits (parent/child)"
   ]
  },
  {
   "cell_type": "code",
   "execution_count": 41,
   "metadata": {},
   "outputs": [
    {
     "name": "stdout",
     "output_type": "stream",
     "text": [
      "2019-09-07 16:49:29,844 INFO sqlalchemy.engine.base.Engine BEGIN (implicit)\n",
      "2019-09-07 16:49:29,845 INFO sqlalchemy.engine.base.Engine INSERT INTO [DirectionalSurvey2] ([API], [WKID], [FIPS], [STATUS_CODE]) OUTPUT inserted.[ID] VALUES (?, ?, ?, ?)\n",
      "2019-09-07 16:49:29,847 INFO sqlalchemy.engine.base.Engine ('API1', 'WKID1', '0001', 'C')\n",
      "2019-09-07 16:49:29,850 INFO sqlalchemy.engine.base.Engine INSERT INTO [DirectionalSurvey2] ([API], [WKID], [FIPS], [STATUS_CODE]) OUTPUT inserted.[ID] VALUES (?, ?, ?, ?)\n",
      "2019-09-07 16:49:29,851 INFO sqlalchemy.engine.base.Engine ('API2', 'WKID2', '0002', 'C')\n",
      "2019-09-07 16:49:29,856 INFO sqlalchemy.engine.base.Engine INSERT INTO [DirectionalSurvey2] ([API], [WKID], [FIPS], [STATUS_CODE]) OUTPUT inserted.[ID] VALUES (?, ?, ?, ?)\n",
      "2019-09-07 16:49:29,858 INFO sqlalchemy.engine.base.Engine ('API3', 'WKID3', '0003', 'N')\n",
      "2019-09-07 16:49:29,862 INFO sqlalchemy.engine.base.Engine INSERT INTO [SurveyReport2] ([DirectionalSurveyId], [Azimuth], [MD], [Inclination], [STATUS_CODE]) OUTPUT inserted.[ID] VALUES (?, ?, ?, ?, ?)\n",
      "2019-09-07 16:49:29,864 INFO sqlalchemy.engine.base.Engine (18, 1, 1, 1, 'C')\n",
      "2019-09-07 16:49:29,869 INFO sqlalchemy.engine.base.Engine INSERT INTO [SurveyReport2] ([DirectionalSurveyId], [Azimuth], [MD], [Inclination], [STATUS_CODE]) OUTPUT inserted.[ID] VALUES (?, ?, ?, ?, ?)\n",
      "2019-09-07 16:49:29,871 INFO sqlalchemy.engine.base.Engine (18, 2, 2, 1, 'C')\n",
      "2019-09-07 16:49:29,874 INFO sqlalchemy.engine.base.Engine INSERT INTO [SurveyReport2] ([DirectionalSurveyId], [Azimuth], [MD], [Inclination], [STATUS_CODE]) OUTPUT inserted.[ID] VALUES (?, ?, ?, ?, ?)\n",
      "2019-09-07 16:49:29,876 INFO sqlalchemy.engine.base.Engine (18, 3, 3, 1, 'C')\n",
      "2019-09-07 16:49:29,878 INFO sqlalchemy.engine.base.Engine INSERT INTO [SurveyReport2] ([DirectionalSurveyId], [Azimuth], [MD], [Inclination], [STATUS_CODE]) OUTPUT inserted.[ID] VALUES (?, ?, ?, ?, ?)\n",
      "2019-09-07 16:49:29,879 INFO sqlalchemy.engine.base.Engine (19, 2, 2, 2, 'N')\n",
      "2019-09-07 16:49:29,881 INFO sqlalchemy.engine.base.Engine INSERT INTO [SurveyReport2] ([DirectionalSurveyId], [Azimuth], [MD], [Inclination], [STATUS_CODE]) OUTPUT inserted.[ID] VALUES (?, ?, ?, ?, ?)\n",
      "2019-09-07 16:49:29,882 INFO sqlalchemy.engine.base.Engine (19, 3, 3, 2, 'N')\n",
      "2019-09-07 16:49:29,884 INFO sqlalchemy.engine.base.Engine INSERT INTO [SurveyReport2] ([DirectionalSurveyId], [Azimuth], [MD], [Inclination], [STATUS_CODE]) OUTPUT inserted.[ID] VALUES (?, ?, ?, ?, ?)\n",
      "2019-09-07 16:49:29,884 INFO sqlalchemy.engine.base.Engine (19, 4, 4, 2, 'N')\n",
      "2019-09-07 16:49:29,887 INFO sqlalchemy.engine.base.Engine INSERT INTO [SurveyReport2] ([DirectionalSurveyId], [Azimuth], [MD], [Inclination], [STATUS_CODE]) OUTPUT inserted.[ID] VALUES (?, ?, ?, ?, ?)\n",
      "2019-09-07 16:49:29,887 INFO sqlalchemy.engine.base.Engine (20, 2, 2, 2, 'N')\n",
      "2019-09-07 16:49:29,891 INFO sqlalchemy.engine.base.Engine INSERT INTO [SurveyReport2] ([DirectionalSurveyId], [Azimuth], [MD], [Inclination], [STATUS_CODE]) OUTPUT inserted.[ID] VALUES (?, ?, ?, ?, ?)\n",
      "2019-09-07 16:49:29,894 INFO sqlalchemy.engine.base.Engine (20, 3, 3, 2, 'N')\n",
      "2019-09-07 16:49:29,896 INFO sqlalchemy.engine.base.Engine INSERT INTO [SurveyReport2] ([DirectionalSurveyId], [Azimuth], [MD], [Inclination], [STATUS_CODE]) OUTPUT inserted.[ID] VALUES (?, ?, ?, ?, ?)\n",
      "2019-09-07 16:49:29,896 INFO sqlalchemy.engine.base.Engine (20, 4, 4, 2, 'N')\n",
      "2019-09-07 16:49:29,899 INFO sqlalchemy.engine.base.Engine COMMIT\n"
     ]
    }
   ],
   "source": [
    "try:\n",
    "    survey1 = Survey(API='API1', WKID='WKID1', FIPS = '0001', STATUS_CODE='C')\n",
    "\n",
    "    survey_report1 = SurveyReport(DirectionalSurveyId=survey1.ID, Azimuth=1, MD=1, Inclination=1, STATUS_CODE='C')\n",
    "    survey_report2 = SurveyReport(DirectionalSurveyId=survey1.ID, Azimuth=2, MD=2, Inclination=1, STATUS_CODE='C')\n",
    "    survey_report3 = SurveyReport(DirectionalSurveyId=survey1.ID, Azimuth=3, MD=3, Inclination=1, STATUS_CODE='C')\n",
    "\n",
    "    survey1.stations.append(survey_report1)\n",
    "    survey1.stations.append(survey_report2)\n",
    "    survey1.stations.append(survey_report3)\n",
    "\n",
    "    session.add(survey1)\n",
    "    \n",
    "    survey2 = Survey(API='API2', WKID='WKID2', FIPS = '0002', STATUS_CODE='C')\n",
    "\n",
    "    survey_report2b = SurveyReport(DirectionalSurveyId=survey2.ID, Azimuth=2, MD=2, Inclination=2, STATUS_CODE='N')\n",
    "    survey_report3b = SurveyReport(DirectionalSurveyId=survey2.ID, Azimuth=3, MD=3, Inclination=2, STATUS_CODE='N')\n",
    "    survey_report4b = SurveyReport(DirectionalSurveyId=survey2.ID, Azimuth=4, MD=4, Inclination=2, STATUS_CODE='N')\n",
    "\n",
    "    survey2.stations = [survey_report2b, survey_report3b, survey_report4b]\n",
    "\n",
    "    session.add(survey2)\n",
    "    \n",
    "    survey3 = Survey(API='API3', WKID='WKID3', FIPS = '0003', STATUS_CODE='N')\n",
    "\n",
    "    survey_report2c = SurveyReport(DirectionalSurveyId=survey3.ID, Azimuth=2, MD=2, Inclination=2, STATUS_CODE='N')\n",
    "    survey_report3c = SurveyReport(DirectionalSurveyId=survey3.ID, Azimuth=3, MD=3, Inclination=2, STATUS_CODE='N')\n",
    "    survey_report4c = SurveyReport(DirectionalSurveyId=survey3.ID, Azimuth=4, MD=4, Inclination=2, STATUS_CODE='N')\n",
    "\n",
    "    survey3.stations.extend([survey_report2c, survey_report3c, survey_report4c])\n",
    "    \n",
    "    session.add_all([survey3])\n",
    "    session.commit()\n",
    "\n",
    "#     session.add_all([survey_report1])\n",
    "#     session.commit()\n",
    "\n",
    "except Exception as e:\n",
    "    print(e)\n",
    "    session.rollback()"
   ]
  },
  {
   "cell_type": "markdown",
   "metadata": {},
   "source": [
    "# Select Using SQL ORM"
   ]
  },
  {
   "cell_type": "code",
   "execution_count": 42,
   "metadata": {},
   "outputs": [
    {
     "name": "stdout",
     "output_type": "stream",
     "text": [
      "2019-09-07 16:49:49,366 INFO sqlalchemy.engine.base.Engine BEGIN (implicit)\n",
      "2019-09-07 16:49:49,368 INFO sqlalchemy.engine.base.Engine SELECT [DirectionalSurvey2].[ID] AS [DirectionalSurvey2_ID], [DirectionalSurvey2].[API] AS [DirectionalSurvey2_API], [DirectionalSurvey2].[WKID] AS [DirectionalSurvey2_WKID], [DirectionalSurvey2].[FIPS] AS [DirectionalSurvey2_FIPS], [DirectionalSurvey2].[STATUS_CODE] AS [DirectionalSurvey2_STATUS_CODE] \n",
      "FROM [DirectionalSurvey2] \n",
      "WHERE [DirectionalSurvey2].[STATUS_CODE] IN (?, ?) AND (EXISTS (SELECT 1 \n",
      "FROM [SurveyReport2] \n",
      "WHERE [DirectionalSurvey2].[ID] = [SurveyReport2].[DirectionalSurveyId]))\n",
      "2019-09-07 16:49:49,370 INFO sqlalchemy.engine.base.Engine ('N', 'C')\n",
      "2019-09-07 16:49:49,620 INFO sqlalchemy.engine.base.Engine SELECT [SurveyReport2].[DirectionalSurveyId] AS [SurveyReport2_DirectionalSurveyId], [SurveyReport2].[ID] AS [SurveyReport2_ID], [SurveyReport2].[Azimuth] AS [SurveyReport2_Azimuth], [SurveyReport2].[MD] AS [SurveyReport2_MD], [SurveyReport2].[Inclination] AS [SurveyReport2_Inclination], [SurveyReport2].[STATUS_CODE] AS [SurveyReport2_STATUS_CODE] \n",
      "FROM [SurveyReport2] \n",
      "WHERE [SurveyReport2].[DirectionalSurveyId] IN (?, ?, ?) ORDER BY [SurveyReport2].[DirectionalSurveyId]\n",
      "2019-09-07 16:49:49,621 INFO sqlalchemy.engine.base.Engine (18, 19, 20)\n",
      "S: 18, [Report(ID=16, FK=18, STATUS=C), Report(ID=17, FK=18, STATUS=C), Report(ID=18, FK=18, STATUS=C)]\n",
      "lv: 18, v:18\n",
      "lv: API1, v:API1\n",
      "lv: WKID1, v:WKID1\n",
      "lv: 0001, v:0001\n",
      "lv: C, v:C\n",
      "lv: [Report(ID=16, FK=18, STATUS=C), Report(ID=17, FK=18, STATUS=C), Report(ID=18, FK=18, STATUS=C)], v:[Report(ID=16, FK=18, STATUS=C), Report(ID=17, FK=18, STATUS=C), Report(ID=18, FK=18, STATUS=C)]\n",
      "S: 19, [Report(ID=19, FK=19, STATUS=N), Report(ID=20, FK=19, STATUS=N), Report(ID=21, FK=19, STATUS=N)]\n",
      "lv: 19, v:19\n",
      "lv: API2, v:API2\n",
      "lv: WKID2, v:WKID2\n",
      "lv: 0002, v:0002\n",
      "lv: C, v:C\n",
      "lv: [Report(ID=19, FK=19, STATUS=N), Report(ID=20, FK=19, STATUS=N), Report(ID=21, FK=19, STATUS=N)], v:[Report(ID=19, FK=19, STATUS=N), Report(ID=20, FK=19, STATUS=N), Report(ID=21, FK=19, STATUS=N)]\n",
      "S: 20, [Report(ID=22, FK=20, STATUS=N), Report(ID=23, FK=20, STATUS=N), Report(ID=24, FK=20, STATUS=N)]\n",
      "lv: 20, v:20\n",
      "lv: API3, v:API3\n",
      "lv: WKID3, v:WKID3\n",
      "lv: 0003, v:0003\n",
      "lv: N, v:N\n",
      "lv: [Report(ID=22, FK=20, STATUS=N), Report(ID=23, FK=20, STATUS=N), Report(ID=24, FK=20, STATUS=N)], v:[Report(ID=22, FK=20, STATUS=N), Report(ID=23, FK=20, STATUS=N), Report(ID=24, FK=20, STATUS=N)]\n"
     ]
    }
   ],
   "source": [
    "my_surveys = session.query(Survey) \\\n",
    "                .options(selectinload(Survey.stations))\\\n",
    "                .filter(Survey.STATUS_CODE.in_(['N', 'C']))\\\n",
    "                .filter(Survey.stations.any())\\\n",
    "                .all()\n",
    "\n",
    "# List of Survey\n",
    "try:\n",
    "    for s in my_surveys:\n",
    "        print(f\"S: {s.ID}, {s.stations}\")\n",
    "        in_state = inspect(s)\n",
    "        \n",
    "        for ar in in_state.attrs:\n",
    "            print(f\"lv: {ar.loaded_value}, v:{ar.value}\")\n",
    "        #print(s.__table__.columns)\n",
    "        \n",
    "#         for sr in s.stations:\n",
    "#             print(f\"SR: {sr.ID}, {sr.STATUS_CODE}\")\n",
    "#             print(type(sr))\n",
    "#             print(sr.__table__.columns)\n",
    "            \n",
    "except Exception as e:\n",
    "    print(f\"{e}\")\n"
   ]
  },
  {
   "cell_type": "markdown",
   "metadata": {},
   "source": [
    "# Select Using SQL Core"
   ]
  },
  {
   "cell_type": "code",
   "execution_count": 43,
   "metadata": {
    "scrolled": true
   },
   "outputs": [
    {
     "name": "stdout",
     "output_type": "stream",
     "text": [
      "2019-09-07 16:49:55,650 INFO sqlalchemy.engine.base.Engine SELECT [DirectionalSurvey2].[ID], [DirectionalSurvey2].[API], [DirectionalSurvey2].[WKID], [DirectionalSurvey2].[FIPS], [DirectionalSurvey2].[STATUS_CODE], [SurveyReport2].[ID] AS [ReportId] \n",
      "FROM [DirectionalSurvey2] JOIN [SurveyReport2] ON [DirectionalSurvey2].[ID] = [SurveyReport2].[DirectionalSurveyId] \n",
      "WHERE [DirectionalSurvey2].[API] LIKE ? AND [SurveyReport2].[STATUS_CODE] IN (?, ?) AND [SurveyReport2].[Azimuth] >= ?\n",
      "2019-09-07 16:49:55,652 INFO sqlalchemy.engine.base.Engine ('API%', 'C', 'N', 6)\n"
     ]
    }
   ],
   "source": [
    "stmt = select([surveys, points.c.ID.label('ReportId')])\\\n",
    "        .select_from(surveys.join(points))\\\n",
    "        .where(\n",
    "            and_(\n",
    "                surveys.c.API.like('API%'),\n",
    "                points.c.STATUS_CODE.in_(['C', 'N']),\n",
    "                points.c.Azimuth >= 6\n",
    "            )\n",
    "        )\n",
    "\n",
    "cursor = conn.execute(stmt)\n",
    "\n",
    "# List of RowProxy\n",
    "for r in cursor:\n",
    "    print(f\"{type(r)}, {r.keys()}, {r[surveys.c.ID]}, {r['ReportId']}\")\n",
    "    print(json.dumps(r.items()))\n",
    "    \n",
    "cursor.close()"
   ]
  },
  {
   "cell_type": "code",
   "execution_count": 44,
   "metadata": {},
   "outputs": [
    {
     "name": "stdout",
     "output_type": "stream",
     "text": [
      "2019-09-07 16:50:01,421 INFO sqlalchemy.engine.base.Engine SELECT [DirectionalSurvey2].[ID], [DirectionalSurvey2].[API], [DirectionalSurvey2].[WKID], [DirectionalSurvey2].[FIPS], [DirectionalSurvey2].[STATUS_CODE], [SurveyReport2].[Azimuth] \n",
      "FROM [DirectionalSurvey2] JOIN [SurveyReport2] ON [DirectionalSurvey2].[ID] = [SurveyReport2].[DirectionalSurveyId] \n",
      "WHERE [DirectionalSurvey2].[API] LIKE ? AND [SurveyReport2].[STATUS_CODE] IN (?, ?) AND [SurveyReport2].[Azimuth] >= ?\n",
      "2019-09-07 16:50:01,422 INFO sqlalchemy.engine.base.Engine ('API%', 'C', 'N', 6)\n"
     ]
    }
   ],
   "source": [
    "stmt2 = select([surveys, points.c.Azimuth])\\\n",
    "        .select_from(surveys.join(points))\\\n",
    "        .where(\n",
    "            and_(\n",
    "                surveys.c.API.like('API%'),\n",
    "                points.c.STATUS_CODE.in_(['C', 'N']),\n",
    "                points.c.Azimuth >= 6\n",
    "            )\n",
    "        )\n",
    "\n",
    "try:\n",
    "    cursor = conn.execute(stmt2)\n",
    "\n",
    "    # List of RowProxy\n",
    "    for r in cursor:\n",
    "        print(f\"K:{r.keys()}, KV: {r.items()}\")\n",
    "        print(json.dumps(r.items()))\n",
    "        \n",
    "except Exception as e:\n",
    "    print(f\"{e}\")\n",
    "finally:\n",
    "    cursor.close()"
   ]
  }
 ],
 "metadata": {
  "kernelspec": {
   "display_name": "Python 3",
   "language": "python",
   "name": "python3"
  },
  "language_info": {
   "codemirror_mode": {
    "name": "ipython",
    "version": 3
   },
   "file_extension": ".py",
   "mimetype": "text/x-python",
   "name": "python",
   "nbconvert_exporter": "python",
   "pygments_lexer": "ipython3",
   "version": "3.6.8"
  }
 },
 "nbformat": 4,
 "nbformat_minor": 2
}

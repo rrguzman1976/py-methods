{
 "cells": [
  {
   "cell_type": "markdown",
   "metadata": {},
   "source": [
    "# Basic SQLAlchemy SQL Expressions"
   ]
  },
  {
   "cell_type": "code",
   "execution_count": 81,
   "metadata": {},
   "outputs": [],
   "source": [
    "import urllib\n",
    "from os import environ\n",
    "\n",
    "from sqlalchemy import create_engine, func, desc, cast, JSON\n",
    "from sqlalchemy import type_coerce\n",
    "from sqlalchemy import Table, Column, Integer, String, MetaData, ForeignKey\n",
    "from sqlalchemy.sql import union, select, and_, or_, not_, text\n",
    "from sqlalchemy.sql import bindparam\n",
    "from sqlalchemy.sql.functions import coalesce"
   ]
  },
  {
   "cell_type": "markdown",
   "metadata": {},
   "source": [
    "# Setup"
   ]
  },
  {
   "cell_type": "code",
   "execution_count": 131,
   "metadata": {},
   "outputs": [],
   "source": [
    "driver = environ.get('SQL_DRIVER', '{ODBC Driver 17 for SQL Server}')\n",
    "host = environ.get('SQL_HOST', 'sql-fabulous')\n",
    "db = environ.get('SQL_DB', 'ScratchDB')\n",
    "user = environ.get('SQL_USER', 'sa')\n",
    "pw = environ.get('SQL_PASSWORD', 'HelloWorld1')\n",
    "\n",
    "con_str = f'DRIVER={driver};SERVER={host};DATABASE={db};UID={user};PWD={pw}'\n",
    "\n",
    "params = urllib.parse.quote_plus(con_str)  \n",
    "\n",
    "# 'echo' emits generated sql\n",
    "engine = create_engine(f\"mssql+pyodbc:///?odbc_connect={params}\", echo=True)"
   ]
  },
  {
   "cell_type": "markdown",
   "metadata": {},
   "source": [
    "# Define Table Schema"
   ]
  },
  {
   "cell_type": "code",
   "execution_count": 132,
   "metadata": {},
   "outputs": [
    {
     "name": "stdout",
     "output_type": "stream",
     "text": [
      "2019-08-24 17:40:59,714 INFO sqlalchemy.engine.base.Engine SELECT CAST(SERVERPROPERTY('ProductVersion') AS VARCHAR)\n",
      "2019-08-24 17:40:59,715 INFO sqlalchemy.engine.base.Engine ()\n",
      "2019-08-24 17:40:59,721 INFO sqlalchemy.engine.base.Engine SELECT schema_name()\n",
      "2019-08-24 17:40:59,721 INFO sqlalchemy.engine.base.Engine ()\n",
      "2019-08-24 17:40:59,794 INFO sqlalchemy.engine.base.Engine SELECT CAST('test plain returns' AS VARCHAR(60)) AS anon_1\n",
      "2019-08-24 17:40:59,795 INFO sqlalchemy.engine.base.Engine ()\n",
      "2019-08-24 17:40:59,797 INFO sqlalchemy.engine.base.Engine SELECT CAST('test unicode returns' AS NVARCHAR(60)) AS anon_1\n",
      "2019-08-24 17:40:59,798 INFO sqlalchemy.engine.base.Engine ()\n",
      "2019-08-24 17:40:59,805 INFO sqlalchemy.engine.base.Engine SELECT [INFORMATION_SCHEMA].[COLUMNS].[TABLE_SCHEMA], [INFORMATION_SCHEMA].[COLUMNS].[TABLE_NAME], [INFORMATION_SCHEMA].[COLUMNS].[COLUMN_NAME], [INFORMATION_SCHEMA].[COLUMNS].[IS_NULLABLE], [INFORMATION_SCHEMA].[COLUMNS].[DATA_TYPE], [INFORMATION_SCHEMA].[COLUMNS].[ORDINAL_POSITION], [INFORMATION_SCHEMA].[COLUMNS].[CHARACTER_MAXIMUM_LENGTH], [INFORMATION_SCHEMA].[COLUMNS].[NUMERIC_PRECISION], [INFORMATION_SCHEMA].[COLUMNS].[NUMERIC_SCALE], [INFORMATION_SCHEMA].[COLUMNS].[COLUMN_DEFAULT], [INFORMATION_SCHEMA].[COLUMNS].[COLLATION_NAME] \n",
      "FROM [INFORMATION_SCHEMA].[COLUMNS] \n",
      "WHERE [INFORMATION_SCHEMA].[COLUMNS].[TABLE_NAME] = CAST(? AS NVARCHAR(max)) AND [INFORMATION_SCHEMA].[COLUMNS].[TABLE_SCHEMA] = CAST(? AS NVARCHAR(max))\n",
      "2019-08-24 17:40:59,806 INFO sqlalchemy.engine.base.Engine ('users', 'dbo')\n",
      "2019-08-24 17:40:59,811 INFO sqlalchemy.engine.base.Engine SELECT [INFORMATION_SCHEMA].[COLUMNS].[TABLE_SCHEMA], [INFORMATION_SCHEMA].[COLUMNS].[TABLE_NAME], [INFORMATION_SCHEMA].[COLUMNS].[COLUMN_NAME], [INFORMATION_SCHEMA].[COLUMNS].[IS_NULLABLE], [INFORMATION_SCHEMA].[COLUMNS].[DATA_TYPE], [INFORMATION_SCHEMA].[COLUMNS].[ORDINAL_POSITION], [INFORMATION_SCHEMA].[COLUMNS].[CHARACTER_MAXIMUM_LENGTH], [INFORMATION_SCHEMA].[COLUMNS].[NUMERIC_PRECISION], [INFORMATION_SCHEMA].[COLUMNS].[NUMERIC_SCALE], [INFORMATION_SCHEMA].[COLUMNS].[COLUMN_DEFAULT], [INFORMATION_SCHEMA].[COLUMNS].[COLLATION_NAME] \n",
      "FROM [INFORMATION_SCHEMA].[COLUMNS] \n",
      "WHERE [INFORMATION_SCHEMA].[COLUMNS].[TABLE_NAME] = CAST(? AS NVARCHAR(max)) AND [INFORMATION_SCHEMA].[COLUMNS].[TABLE_SCHEMA] = CAST(? AS NVARCHAR(max))\n",
      "2019-08-24 17:40:59,812 INFO sqlalchemy.engine.base.Engine ('addresses', 'dbo')\n"
     ]
    }
   ],
   "source": [
    "metadata = MetaData()\n",
    "\n",
    "users = Table('users', metadata,\n",
    "            Column('id', Integer, autoincrement=False, primary_key=True),\n",
    "            Column('name', String(50), nullable=False),\n",
    "            Column('fullname', String(255), nullable=False),\n",
    "        )\n",
    "\n",
    "addresses = Table('addresses', metadata,\n",
    "                Column('id', Integer, autoincrement=False, primary_key=True),\n",
    "                Column('user_id', None, ForeignKey('users.id')),\n",
    "                Column('email_address', String(255), nullable=False)\n",
    "            )\n",
    "\n",
    "metadata.create_all(engine, checkfirst=True)"
   ]
  },
  {
   "cell_type": "code",
   "execution_count": 133,
   "metadata": {},
   "outputs": [],
   "source": [
    "# Establish connection\n",
    "conn = engine.connect()"
   ]
  },
  {
   "cell_type": "markdown",
   "metadata": {},
   "source": [
    "# Inserts"
   ]
  },
  {
   "cell_type": "code",
   "execution_count": 5,
   "metadata": {},
   "outputs": [
    {
     "name": "stdout",
     "output_type": "stream",
     "text": [
      "2019-08-24 15:18:34,466 INFO sqlalchemy.engine.base.Engine INSERT INTO users (id, name, fullname) VALUES (?, ?, ?)\n",
      "2019-08-24 15:18:34,470 INFO sqlalchemy.engine.base.Engine (1, 'jack', 'Jack Jones')\n",
      "2019-08-24 15:18:34,475 INFO sqlalchemy.engine.base.Engine COMMIT\n"
     ]
    },
    {
     "data": {
      "text/plain": [
       "<sqlalchemy.engine.result.ResultProxy at 0x7f210b7fb978>"
      ]
     },
     "execution_count": 5,
     "metadata": {},
     "output_type": "execute_result"
    }
   ],
   "source": [
    "ins = users.insert().values(id=1, name='jack', fullname='Jack Jones')\n",
    "conn.execute(ins)"
   ]
  },
  {
   "cell_type": "code",
   "execution_count": 6,
   "metadata": {},
   "outputs": [
    {
     "name": "stdout",
     "output_type": "stream",
     "text": [
      "2019-08-24 15:18:34,664 INFO sqlalchemy.engine.base.Engine INSERT INTO users (id, name, fullname) VALUES (?, ?, ?)\n",
      "2019-08-24 15:18:34,665 INFO sqlalchemy.engine.base.Engine (2, 'wendy', 'Wendy Williams')\n",
      "2019-08-24 15:18:34,668 INFO sqlalchemy.engine.base.Engine COMMIT\n"
     ]
    },
    {
     "data": {
      "text/plain": [
       "<sqlalchemy.engine.result.ResultProxy at 0x7f212029a828>"
      ]
     },
     "execution_count": 6,
     "metadata": {},
     "output_type": "execute_result"
    }
   ],
   "source": [
    "ins = users.insert()\n",
    "conn.execute(ins, id=2, name='wendy', fullname='Wendy Williams')"
   ]
  },
  {
   "cell_type": "code",
   "execution_count": 7,
   "metadata": {},
   "outputs": [
    {
     "name": "stdout",
     "output_type": "stream",
     "text": [
      "2019-08-24 15:18:34,850 INFO sqlalchemy.engine.base.Engine INSERT INTO addresses (id, user_id, email_address) VALUES (?, ?, ?)\n",
      "2019-08-24 15:18:34,851 INFO sqlalchemy.engine.base.Engine ((1, 1, 'jack@yahoo.com'), (2, 1, 'jack@msn.com'), (3, 2, 'www@www.org'), (4, 2, 'wendy@aol.com'))\n",
      "2019-08-24 15:18:34,859 INFO sqlalchemy.engine.base.Engine COMMIT\n"
     ]
    },
    {
     "data": {
      "text/plain": [
       "<sqlalchemy.engine.result.ResultProxy at 0x7f21092cafd0>"
      ]
     },
     "execution_count": 7,
     "metadata": {},
     "output_type": "execute_result"
    }
   ],
   "source": [
    "# Multi-insert\n",
    "# Can also update(), delete()\n",
    "conn.execute(addresses.insert(), [\n",
    "        {'id': 1, 'user_id': 1, 'email_address' : 'jack@yahoo.com'},\n",
    "        {'id': 2, 'user_id': 1, 'email_address' : 'jack@msn.com'},\n",
    "        {'id': 3, 'user_id': 2, 'email_address' : 'www@www.org'},\n",
    "        {'id': 4, 'user_id': 2, 'email_address' : 'wendy@aol.com'},\n",
    "])"
   ]
  },
  {
   "cell_type": "markdown",
   "metadata": {},
   "source": [
    "# Select"
   ]
  },
  {
   "cell_type": "markdown",
   "metadata": {},
   "source": [
    "### Make sure to close result cursors as below."
   ]
  },
  {
   "cell_type": "code",
   "execution_count": 8,
   "metadata": {},
   "outputs": [
    {
     "name": "stdout",
     "output_type": "stream",
     "text": [
      "2019-08-24 15:18:34,996 INFO sqlalchemy.engine.base.Engine SELECT users.id, users.name, users.fullname \n",
      "FROM users\n",
      "2019-08-24 15:18:34,998 INFO sqlalchemy.engine.base.Engine ()\n",
      "(1, 'jack', 'Jack Jones')\n",
      "name: jack; fullname: Jack Jones\n",
      "name: jack; fullname: Jack Jones\n",
      "name: jack, fullname:Jack Jones\n",
      "(2, 'wendy', 'Wendy Williams')\n",
      "name: wendy; fullname: Wendy Williams\n",
      "name: wendy; fullname: Wendy Williams\n",
      "name: wendy, fullname:Wendy Williams\n"
     ]
    }
   ],
   "source": [
    "s = select([users])\n",
    "result = conn.execute(s) # returns cursor\n",
    "\n",
    "for r in result:\n",
    "    print(r)\n",
    "    print(f\"name: {r['name']}; fullname: {r['fullname']}\")\n",
    "    print(f\"name: {r[1]}; fullname: {r[2]}\")\n",
    "    print(f\"name: {r[users.c.name]}, fullname:{r[users.c.fullname]}\")\n",
    "          \n",
    "result.close()"
   ]
  },
  {
   "cell_type": "code",
   "execution_count": 9,
   "metadata": {},
   "outputs": [
    {
     "name": "stdout",
     "output_type": "stream",
     "text": [
      "2019-08-24 15:18:35,170 INFO sqlalchemy.engine.base.Engine SELECT users.name, users.fullname \n",
      "FROM users\n",
      "2019-08-24 15:18:35,174 INFO sqlalchemy.engine.base.Engine ()\n",
      "('jack', 'Jack Jones')\n",
      "('wendy', 'Wendy Williams')\n"
     ]
    }
   ],
   "source": [
    "# Explicit columns\n",
    "s = select([users.c.name, users.c.fullname])\n",
    "result = conn.execute(s)\n",
    "\n",
    "for row in result:\n",
    "    print(row)\n",
    "    \n",
    "result.close()"
   ]
  },
  {
   "cell_type": "code",
   "execution_count": 10,
   "metadata": {},
   "outputs": [
    {
     "name": "stdout",
     "output_type": "stream",
     "text": [
      "2019-08-24 15:18:35,283 INFO sqlalchemy.engine.base.Engine SELECT users.id, users.name, users.fullname, addresses.id, addresses.user_id, addresses.email_address \n",
      "FROM users, addresses\n",
      "2019-08-24 15:18:35,284 INFO sqlalchemy.engine.base.Engine ()\n",
      "(1, 'jack', 'Jack Jones', 1, 1, 'jack@yahoo.com')\n",
      "(1, 'jack', 'Jack Jones', 2, 1, 'jack@msn.com')\n",
      "(1, 'jack', 'Jack Jones', 3, 2, 'www@www.org')\n",
      "(1, 'jack', 'Jack Jones', 4, 2, 'wendy@aol.com')\n",
      "(2, 'wendy', 'Wendy Williams', 1, 1, 'jack@yahoo.com')\n",
      "(2, 'wendy', 'Wendy Williams', 2, 1, 'jack@msn.com')\n",
      "(2, 'wendy', 'Wendy Williams', 3, 2, 'www@www.org')\n",
      "(2, 'wendy', 'Wendy Williams', 4, 2, 'wendy@aol.com')\n"
     ]
    }
   ],
   "source": [
    "# Cross join\n",
    "result = conn.execute(select([users, addresses]))\n",
    "for row in result:\n",
    "    print(row)\n",
    "    \n",
    "result.close()"
   ]
  },
  {
   "cell_type": "code",
   "execution_count": 11,
   "metadata": {},
   "outputs": [
    {
     "name": "stdout",
     "output_type": "stream",
     "text": [
      "2019-08-24 15:18:35,416 INFO sqlalchemy.engine.base.Engine SELECT users.id, users.name, users.fullname, addresses.id, addresses.user_id, addresses.email_address \n",
      "FROM users, addresses \n",
      "WHERE users.id = addresses.user_id\n",
      "2019-08-24 15:18:35,417 INFO sqlalchemy.engine.base.Engine ()\n",
      "(1, 'jack', 'Jack Jones', 1, 1, 'jack@yahoo.com')\n",
      "(1, 'jack', 'Jack Jones', 2, 1, 'jack@msn.com')\n",
      "(2, 'wendy', 'Wendy Williams', 3, 2, 'www@www.org')\n",
      "(2, 'wendy', 'Wendy Williams', 4, 2, 'wendy@aol.com')\n"
     ]
    }
   ],
   "source": [
    "# Inner join\n",
    "result = conn.execute(\n",
    "            select([users, addresses])\\\n",
    "            .where(users.c.id == addresses.c.user_id)\n",
    "        )\n",
    "for row in result:\n",
    "    print(row)\n",
    "    \n",
    "result.close()"
   ]
  },
  {
   "cell_type": "markdown",
   "metadata": {},
   "source": [
    "# Operators"
   ]
  },
  {
   "cell_type": "code",
   "execution_count": 12,
   "metadata": {},
   "outputs": [],
   "source": [
    "# \"== None\" becomes \"IS / IS NOT NULL\"\n"
   ]
  },
  {
   "cell_type": "markdown",
   "metadata": {},
   "source": [
    "# Conjunctions"
   ]
  },
  {
   "cell_type": "code",
   "execution_count": 13,
   "metadata": {},
   "outputs": [
    {
     "name": "stdout",
     "output_type": "stream",
     "text": [
      "2019-08-24 15:18:35,773 INFO sqlalchemy.engine.base.Engine SELECT users.fullname + ? + addresses.email_address AS title \n",
      "FROM users, addresses \n",
      "WHERE users.name LIKE ? AND users.id = addresses.user_id AND (addresses.email_address = ? OR addresses.email_address = ?) AND users.id <= ?\n",
      "2019-08-24 15:18:35,774 INFO sqlalchemy.engine.base.Engine (', ', 'j%', 'wendy@aol.com', 'jack@yahoo.com', 5)\n",
      "('Jack Jones, jack@yahoo.com',)\n"
     ]
    }
   ],
   "source": [
    "stmt = select([(users.c.fullname + \", \" + addresses.c.email_address).label('title')])\\\n",
    "        .where(and_(\n",
    "            users.c.name.like('j%'),\n",
    "            users.c.id == addresses.c.user_id,\n",
    "            or_(\n",
    "                addresses.c.email_address == 'wendy@aol.com',\n",
    "                addresses.c.email_address == 'jack@yahoo.com'\n",
    "            ),\n",
    "            not_(users.c.id > 5)\n",
    "        ))\n",
    "\n",
    "result = conn.execute(stmt)\n",
    "\n",
    "for r in result:\n",
    "    print(r)\n",
    "    \n",
    "result.close()"
   ]
  },
  {
   "cell_type": "code",
   "execution_count": 14,
   "metadata": {},
   "outputs": [
    {
     "name": "stdout",
     "output_type": "stream",
     "text": [
      "2019-08-24 15:18:36,006 INFO sqlalchemy.engine.base.Engine SELECT users.fullname + ? + addresses.email_address AS title \n",
      "FROM users, addresses \n",
      "WHERE users.name LIKE ? AND users.id = addresses.user_id AND (addresses.email_address = ? OR addresses.email_address = ?) AND users.id <= ?\n",
      "2019-08-24 15:18:36,007 INFO sqlalchemy.engine.base.Engine (', ', 'j%', 'wendy@aol.com', 'jack@yahoo.com', 5)\n",
      "('Jack Jones, jack@yahoo.com',)\n"
     ]
    }
   ],
   "source": [
    "# Equivalent using multiple where clauses (method chaining)\n",
    "stmt = select([(users.c.fullname + \", \" + addresses.c.email_address).label('title')])\\\n",
    "        .where(users.c.name.like('j%'))\\\n",
    "        .where(users.c.id == addresses.c.user_id)\\\n",
    "        .where(or_(\n",
    "                addresses.c.email_address == 'wendy@aol.com',\n",
    "                addresses.c.email_address == 'jack@yahoo.com'\n",
    "            ))\\\n",
    "        .where(not_(users.c.id > 5))\n",
    "\n",
    "result = conn.execute(stmt)\n",
    "\n",
    "for r in result:\n",
    "    print(r)\n",
    "    \n",
    "result.close()"
   ]
  },
  {
   "cell_type": "markdown",
   "metadata": {},
   "source": [
    "# Explicit SQL with Parameters"
   ]
  },
  {
   "cell_type": "code",
   "execution_count": 15,
   "metadata": {},
   "outputs": [
    {
     "name": "stdout",
     "output_type": "stream",
     "text": [
      "2019-08-24 15:18:36,116 INFO sqlalchemy.engine.base.Engine SELECT users.fullname + ', ' + addresses.email_address AS title FROM users, addresses WHERE users.id = addresses.user_id AND users.name BETWEEN ? AND ? AND (addresses.email_address LIKE ? OR addresses.email_address LIKE ?)\n",
      "2019-08-24 15:18:36,118 INFO sqlalchemy.engine.base.Engine ('m', 'z', '%@aol.com', '%@msn.com')\n",
      "('Wendy Williams, wendy@aol.com',)\n"
     ]
    }
   ],
   "source": [
    "# Explicit T-SQL\n",
    "s = text(\n",
    "    \"SELECT users.fullname + ', ' + addresses.email_address AS title \"\n",
    "    \"FROM users, addresses \"\n",
    "    \"WHERE users.id = addresses.user_id \"\n",
    "        \"AND users.name BETWEEN :x AND :y \"\n",
    "        \"AND (addresses.email_address LIKE :e1 \"\n",
    "                \"OR addresses.email_address LIKE :e2)\")\n",
    "# Or: s2 = s.bindparams(x='m', y='z', e1='%@aol.com', e2='%@msn.com')\n",
    "r = conn.execute(s, x='m', y='z', e1='%@aol.com', e2='%@msn.com')\n",
    "\n",
    "for row in r:\n",
    "    print(row)\n",
    "r.close()"
   ]
  },
  {
   "cell_type": "markdown",
   "metadata": {},
   "source": [
    "# Group By / Order By"
   ]
  },
  {
   "cell_type": "code",
   "execution_count": 16,
   "metadata": {},
   "outputs": [
    {
     "name": "stdout",
     "output_type": "stream",
     "text": [
      "2019-08-24 15:18:36,258 INFO sqlalchemy.engine.base.Engine SELECT addresses.user_id, count(addresses.id) AS num_addresses \n",
      "FROM addresses GROUP BY addresses.user_id ORDER BY addresses.user_id, num_addresses DESC\n",
      "2019-08-24 15:18:36,259 INFO sqlalchemy.engine.base.Engine ()\n"
     ]
    },
    {
     "data": {
      "text/plain": [
       "[(1, 2), (2, 2)]"
      ]
     },
     "execution_count": 16,
     "metadata": {},
     "output_type": "execute_result"
    }
   ],
   "source": [
    "stmt = select([addresses.c.user_id,\n",
    "                func.count(addresses.c.id).label('num_addresses')]).\\\n",
    "        group_by(addresses.c.user_id)\\\n",
    "        .order_by(addresses.c.user_id, desc(\"num_addresses\"))\n",
    "\n",
    "conn.execute(stmt).fetchall()"
   ]
  },
  {
   "cell_type": "markdown",
   "metadata": {},
   "source": [
    "# Table Aliasing / Sub-Queries"
   ]
  },
  {
   "cell_type": "code",
   "execution_count": 17,
   "metadata": {},
   "outputs": [
    {
     "name": "stdout",
     "output_type": "stream",
     "text": [
      "2019-08-24 15:18:36,370 INFO sqlalchemy.engine.base.Engine SELECT users.id, users.name, users.fullname \n",
      "FROM users, addresses AS a1, addresses AS a2 \n",
      "WHERE users.id = a1.user_id AND users.id = a2.user_id AND a1.email_address = ? AND a2.email_address = ?\n",
      "2019-08-24 15:18:36,371 INFO sqlalchemy.engine.base.Engine ('jack@msn.com', 'jack@yahoo.com')\n"
     ]
    },
    {
     "data": {
      "text/plain": [
       "[(1, 'jack', 'Jack Jones')]"
      ]
     },
     "execution_count": 17,
     "metadata": {},
     "output_type": "execute_result"
    }
   ],
   "source": [
    "a1 = addresses.alias('a1')\n",
    "a2 = addresses.alias('a2')\n",
    "s = select([users]).\\\n",
    "    where(and_(\n",
    "            users.c.id == a1.c.user_id,\n",
    "            users.c.id == a2.c.user_id,\n",
    "            a1.c.email_address == 'jack@msn.com',\n",
    "            a2.c.email_address == 'jack@yahoo.com'\n",
    "    ))\n",
    "\n",
    "conn.execute(s).fetchall()"
   ]
  },
  {
   "cell_type": "code",
   "execution_count": 18,
   "metadata": {},
   "outputs": [
    {
     "name": "stdout",
     "output_type": "stream",
     "text": [
      "2019-08-24 15:18:36,491 INFO sqlalchemy.engine.base.Engine SELECT users.name \n",
      "FROM users, (SELECT users.id AS id, users.name AS name, users.fullname AS fullname \n",
      "FROM users, addresses AS a1, addresses AS a2 \n",
      "WHERE users.id = a1.user_id AND users.id = a2.user_id AND a1.email_address = ? AND a2.email_address = ?) AS anon_1 \n",
      "WHERE users.id = anon_1.id\n",
      "2019-08-24 15:18:36,492 INFO sqlalchemy.engine.base.Engine ('jack@msn.com', 'jack@yahoo.com')\n"
     ]
    },
    {
     "data": {
      "text/plain": [
       "[('jack',)]"
      ]
     },
     "execution_count": 18,
     "metadata": {},
     "output_type": "execute_result"
    }
   ],
   "source": [
    "addresses_subq = s.alias()\n",
    "s = select([users.c.name])\\\n",
    "    .where(users.c.id == addresses_subq.c.id)\n",
    "conn.execute(s).fetchall()"
   ]
  },
  {
   "cell_type": "markdown",
   "metadata": {},
   "source": [
    "# Joins"
   ]
  },
  {
   "cell_type": "code",
   "execution_count": 19,
   "metadata": {},
   "outputs": [
    {
     "name": "stdout",
     "output_type": "stream",
     "text": [
      "2019-08-24 15:18:36,613 INFO sqlalchemy.engine.base.Engine SELECT users.fullname \n",
      "FROM users JOIN addresses ON users.id = addresses.user_id\n",
      "2019-08-24 15:18:36,615 INFO sqlalchemy.engine.base.Engine ()\n"
     ]
    },
    {
     "data": {
      "text/plain": [
       "[('Jack Jones',), ('Jack Jones',), ('Wendy Williams',), ('Wendy Williams',)]"
      ]
     },
     "execution_count": 19,
     "metadata": {},
     "output_type": "execute_result"
    }
   ],
   "source": [
    "# Can also use outerjoin()\n",
    "s = select([users.c.fullname])\\\n",
    "        .select_from(\n",
    "            users.join(addresses)\n",
    "    )\n",
    "conn.execute(s).fetchall()"
   ]
  },
  {
   "cell_type": "code",
   "execution_count": 20,
   "metadata": {},
   "outputs": [
    {
     "name": "stdout",
     "output_type": "stream",
     "text": [
      "2019-08-24 15:18:36,735 INFO sqlalchemy.engine.base.Engine SELECT users.id, users.name, users.fullname, addresses.email_address \n",
      "FROM users JOIN addresses ON addresses.email_address LIKE users.name + ?\n",
      "2019-08-24 15:18:36,737 INFO sqlalchemy.engine.base.Engine ('%',)\n"
     ]
    },
    {
     "data": {
      "text/plain": [
       "[(1, 'jack', 'Jack Jones', 'jack@yahoo.com'),\n",
       " (1, 'jack', 'Jack Jones', 'jack@msn.com'),\n",
       " (2, 'wendy', 'Wendy Williams', 'wendy@aol.com')]"
      ]
     },
     "execution_count": 20,
     "metadata": {},
     "output_type": "execute_result"
    }
   ],
   "source": [
    "s = select([users, addresses.c.email_address])\\\n",
    "        .select_from(\n",
    "            users.join(addresses,\n",
    "                addresses.c.email_address.like(users.c.name + '%'))\n",
    "    )\n",
    "conn.execute(s).fetchall()"
   ]
  },
  {
   "cell_type": "markdown",
   "metadata": {},
   "source": [
    "# Functions"
   ]
  },
  {
   "cell_type": "code",
   "execution_count": 21,
   "metadata": {},
   "outputs": [
    {
     "name": "stdout",
     "output_type": "stream",
     "text": [
      "now()\n",
      "CURRENT_TIMESTAMP\n"
     ]
    }
   ],
   "source": [
    "print(func.now())\n",
    "print(func.current_timestamp())"
   ]
  },
  {
   "cell_type": "code",
   "execution_count": 22,
   "metadata": {},
   "outputs": [
    {
     "name": "stdout",
     "output_type": "stream",
     "text": [
      "2019-08-24 15:18:37,000 INFO sqlalchemy.engine.base.Engine SELECT max(addresses.email_address) AS maxemail \n",
      "FROM addresses\n",
      "2019-08-24 15:18:37,002 INFO sqlalchemy.engine.base.Engine ()\n"
     ]
    },
    {
     "data": {
      "text/plain": [
       "'www@www.org'"
      ]
     },
     "execution_count": 22,
     "metadata": {},
     "output_type": "execute_result"
    }
   ],
   "source": [
    "conn.execute(\n",
    "    select([\n",
    "        func.max(addresses.c.email_address, type_=String).\n",
    "            label('maxemail')\n",
    "        ])\n",
    ").scalar()"
   ]
  },
  {
   "cell_type": "markdown",
   "metadata": {},
   "source": [
    "# Window Functions"
   ]
  },
  {
   "cell_type": "code",
   "execution_count": 23,
   "metadata": {},
   "outputs": [
    {
     "name": "stdout",
     "output_type": "stream",
     "text": [
      "2019-08-24 15:18:37,124 INFO sqlalchemy.engine.base.Engine SELECT users.id, row_number() OVER (ORDER BY users.name) AS anon_1 \n",
      "FROM users\n",
      "2019-08-24 15:18:37,125 INFO sqlalchemy.engine.base.Engine ()\n"
     ]
    },
    {
     "data": {
      "text/plain": [
       "[(1, 1), (2, 2)]"
      ]
     },
     "execution_count": 23,
     "metadata": {},
     "output_type": "execute_result"
    }
   ],
   "source": [
    "s = select([\n",
    "    users.c.id,\n",
    "    func.row_number().over(order_by=users.c.name)\n",
    "])\n",
    "\n",
    "conn.execute(s).fetchall()"
   ]
  },
  {
   "cell_type": "code",
   "execution_count": 24,
   "metadata": {},
   "outputs": [
    {
     "name": "stdout",
     "output_type": "stream",
     "text": [
      "2019-08-24 15:18:37,257 INFO sqlalchemy.engine.base.Engine SELECT users.id, count(addresses.id) OVER (PARTITION BY users.name ORDER BY users.id ROWS BETWEEN UNBOUNDED PRECEDING AND UNBOUNDED FOLLOWING) AS anon_1 \n",
      "FROM users JOIN addresses ON users.id = addresses.user_id\n",
      "2019-08-24 15:18:37,260 INFO sqlalchemy.engine.base.Engine ()\n"
     ]
    },
    {
     "data": {
      "text/plain": [
       "[(1, 2), (1, 2), (2, 2), (2, 2)]"
      ]
     },
     "execution_count": 24,
     "metadata": {},
     "output_type": "execute_result"
    }
   ],
   "source": [
    "s = select([\n",
    "        users.c.id,\n",
    "        func.count(addresses.c.id).over(\n",
    "            partition_by=users.c.name,\n",
    "            order_by=users.c.id,\n",
    "            rows=(None, None)\n",
    "        )\n",
    "    ])\\\n",
    "    .select_from(\n",
    "        users.join(addresses))\n",
    "    \n",
    "conn.execute(s).fetchall()"
   ]
  },
  {
   "cell_type": "markdown",
   "metadata": {},
   "source": [
    "# Casts"
   ]
  },
  {
   "cell_type": "code",
   "execution_count": 26,
   "metadata": {},
   "outputs": [
    {
     "name": "stdout",
     "output_type": "stream",
     "text": [
      "2019-08-24 15:20:09,344 INFO sqlalchemy.engine.base.Engine SELECT CAST(users.id AS VARCHAR(max)) AS anon_1 \n",
      "FROM users\n",
      "2019-08-24 15:20:09,345 INFO sqlalchemy.engine.base.Engine ()\n"
     ]
    },
    {
     "data": {
      "text/plain": [
       "[('1',), ('2',)]"
      ]
     },
     "execution_count": 26,
     "metadata": {},
     "output_type": "execute_result"
    }
   ],
   "source": [
    "s = select([cast(users.c.id, String)])\n",
    "conn.execute(s).fetchall()"
   ]
  },
  {
   "cell_type": "code",
   "execution_count": 31,
   "metadata": {},
   "outputs": [
    {
     "data": {
      "text/plain": [
       "<sqlalchemy.sql.elements.BinaryExpression object at 0x7f2109166a90>"
      ]
     },
     "execution_count": 31,
     "metadata": {},
     "output_type": "execute_result"
    }
   ],
   "source": [
    "# Coerces but does not cast.\n",
    "d = type_coerce({'some_key': {'foo': 'bar'}}, JSON)['some_key']\n",
    "d"
   ]
  },
  {
   "cell_type": "markdown",
   "metadata": {},
   "source": [
    "# Set Ops"
   ]
  },
  {
   "cell_type": "code",
   "execution_count": 33,
   "metadata": {},
   "outputs": [
    {
     "name": "stdout",
     "output_type": "stream",
     "text": [
      "2019-08-24 15:27:24,648 INFO sqlalchemy.engine.base.Engine SELECT addresses.id, addresses.user_id, addresses.email_address \n",
      "FROM addresses \n",
      "WHERE addresses.email_address = ? UNION SELECT addresses.id, addresses.user_id, addresses.email_address \n",
      "FROM addresses \n",
      "WHERE addresses.email_address LIKE ? ORDER BY addresses.email_address\n",
      "2019-08-24 15:27:24,648 INFO sqlalchemy.engine.base.Engine ('foo@bar.com', '%@yahoo.com')\n"
     ]
    },
    {
     "data": {
      "text/plain": [
       "[(1, 1, 'jack@yahoo.com')]"
      ]
     },
     "execution_count": 33,
     "metadata": {},
     "output_type": "execute_result"
    }
   ],
   "source": [
    "# Also, union_all(), intersect(), except_()\n",
    "u = union(\n",
    "    addresses.select()\n",
    "        .where(addresses.c.email_address == 'foo@bar.com'),\n",
    "    addresses.select()\n",
    "        .where(addresses.c.email_address.like('%@yahoo.com')),\n",
    ").order_by(addresses.c.email_address)\n",
    "\n",
    "conn.execute(u).fetchall()"
   ]
  },
  {
   "cell_type": "markdown",
   "metadata": {},
   "source": [
    "# Scalar Selects"
   ]
  },
  {
   "cell_type": "code",
   "execution_count": 38,
   "metadata": {},
   "outputs": [
    {
     "name": "stdout",
     "output_type": "stream",
     "text": [
      "2019-08-24 15:34:38,201 INFO sqlalchemy.engine.base.Engine SELECT users.name, (SELECT count(addresses.id) AS count_1 \n",
      "FROM addresses \n",
      "WHERE users.id = addresses.user_id) AS anon_1 \n",
      "FROM users\n",
      "2019-08-24 15:34:38,204 INFO sqlalchemy.engine.base.Engine ()\n",
      "2019-08-24 15:34:38,208 INFO sqlalchemy.engine.base.Engine SELECT users.name, (SELECT count(addresses.id) AS count_1 \n",
      "FROM addresses \n",
      "WHERE users.id = addresses.user_id) AS address_count \n",
      "FROM users\n",
      "2019-08-24 15:34:38,209 INFO sqlalchemy.engine.base.Engine ()\n"
     ]
    },
    {
     "data": {
      "text/plain": [
       "[('jack', 2), ('wendy', 2)]"
      ]
     },
     "execution_count": 38,
     "metadata": {},
     "output_type": "execute_result"
    }
   ],
   "source": [
    "stmt = select([func.count(addresses.c.id)])\\\n",
    "        .where(users.c.id == addresses.c.user_id)\\\n",
    "        .as_scalar()\n",
    "\n",
    "# This creates a correlated sub-query\n",
    "conn.execute(select([users.c.name, stmt])).fetchall()\n",
    "\n",
    "# This creates a named correlated sub-query\n",
    "stmt = select([func.count(addresses.c.id)])\\\n",
    "        .where(users.c.id == addresses.c.user_id)\\\n",
    "        .label(\"address_count\")\n",
    "\n",
    "# This creates a correlated sub-query\n",
    "conn.execute(select([users.c.name, stmt])).fetchall()"
   ]
  },
  {
   "cell_type": "markdown",
   "metadata": {},
   "source": [
    "# Correlated sub-queries"
   ]
  },
  {
   "cell_type": "code",
   "execution_count": 39,
   "metadata": {},
   "outputs": [
    {
     "name": "stdout",
     "output_type": "stream",
     "text": [
      "2019-08-24 15:37:39,381 INFO sqlalchemy.engine.base.Engine SELECT users.name \n",
      "FROM users \n",
      "WHERE users.id = (SELECT addresses.user_id \n",
      "FROM addresses \n",
      "WHERE addresses.user_id = users.id AND addresses.email_address = ?)\n",
      "2019-08-24 15:37:39,382 INFO sqlalchemy.engine.base.Engine ('jack@yahoo.com',)\n"
     ]
    },
    {
     "data": {
      "text/plain": [
       "[('jack',)]"
      ]
     },
     "execution_count": 39,
     "metadata": {},
     "output_type": "execute_result"
    }
   ],
   "source": [
    "stmt = select([addresses.c.user_id])\\\n",
    "        .where(addresses.c.user_id == users.c.id)\\\n",
    "        .where(addresses.c.email_address == 'jack@yahoo.com')\n",
    "\n",
    "# SqlAlchemy interprets the var as a sub-query\n",
    "enclosing_stmt = select([users.c.name]).where(users.c.id == stmt)\n",
    "\n",
    "conn.execute(enclosing_stmt).fetchall()"
   ]
  },
  {
   "cell_type": "code",
   "execution_count": 40,
   "metadata": {},
   "outputs": [
    {
     "name": "stdout",
     "output_type": "stream",
     "text": [
      "2019-08-24 15:41:53,057 INFO sqlalchemy.engine.base.Engine SELECT users.name, addresses.email_address \n",
      "FROM users JOIN addresses ON users.id = addresses.user_id \n",
      "WHERE users.id = (SELECT users.id \n",
      "FROM users \n",
      "WHERE users.id = addresses.user_id AND users.name = ?)\n",
      "2019-08-24 15:41:53,059 INFO sqlalchemy.engine.base.Engine ('jack',)\n"
     ]
    },
    {
     "data": {
      "text/plain": [
       "[('jack', 'jack@yahoo.com'), ('jack', 'jack@msn.com')]"
      ]
     },
     "execution_count": 40,
     "metadata": {},
     "output_type": "execute_result"
    }
   ],
   "source": [
    "# Specifying a specific correlated table when more than 1 is involved.\n",
    "# Also, correlate_except()\n",
    "stmt = select([users.c.id])\\\n",
    "        .where(users.c.id == addresses.c.user_id)\\\n",
    "        .where(users.c.name == 'jack')\\\n",
    "        .correlate(addresses)\n",
    "\n",
    "enclosing_stmt = select([users.c.name, addresses.c.email_address])\\\n",
    "        .select_from(users.join(addresses))\\\n",
    "        .where(users.c.id == stmt)\n",
    "\n",
    "conn.execute(enclosing_stmt).fetchall()"
   ]
  },
  {
   "cell_type": "code",
   "execution_count": 45,
   "metadata": {},
   "outputs": [
    {
     "name": "stdout",
     "output_type": "stream",
     "text": [
      "2019-08-24 15:45:44,409 INFO sqlalchemy.engine.base.Engine SELECT users.name \n",
      "FROM users \n",
      "WHERE users.id = (SELECT users.id \n",
      "FROM users \n",
      "WHERE users.name = ?)\n",
      "2019-08-24 15:45:44,410 INFO sqlalchemy.engine.base.Engine ('wendy',)\n"
     ]
    },
    {
     "data": {
      "text/plain": [
       "[('wendy',)]"
      ]
     },
     "execution_count": 45,
     "metadata": {},
     "output_type": "execute_result"
    }
   ],
   "source": [
    "# Disable correlation - creates non-correlated sub-query\n",
    "stmt = select([users.c.id])\\\n",
    "        .where(users.c.name == 'wendy')\\\n",
    "        .correlate(None)\n",
    "\n",
    "enclosing_stmt = select([users.c.name])\\\n",
    "        .where(users.c.id == stmt)\n",
    "\n",
    "conn.execute(enclosing_stmt).fetchall()"
   ]
  },
  {
   "cell_type": "markdown",
   "metadata": {},
   "source": [
    "# Group By, Order By, Offset Fetch"
   ]
  },
  {
   "cell_type": "code",
   "execution_count": 47,
   "metadata": {},
   "outputs": [
    {
     "name": "stdout",
     "output_type": "stream",
     "text": [
      "2019-08-24 15:55:33,584 INFO sqlalchemy.engine.base.Engine SELECT users.name \n",
      "FROM users ORDER BY users.name DESC\n",
      "2019-08-24 15:55:33,585 INFO sqlalchemy.engine.base.Engine ()\n"
     ]
    },
    {
     "data": {
      "text/plain": [
       "[('wendy',), ('jack',)]"
      ]
     },
     "execution_count": 47,
     "metadata": {},
     "output_type": "execute_result"
    }
   ],
   "source": [
    "stmt = select([users.c.name]).order_by(users.c.name.desc())\n",
    "conn.execute(stmt).fetchall()"
   ]
  },
  {
   "cell_type": "code",
   "execution_count": 49,
   "metadata": {},
   "outputs": [
    {
     "name": "stdout",
     "output_type": "stream",
     "text": [
      "2019-08-24 15:57:07,090 INFO sqlalchemy.engine.base.Engine SELECT users.name, count(addresses.id) AS count_1 \n",
      "FROM users JOIN addresses ON users.id = addresses.user_id GROUP BY users.name \n",
      "HAVING LEN(users.name) > ?\n",
      "2019-08-24 15:57:07,091 INFO sqlalchemy.engine.base.Engine (4,)\n"
     ]
    },
    {
     "data": {
      "text/plain": [
       "[('wendy', 2)]"
      ]
     },
     "execution_count": 49,
     "metadata": {},
     "output_type": "execute_result"
    }
   ],
   "source": [
    "stmt = select([users.c.name, func.count(addresses.c.id)])\\\n",
    "        .select_from(users.join(addresses))\\\n",
    "        .group_by(users.c.name)\\\n",
    "        .having(func.length(users.c.name) > 4)\n",
    "\n",
    "conn.execute(stmt).fetchall()"
   ]
  },
  {
   "cell_type": "code",
   "execution_count": 54,
   "metadata": {},
   "outputs": [
    {
     "name": "stdout",
     "output_type": "stream",
     "text": [
      "2019-08-24 15:59:56,889 INFO sqlalchemy.engine.base.Engine SELECT DISTINCT users.name \n",
      "FROM users JOIN addresses ON users.id = addresses.user_id\n",
      "2019-08-24 15:59:56,890 INFO sqlalchemy.engine.base.Engine ()\n"
     ]
    },
    {
     "data": {
      "text/plain": [
       "[('jack',), ('wendy',)]"
      ]
     },
     "execution_count": 54,
     "metadata": {},
     "output_type": "execute_result"
    }
   ],
   "source": [
    "stmt = select([users.c.name])\\\n",
    "        .select_from(users.join(addresses))\\\n",
    "        .distinct()\n",
    "\n",
    "conn.execute(stmt).fetchall()"
   ]
  },
  {
   "cell_type": "code",
   "execution_count": 57,
   "metadata": {},
   "outputs": [
    {
     "name": "stdout",
     "output_type": "stream",
     "text": [
      "2019-08-24 16:01:20,531 INFO sqlalchemy.engine.base.Engine SELECT anon_1.name, anon_1.email_address \n",
      "FROM (SELECT users.name AS name, addresses.email_address AS email_address, ROW_NUMBER() OVER (ORDER BY users.name ASC) AS mssql_rn \n",
      "FROM users JOIN addresses ON users.id = addresses.user_id) AS anon_1 \n",
      "WHERE mssql_rn > ? AND mssql_rn <= ? + ?\n",
      "2019-08-24 16:01:20,532 INFO sqlalchemy.engine.base.Engine (1, 1, 1)\n"
     ]
    },
    {
     "data": {
      "text/plain": [
       "[('jack', 'jack@msn.com')]"
      ]
     },
     "execution_count": 57,
     "metadata": {},
     "output_type": "execute_result"
    }
   ],
   "source": [
    "stmt = select([users.c.name, addresses.c.email_address])\\\n",
    "            .select_from(users.join(addresses))\\\n",
    "            .order_by(users.c.name.asc())\\\n",
    "            .limit(1).offset(1)\n",
    "\n",
    "conn.execute(stmt).fetchall()"
   ]
  },
  {
   "cell_type": "markdown",
   "metadata": {},
   "source": [
    "# Inserts, Updates, Deletes"
   ]
  },
  {
   "cell_type": "code",
   "execution_count": 59,
   "metadata": {},
   "outputs": [
    {
     "name": "stdout",
     "output_type": "stream",
     "text": [
      "2019-08-24 16:03:52,568 INFO sqlalchemy.engine.base.Engine UPDATE users SET fullname=(? + users.name)\n",
      "2019-08-24 16:03:52,570 INFO sqlalchemy.engine.base.Engine ('Fullname: ',)\n",
      "2019-08-24 16:03:52,573 INFO sqlalchemy.engine.base.Engine COMMIT\n"
     ]
    },
    {
     "data": {
      "text/plain": [
       "<sqlalchemy.engine.result.ResultProxy at 0x7f2109096c18>"
      ]
     },
     "execution_count": 59,
     "metadata": {},
     "output_type": "execute_result"
    }
   ],
   "source": [
    "stmt = users.update()\\\n",
    "        .values(fullname=\"Fullname: \" + users.c.name)\n",
    "\n",
    "conn.execute(stmt)"
   ]
  },
  {
   "cell_type": "code",
   "execution_count": 66,
   "metadata": {},
   "outputs": [
    {
     "name": "stdout",
     "output_type": "stream",
     "text": [
      "2019-08-24 16:10:05,094 INFO sqlalchemy.engine.base.Engine INSERT INTO users (id, name, fullname) VALUES (?, ?, ?), (?, ?, ?), (?, ?, ?)\n",
      "2019-08-24 16:10:05,095 INFO sqlalchemy.engine.base.Engine (7, 'name1', 'name1', 8, 'name2', 'name2', 9, 'name3', 'name3')\n",
      "2019-08-24 16:10:05,102 INFO sqlalchemy.engine.base.Engine COMMIT\n"
     ]
    },
    {
     "data": {
      "text/plain": [
       "<sqlalchemy.engine.result.ResultProxy at 0x7f2109096400>"
      ]
     },
     "execution_count": 66,
     "metadata": {},
     "output_type": "execute_result"
    }
   ],
   "source": [
    "stmt = users.insert()\\\n",
    "        .values([\n",
    "    {'id':7, 'name':'name1', 'fullname':'name1'},\n",
    "    {'id':8, 'name':'name2', 'fullname':'name2'},\n",
    "    {'id':9, 'name':'name3', 'fullname':'name3'},\n",
    "])\n",
    "\n",
    "conn.execute(stmt)"
   ]
  },
  {
   "cell_type": "code",
   "execution_count": 63,
   "metadata": {},
   "outputs": [
    {
     "name": "stdout",
     "output_type": "stream",
     "text": [
      "2019-08-24 16:07:57,510 INFO sqlalchemy.engine.base.Engine INSERT INTO users (id, name, fullname) VALUES (?, (? + ?), ?)\n",
      "2019-08-24 16:07:57,511 INFO sqlalchemy.engine.base.Engine ((4, 'name1', ' .. name', 'name1'), (5, 'name2', ' .. name', 'name2'), (6, 'name3', ' .. name', 'name3'))\n",
      "2019-08-24 16:07:57,514 INFO sqlalchemy.engine.base.Engine COMMIT\n"
     ]
    },
    {
     "data": {
      "text/plain": [
       "<sqlalchemy.engine.result.ResultProxy at 0x7f21090a4710>"
      ]
     },
     "execution_count": 63,
     "metadata": {},
     "output_type": "execute_result"
    }
   ],
   "source": [
    "# Override a parameter\n",
    "stmt = users.insert()\\\n",
    "        .values(name=bindparam('_name') + \" .. name\")\n",
    "\n",
    "conn.execute(stmt, [\n",
    "    {'id':4, '_name':'name1', 'fullname':'name1'},\n",
    "    {'id':5, '_name':'name2', 'fullname':'name2'},\n",
    "    {'id':6, '_name':'name3', 'fullname':'name3'},\n",
    "])"
   ]
  },
  {
   "cell_type": "code",
   "execution_count": 68,
   "metadata": {},
   "outputs": [
    {
     "name": "stdout",
     "output_type": "stream",
     "text": [
      "2019-08-24 16:11:14,935 INFO sqlalchemy.engine.base.Engine UPDATE users SET name=? WHERE users.name = ?\n",
      "2019-08-24 16:11:14,936 INFO sqlalchemy.engine.base.Engine ('ed', 'jack')\n",
      "2019-08-24 16:11:14,974 INFO sqlalchemy.engine.base.Engine COMMIT\n"
     ]
    },
    {
     "data": {
      "text/plain": [
       "<sqlalchemy.engine.result.ResultProxy at 0x7f21090837f0>"
      ]
     },
     "execution_count": 68,
     "metadata": {},
     "output_type": "execute_result"
    }
   ],
   "source": [
    "stmt = users.update()\\\n",
    "        .where(users.c.name == 'jack')\\\n",
    "        .values(name='ed')\n",
    "\n",
    "conn.execute(stmt)"
   ]
  },
  {
   "cell_type": "code",
   "execution_count": 69,
   "metadata": {},
   "outputs": [
    {
     "name": "stdout",
     "output_type": "stream",
     "text": [
      "2019-08-24 16:14:36,712 INFO sqlalchemy.engine.base.Engine UPDATE users SET name=? WHERE users.name = ?\n",
      "2019-08-24 16:14:36,713 INFO sqlalchemy.engine.base.Engine (('jack2', 'jack'), ('wendy2', 'wendy'), ('jim2', 'jim'))\n",
      "2019-08-24 16:14:36,722 INFO sqlalchemy.engine.base.Engine COMMIT\n"
     ]
    },
    {
     "data": {
      "text/plain": [
       "<sqlalchemy.engine.result.ResultProxy at 0x7f2109166a58>"
      ]
     },
     "execution_count": 69,
     "metadata": {},
     "output_type": "execute_result"
    }
   ],
   "source": [
    "stmt = users.update()\\\n",
    "        .where(users.c.name == bindparam('oldname'))\\\n",
    "        .values(name=bindparam('newname'))\n",
    "\n",
    "conn.execute(stmt, [\n",
    "    {'oldname':'jack', 'newname':'jack2'},\n",
    "    {'oldname':'wendy', 'newname':'wendy2'},\n",
    "    {'oldname':'jim', 'newname':'jim2'},\n",
    "])"
   ]
  },
  {
   "cell_type": "code",
   "execution_count": 113,
   "metadata": {},
   "outputs": [
    {
     "name": "stdout",
     "output_type": "stream",
     "text": [
      "2019-08-24 16:51:49,320 INFO sqlalchemy.engine.base.Engine UPDATE users SET fullname=(? + addresses.email_address) FROM users, addresses WHERE users.id = addresses.id AND (addresses.email_address LIKE '%' + ?)\n",
      "2019-08-24 16:51:49,323 INFO sqlalchemy.engine.base.Engine ('Name test2: ', '.com')\n",
      "2019-08-24 16:51:49,331 INFO sqlalchemy.engine.base.Engine COMMIT\n"
     ]
    },
    {
     "data": {
      "text/plain": [
       "<sqlalchemy.engine.result.ResultProxy at 0x7f2108f719e8>"
      ]
     },
     "execution_count": 113,
     "metadata": {},
     "output_type": "execute_result"
    }
   ],
   "source": [
    "# Correlated update\n",
    "stmt = users.update().\\\n",
    "        values(fullname=\"Name test2: \"+addresses.c.email_address)\\\n",
    "        .where(users.c.id == addresses.c.id)\\\n",
    "        .where(addresses.c.email_address.endswith('.com'))\n",
    "\n",
    "conn.execute(stmt)"
   ]
  },
  {
   "cell_type": "code",
   "execution_count": 120,
   "metadata": {},
   "outputs": [
    {
     "name": "stdout",
     "output_type": "stream",
     "text": [
      "2019-08-24 17:13:38,323 INFO sqlalchemy.engine.base.Engine UPDATE users SET name=(? + addresses.email_address), fullname=(? + addresses.email_address) FROM users, addresses WHERE users.id = addresses.id AND (addresses.email_address LIKE '%' + ?)\n",
      "2019-08-24 17:13:38,324 INFO sqlalchemy.engine.base.Engine ('Name: ', 'Email: ', '.com')\n",
      "2019-08-24 17:13:38,329 INFO sqlalchemy.engine.base.Engine COMMIT\n"
     ]
    },
    {
     "data": {
      "text/plain": [
       "<sqlalchemy.engine.result.ResultProxy at 0x7f2108f798d0>"
      ]
     },
     "execution_count": 120,
     "metadata": {},
     "output_type": "execute_result"
    }
   ],
   "source": [
    "# Correlated update with explicit dictionary syntax\n",
    "stmt = users.update().\\\n",
    "        values({\n",
    "            users.c.name: \"Name: \" + addresses.c.email_address,\n",
    "            users.c.fullname: \"Email: \" + addresses.c.email_address\n",
    "        })\\\n",
    "        .where(users.c.id == addresses.c.id)\\\n",
    "        .where(addresses.c.email_address.endswith('.com'))\n",
    "\n",
    "conn.execute(stmt)"
   ]
  },
  {
   "cell_type": "code",
   "execution_count": 121,
   "metadata": {
    "scrolled": true
   },
   "outputs": [
    {
     "name": "stdout",
     "output_type": "stream",
     "text": [
      "2019-08-24 17:18:51,947 INFO sqlalchemy.engine.base.Engine DELETE FROM users WHERE users.fullname LIKE ? + '%'\n",
      "2019-08-24 17:18:51,948 INFO sqlalchemy.engine.base.Engine ('jack',)\n",
      "2019-08-24 17:18:52,121 INFO sqlalchemy.engine.base.Engine COMMIT\n"
     ]
    },
    {
     "data": {
      "text/plain": [
       "<sqlalchemy.engine.result.ResultProxy at 0x7f2108f71358>"
      ]
     },
     "execution_count": 121,
     "metadata": {},
     "output_type": "execute_result"
    }
   ],
   "source": [
    "conn.execute(users.delete().where(users.c.fullname.startswith('jack')))"
   ]
  },
  {
   "cell_type": "code",
   "execution_count": 130,
   "metadata": {},
   "outputs": [
    {
     "name": "stdout",
     "output_type": "stream",
     "text": [
      "2019-08-24 17:28:19,642 INFO sqlalchemy.engine.base.Engine DELETE FROM users WHERE users.id NOT IN (SELECT addresses.user_id \n",
      "FROM addresses) AND (users.fullname LIKE ? + '%')\n",
      "2019-08-24 17:28:19,647 INFO sqlalchemy.engine.base.Engine ('ed',)\n",
      "2019-08-24 17:28:19,661 INFO sqlalchemy.engine.base.Engine COMMIT\n"
     ]
    },
    {
     "data": {
      "text/plain": [
       "<sqlalchemy.engine.result.ResultProxy at 0x7f2109096ef0>"
      ]
     },
     "execution_count": 130,
     "metadata": {},
     "output_type": "execute_result"
    }
   ],
   "source": [
    "# Subquery delete\n",
    "stmt = users.delete()\\\n",
    "        .where(users.c.id.notin_(\n",
    "            select([addresses.c.user_id])\n",
    "        ))\\\n",
    "        .where(users.c.fullname.startswith('ed'))\n",
    "\n",
    "conn.execute(stmt)"
   ]
  }
 ],
 "metadata": {
  "kernelspec": {
   "display_name": "Python 3",
   "language": "python",
   "name": "python3"
  },
  "language_info": {
   "codemirror_mode": {
    "name": "ipython",
    "version": 3
   },
   "file_extension": ".py",
   "mimetype": "text/x-python",
   "name": "python",
   "nbconvert_exporter": "python",
   "pygments_lexer": "ipython3",
   "version": "3.6.8"
  }
 },
 "nbformat": 4,
 "nbformat_minor": 2
}

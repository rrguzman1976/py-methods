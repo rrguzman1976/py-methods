{
 "cells": [
  {
   "cell_type": "markdown",
   "metadata": {},
   "source": [
    "# Using Marshmallow with SQL Alchemy Integration"
   ]
  },
  {
   "cell_type": "code",
   "execution_count": 1,
   "metadata": {},
   "outputs": [],
   "source": [
    "from os import environ\n",
    "import urllib\n",
    "#import json\n",
    "\n",
    "from sqlalchemy import create_engine, inspect\n",
    "from sqlalchemy import Table, Column, ForeignKey, Integer, String, Float, MetaData\n",
    "from sqlalchemy.ext.declarative import declarative_base\n",
    "from sqlalchemy.orm import relationship, backref\n",
    "from sqlalchemy.orm import sessionmaker, selectinload\n",
    "from sqlalchemy.sql import union, select, and_, or_, not_, text\n",
    "from sqlalchemy.sql import bindparam\n",
    "from sqlalchemy.sql.functions import coalesce\n",
    "\n",
    "from marshmallow import pprint, fields, EXCLUDE\n",
    "from marshmallow_sqlalchemy import ModelSchema"
   ]
  },
  {
   "cell_type": "markdown",
   "metadata": {},
   "source": [
    "# Setup"
   ]
  },
  {
   "cell_type": "code",
   "execution_count": 2,
   "metadata": {},
   "outputs": [],
   "source": [
    "driver = environ.get('SQL_DRIVER', '{ODBC Driver 17 for SQL Server}')\n",
    "host = environ.get('SQL_HOST', 'sql-fabulous')\n",
    "db = environ.get('SQL_DB', 'ScratchDB')\n",
    "user = environ.get('SQL_USER', 'sa')\n",
    "pw = environ.get('SQL_PASSWORD', 'HelloWorld1')\n",
    "\n",
    "con_str = f'DRIVER={driver};SERVER={host};DATABASE={db};UID={user};PWD={pw}'\n",
    "\n",
    "params = urllib.parse.quote_plus(con_str)  \n",
    "\n",
    "# 'echo' emits generated sql\n",
    "engine = create_engine(f\"mssql+pyodbc:///?odbc_connect={params}\", echo=True)"
   ]
  },
  {
   "cell_type": "markdown",
   "metadata": {},
   "source": [
    "# Define ORM Schema"
   ]
  },
  {
   "cell_type": "code",
   "execution_count": 3,
   "metadata": {},
   "outputs": [],
   "source": [
    "Base = declarative_base()\n",
    "\n",
    "class Survey(Base):\n",
    "    __tablename__ = 'DirectionalSurvey'\n",
    "\n",
    "    ID = Column(Integer, autoincrement=False, primary_key=True)\n",
    "    API = Column(String(32), nullable=True)\n",
    "    WKID = Column(String(32), nullable=True)\n",
    "    FIPS = Column(String(4), nullable=True)\n",
    "    STATUS_CODE = Column(String(1), nullable=False)\n",
    "\n",
    "    def __repr__(self):\n",
    "        return f\"Survey(ID={self.ID}, API={self.API}, WKID={self.WKID}, Points={self.stations})\"\n",
    "\n",
    "class SurveyReport(Base):\n",
    "    __tablename__ = 'SurveyReport'\n",
    "\n",
    "    ID = Column(Integer, autoincrement=False, primary_key=True)\n",
    "    DirectionalSurveyId = Column(Integer, ForeignKey('DirectionalSurvey.ID'), nullable=False)\n",
    "    Azimuth = Column(Float, nullable=True)\n",
    "    MD = Column(Float, nullable=True)\n",
    "    Inclination = Column(Float, nullable=True)\n",
    "    STATUS_CODE = Column(String(1), nullable=False)\n",
    "    #survey = relationship(Survey, backref=backref('stations'))\n",
    "    survey = relationship(Survey, backref=backref('stations', uselist=True))\n",
    "\n",
    "    def __repr__(self):\n",
    "        return f\"Report(ID={self.ID}, FK={self.DirectionalSurveyId}, STATUS={self.STATUS_CODE})\"\n",
    "\n",
    "# Set mapped tables to local vars so that full SQL metadata is available.\n",
    "# surveys = Survey.__table__\n",
    "# points = SurveyReport.__table__"
   ]
  },
  {
   "cell_type": "markdown",
   "metadata": {},
   "source": [
    "# Define Marshmallow Schema"
   ]
  },
  {
   "cell_type": "code",
   "execution_count": 4,
   "metadata": {},
   "outputs": [],
   "source": [
    "class SurveySchema(ModelSchema):\n",
    "    class Meta:\n",
    "        unknown = EXCLUDE\n",
    "        ordered = True\n",
    "        model = Survey\n",
    "        \n",
    "    # Overrides    \n",
    "    ID = fields.Int(required=True, data_key=\"SurveyId\")\n",
    "    stations = fields.Nested(\"SurveyReportSchema\", many=True, exclude=(\"survey\",))\n",
    "\n",
    "class SurveyReportSchema(ModelSchema):\n",
    "    class Meta:\n",
    "        unknown = EXCLUDE\n",
    "        ordered = True\n",
    "        model = SurveyReport\n",
    "\n",
    "    ID = fields.Int(required=True, data_key=\"SurveyReportId\")\n",
    "    survey = fields.Nested(SurveySchema, many=False, exclude=(\"stations\",))\n",
    "    \n",
    "survey_serdes = SurveySchema()  \n",
    "report_serdes = SurveyReportSchema()"
   ]
  },
  {
   "cell_type": "markdown",
   "metadata": {},
   "source": [
    "# Bind Engine to Schema and Create Session, Connection¶"
   ]
  },
  {
   "cell_type": "code",
   "execution_count": 5,
   "metadata": {},
   "outputs": [
    {
     "name": "stdout",
     "output_type": "stream",
     "text": [
      "2019-08-24 21:43:30,404 INFO sqlalchemy.engine.base.Engine SELECT CAST(SERVERPROPERTY('ProductVersion') AS VARCHAR)\n",
      "2019-08-24 21:43:30,408 INFO sqlalchemy.engine.base.Engine ()\n",
      "2019-08-24 21:43:30,412 INFO sqlalchemy.engine.base.Engine SELECT schema_name()\n",
      "2019-08-24 21:43:30,413 INFO sqlalchemy.engine.base.Engine ()\n",
      "2019-08-24 21:43:30,416 INFO sqlalchemy.engine.base.Engine SELECT CAST('test plain returns' AS VARCHAR(60)) AS anon_1\n",
      "2019-08-24 21:43:30,417 INFO sqlalchemy.engine.base.Engine ()\n",
      "2019-08-24 21:43:30,419 INFO sqlalchemy.engine.base.Engine SELECT CAST('test unicode returns' AS NVARCHAR(60)) AS anon_1\n",
      "2019-08-24 21:43:30,420 INFO sqlalchemy.engine.base.Engine ()\n"
     ]
    }
   ],
   "source": [
    "Base.metadata.bind = engine\n",
    "DBSession = sessionmaker(bind=engine)\n",
    "session = DBSession()\n",
    "conn = engine.connect()"
   ]
  },
  {
   "cell_type": "markdown",
   "metadata": {},
   "source": [
    "# Select"
   ]
  },
  {
   "cell_type": "code",
   "execution_count": 6,
   "metadata": {},
   "outputs": [
    {
     "name": "stdout",
     "output_type": "stream",
     "text": [
      "2019-08-24 21:43:30,512 INFO sqlalchemy.engine.base.Engine BEGIN (implicit)\n",
      "2019-08-24 21:43:30,514 INFO sqlalchemy.engine.base.Engine SELECT [DirectionalSurvey].[ID] AS [DirectionalSurvey_ID], [DirectionalSurvey].[API] AS [DirectionalSurvey_API], [DirectionalSurvey].[WKID] AS [DirectionalSurvey_WKID], [DirectionalSurvey].[FIPS] AS [DirectionalSurvey_FIPS], [DirectionalSurvey].[STATUS_CODE] AS [DirectionalSurvey_STATUS_CODE] \n",
      "FROM [DirectionalSurvey] \n",
      "WHERE [DirectionalSurvey].[STATUS_CODE] IN (?, ?) AND [DirectionalSurvey].[ID] < ? AND (EXISTS (SELECT 1 \n",
      "FROM [SurveyReport] \n",
      "WHERE [DirectionalSurvey].[ID] = [SurveyReport].[DirectionalSurveyId]))\n",
      "2019-08-24 21:43:30,515 INFO sqlalchemy.engine.base.Engine ('N', 'C', 2)\n",
      "2019-08-24 21:43:30,520 INFO sqlalchemy.engine.base.Engine SELECT [SurveyReport].[DirectionalSurveyId] AS [SurveyReport_DirectionalSurveyId], [SurveyReport].[ID] AS [SurveyReport_ID], [SurveyReport].[Azimuth] AS [SurveyReport_Azimuth], [SurveyReport].[MD] AS [SurveyReport_MD], [SurveyReport].[Inclination] AS [SurveyReport_Inclination], [SurveyReport].[STATUS_CODE] AS [SurveyReport_STATUS_CODE] \n",
      "FROM [SurveyReport] \n",
      "WHERE [SurveyReport].[DirectionalSurveyId] IN (?) ORDER BY [SurveyReport].[DirectionalSurveyId]\n",
      "2019-08-24 21:43:30,520 INFO sqlalchemy.engine.base.Engine (1,)\n",
      "S: <class '__main__.Survey'>, Survey(ID=1, API=API1, WKID=WKID1, Points=[Report(ID=1, FK=1, STATUS=N), Report(ID=2, FK=1, STATUS=N)])\n",
      "{\n",
      "  \"SurveyId\": 1,\n",
      "  \"API\": \"API1\",\n",
      "  \"WKID\": \"WKID1\",\n",
      "  \"FIPS\": \"0001\",\n",
      "  \"STATUS_CODE\": \"N\",\n",
      "  \"stations\": [\n",
      "    {\n",
      "      \"SurveyReportId\": 1,\n",
      "      \"Azimuth\": 1.0,\n",
      "      \"MD\": 2.0,\n",
      "      \"Inclination\": 3.0,\n",
      "      \"STATUS_CODE\": \"N\"\n",
      "    },\n",
      "    {\n",
      "      \"SurveyReportId\": 2,\n",
      "      \"Azimuth\": 4.0,\n",
      "      \"MD\": 5.0,\n",
      "      \"Inclination\": 6.0,\n",
      "      \"STATUS_CODE\": \"N\"\n",
      "    }\n",
      "  ]\n",
      "}\n",
      "SR: <class '__main__.SurveyReport'>, Report(ID=1, FK=1, STATUS=N)\n",
      "{\n",
      "  \"survey\": {\n",
      "    \"SurveyId\": 1,\n",
      "    \"API\": \"API1\",\n",
      "    \"WKID\": \"WKID1\",\n",
      "    \"FIPS\": \"0001\",\n",
      "    \"STATUS_CODE\": \"N\"\n",
      "  },\n",
      "  \"SurveyReportId\": 1,\n",
      "  \"Azimuth\": 1.0,\n",
      "  \"MD\": 2.0,\n",
      "  \"Inclination\": 3.0,\n",
      "  \"STATUS_CODE\": \"N\"\n",
      "}\n",
      "SR: <class '__main__.SurveyReport'>, Report(ID=2, FK=1, STATUS=N)\n",
      "{\n",
      "  \"survey\": {\n",
      "    \"SurveyId\": 1,\n",
      "    \"API\": \"API1\",\n",
      "    \"WKID\": \"WKID1\",\n",
      "    \"FIPS\": \"0001\",\n",
      "    \"STATUS_CODE\": \"N\"\n",
      "  },\n",
      "  \"SurveyReportId\": 2,\n",
      "  \"Azimuth\": 4.0,\n",
      "  \"MD\": 5.0,\n",
      "  \"Inclination\": 6.0,\n",
      "  \"STATUS_CODE\": \"N\"\n",
      "}\n"
     ]
    }
   ],
   "source": [
    "my_surveys = session.query(Survey) \\\n",
    "                .options(selectinload(Survey.stations))\\\n",
    "                .filter(Survey.STATUS_CODE.in_(['N', 'C']))\\\n",
    "                .filter(Survey.ID < 2)\\\n",
    "                .filter(Survey.stations.any())\\\n",
    "                .all()\n",
    "\n",
    "try:\n",
    "    for s in my_surveys:\n",
    "        print(f\"S: {type(s)}, {s}\")\n",
    "        s_json = survey_serdes.dump(s)\n",
    "        pprint(s_json, indent=2)\n",
    "        \n",
    "        for sr in s.stations:\n",
    "            print(f\"SR: {type(sr)}, {sr}\")\n",
    "            sr_json = report_serdes.dump(sr)\n",
    "            pprint(sr_json, indent=2)\n",
    "        \n",
    "except Exception as e:\n",
    "    print(f\"{e}\")"
   ]
  },
  {
   "cell_type": "code",
   "execution_count": 7,
   "metadata": {},
   "outputs": [
    {
     "name": "stdout",
     "output_type": "stream",
     "text": [
      "2019-08-24 21:43:30,546 INFO sqlalchemy.engine.base.Engine SELECT [DirectionalSurvey].[ID] AS [DirectionalSurvey_ID], [DirectionalSurvey].[API] AS [DirectionalSurvey_API], [DirectionalSurvey].[WKID] AS [DirectionalSurvey_WKID], [DirectionalSurvey].[FIPS] AS [DirectionalSurvey_FIPS], [DirectionalSurvey].[STATUS_CODE] AS [DirectionalSurvey_STATUS_CODE] \n",
      "FROM [DirectionalSurvey] JOIN [SurveyReport] ON [DirectionalSurvey].[ID] = [SurveyReport].[DirectionalSurveyId] \n",
      "WHERE [DirectionalSurvey].[STATUS_CODE] IN (?, ?) AND [DirectionalSurvey].[WKID] LIKE ? AND [SurveyReport].[Azimuth] >= ?\n",
      "2019-08-24 21:43:30,548 INFO sqlalchemy.engine.base.Engine ('N', 'C', 'WKID2%', 7)\n",
      "2019-08-24 21:43:30,554 INFO sqlalchemy.engine.base.Engine SELECT [SurveyReport].[ID] AS [SurveyReport_ID], [SurveyReport].[DirectionalSurveyId] AS [SurveyReport_DirectionalSurveyId], [SurveyReport].[Azimuth] AS [SurveyReport_Azimuth], [SurveyReport].[MD] AS [SurveyReport_MD], [SurveyReport].[Inclination] AS [SurveyReport_Inclination], [SurveyReport].[STATUS_CODE] AS [SurveyReport_STATUS_CODE] \n",
      "FROM [SurveyReport] \n",
      "WHERE [SurveyReport].[DirectionalSurveyId] = ?\n",
      "2019-08-24 21:43:30,555 INFO sqlalchemy.engine.base.Engine (2,)\n",
      "S: <class '__main__.Survey'>, Survey(ID=2, API=API2, WKID=WKID2, Points=[Report(ID=3, FK=2, STATUS=N), Report(ID=4, FK=2, STATUS=N)])\n",
      "{\n",
      "  \"SurveyId\": 2,\n",
      "  \"API\": \"API2\",\n",
      "  \"WKID\": \"WKID2\",\n",
      "  \"FIPS\": \"0002\",\n",
      "  \"STATUS_CODE\": \"N\",\n",
      "  \"stations\": [\n",
      "    {\n",
      "      \"SurveyReportId\": 3,\n",
      "      \"Azimuth\": 7.0,\n",
      "      \"MD\": 8.0,\n",
      "      \"Inclination\": 9.0,\n",
      "      \"STATUS_CODE\": \"N\"\n",
      "    },\n",
      "    {\n",
      "      \"SurveyReportId\": 4,\n",
      "      \"Azimuth\": 1.0,\n",
      "      \"MD\": 2.0,\n",
      "      \"Inclination\": 3.0,\n",
      "      \"STATUS_CODE\": \"N\"\n",
      "    }\n",
      "  ]\n",
      "}\n",
      "SR: <class '__main__.SurveyReport'>, Report(ID=3, FK=2, STATUS=N)\n",
      "{\n",
      "  \"survey\": {\n",
      "    \"SurveyId\": 2,\n",
      "    \"API\": \"API2\",\n",
      "    \"WKID\": \"WKID2\",\n",
      "    \"FIPS\": \"0002\",\n",
      "    \"STATUS_CODE\": \"N\"\n",
      "  },\n",
      "  \"SurveyReportId\": 3,\n",
      "  \"Azimuth\": 7.0,\n",
      "  \"MD\": 8.0,\n",
      "  \"Inclination\": 9.0,\n",
      "  \"STATUS_CODE\": \"N\"\n",
      "}\n",
      "SR: <class '__main__.SurveyReport'>, Report(ID=4, FK=2, STATUS=N)\n",
      "{\n",
      "  \"survey\": {\n",
      "    \"SurveyId\": 2,\n",
      "    \"API\": \"API2\",\n",
      "    \"WKID\": \"WKID2\",\n",
      "    \"FIPS\": \"0002\",\n",
      "    \"STATUS_CODE\": \"N\"\n",
      "  },\n",
      "  \"SurveyReportId\": 4,\n",
      "  \"Azimuth\": 1.0,\n",
      "  \"MD\": 2.0,\n",
      "  \"Inclination\": 3.0,\n",
      "  \"STATUS_CODE\": \"N\"\n",
      "}\n"
     ]
    }
   ],
   "source": [
    "my_surveys = session.query(Survey)\\\n",
    "                .join(SurveyReport)\\\n",
    "                .filter(Survey.STATUS_CODE.in_(['N', 'C']))\\\n",
    "                .filter(Survey.WKID.like('WKID2%'))\\\n",
    "                .filter(SurveyReport.Azimuth >= 7)\\\n",
    "                .all()\n",
    "\n",
    "try:\n",
    "    for s in my_surveys:\n",
    "        print(f\"S: {type(s)}, {s}\")\n",
    "        s_json = survey_serdes.dump(s)\n",
    "        pprint(s_json, indent=2)\n",
    "        \n",
    "        for sr in s.stations:\n",
    "            print(f\"SR: {type(sr)}, {sr}\")\n",
    "            sr_json = report_serdes.dump(sr)\n",
    "            pprint(sr_json, indent=2)\n",
    "        \n",
    "except Exception as e:\n",
    "    print(f\"{e}\")"
   ]
  },
  {
   "cell_type": "code",
   "execution_count": null,
   "metadata": {},
   "outputs": [],
   "source": []
  }
 ],
 "metadata": {
  "kernelspec": {
   "display_name": "Python 3",
   "language": "python",
   "name": "python3"
  },
  "language_info": {
   "codemirror_mode": {
    "name": "ipython",
    "version": 3
   },
   "file_extension": ".py",
   "mimetype": "text/x-python",
   "name": "python",
   "nbconvert_exporter": "python",
   "pygments_lexer": "ipython3",
   "version": "3.6.8"
  }
 },
 "nbformat": 4,
 "nbformat_minor": 2
}

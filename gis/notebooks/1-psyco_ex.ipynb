{
 "cells": [
  {
   "cell_type": "markdown",
   "metadata": {},
   "source": [
    "## Psyco Examples"
   ]
  },
  {
   "cell_type": "code",
   "execution_count": 97,
   "metadata": {},
   "outputs": [],
   "source": [
    "import os\n",
    "\n",
    "import matplotlib as plt\n",
    "\n",
    "import psycopg2\n",
    "import shapefile\n",
    "from shapely.geometry import Point, MultiPoint, Polygon\n",
    "from shapely.wkb import loads"
   ]
  },
  {
   "cell_type": "markdown",
   "metadata": {},
   "source": [
    "## Import Point Shapefile to Spatial Database"
   ]
  },
  {
   "cell_type": "code",
   "execution_count": null,
   "metadata": {},
   "outputs": [],
   "source": [
    "pg_host = os.environ[\"PG_SERVER\"]\n",
    "pg_db = os.environ[\"PG_DATABASE\"]\n",
    "pg_user = os.environ[\"PG_UID\"]\n",
    "pg_pwd = os.environ[\"PG_PWD\"]\n",
    "\n",
    "ddl = \"\"\"\n",
    "DROP TABLE IF EXISTS public.nyc_museums;\n",
    "\n",
    "CREATE TABLE public.nyc_museums\n",
    "(\n",
    "    id SERIAL NOT NULL \n",
    "        PRIMARY KEY, \n",
    "    NAME VARCHAR(255) NULL,\n",
    "    URL VARCHAR(255) NULL,\n",
    "    location    GEOMETRY(POLYGON, 4326)   NULL\n",
    "    --location    GEOGRAPHY(POINT, 4326)   NULL\n",
    ");\n",
    "\n",
    "CREATE INDEX nyc_museums_points_gix \n",
    "ON public.nyc_museums \n",
    "USING GIST (location);\n",
    "\"\"\"\n",
    "point_cloud = []\n",
    "\n",
    "with psycopg2.connect(host=pg_host, database=pg_db,user=pg_user, password=pg_pwd) as c, \\\n",
    "    shapefile.Reader(nyc_path) as nyc_museums:\n",
    "\n",
    "    try:\n",
    "        # Execute DDL\n",
    "        cursor = c.cursor()\n",
    "        cursor.execute(ddl)\n",
    "        c.commit()\n",
    "\n",
    "        # Execute DML\n",
    "        cursor = c.cursor()\n",
    "\n",
    "        dml = \"\"\"\n",
    "        INSERT INTO public.nyc_museums (NAME, URL, location)\n",
    "        VALUES (%s, %s, ST_GeomFromText(%s, 4326))\n",
    "        \"\"\"\n",
    "\n",
    "        # Read both attributes and geometries.\n",
    "        for srec in nyc_museums.shapeRecords():\n",
    "            p = Point(srec.shape.points[0][0], srec.shape.points[0][1])\n",
    "            point_cloud.append(p)\n",
    "            cursor.execute(dml, (srec.record['NAME'], srec.record['URL'], p.wkt))\n",
    "\n",
    "        c.commit()\n",
    "        \n",
    "    except Exception as e:\n",
    "        c.rollback()\n",
    "        raise e\n",
    "\n",
    "print(\"Completed.\")\n",
    "mpt = MultiPoint(point_cloud)\n",
    "mpt"
   ]
  },
  {
   "cell_type": "markdown",
   "metadata": {},
   "source": [
    "## Read Points from Spatial Database"
   ]
  },
  {
   "cell_type": "code",
   "execution_count": 82,
   "metadata": {
    "scrolled": true
   },
   "outputs": [
    {
     "name": "stdout",
     "output_type": "stream",
     "text": [
      "POINT (-74.01375579573734 40.70381655004537)\n",
      "POINT (-74.06303178821885 40.61512117086315)\n",
      "POINT (-73.94729768457961 40.83385383400615)\n",
      "POINT (-73.97810302107813 40.76162530521804)\n",
      "POINT (-74.03968483725012 40.69905659568395)\n",
      "POINT (-73.9736481646561 40.78082656726701)\n",
      "POINT (-74.00701187947674 40.72352692494523)\n",
      "POINT (-73.96597045126352 40.76882456292169)\n",
      "POINT (-73.99963036836223 40.72112778318635)\n",
      "POINT (-73.96428395731806 40.76983411641748)\n"
     ]
    }
   ],
   "source": [
    "dml = \"\"\"\n",
    "SELECT id\n",
    "\t\t, name\n",
    "\t\t, url\n",
    "\t\t, location \n",
    "FROM\tpublic.nyc_museums\n",
    "LIMIT 10;\n",
    "\"\"\"\n",
    "\n",
    "with psycopg2.connect(host=pg_host, database=pg_db,user=pg_user, password=pg_pwd) as c:\n",
    "    cursor = c.cursor()\n",
    "\n",
    "    cursor.execute(dml)\n",
    "    \n",
    "    for rec in cursor.fetchall():\n",
    "        pt = loads(rec[3], hex=True)\n",
    "        print(pt)"
   ]
  },
  {
   "cell_type": "markdown",
   "metadata": {},
   "source": [
    "## Import Polygons to Spatial Database"
   ]
  },
  {
   "cell_type": "code",
   "execution_count": 136,
   "metadata": {
    "scrolled": true
   },
   "outputs": [
    {
     "name": "stdout",
     "output_type": "stream",
     "text": [
      "Completed.\n"
     ]
    }
   ],
   "source": [
    "pg_host = os.environ[\"PG_SERVER\"]\n",
    "pg_db = os.environ[\"PG_DATABASE\"]\n",
    "pg_user = os.environ[\"PG_UID\"]\n",
    "pg_pwd = os.environ[\"PG_PWD\"]\n",
    "\n",
    "ddl = \"\"\"\n",
    "DROP TABLE IF EXISTS public.us_states;\n",
    "\n",
    "CREATE TABLE public.us_states\n",
    "(\n",
    "    id SERIAL NOT NULL \n",
    "        PRIMARY KEY, \n",
    "    NAME VARCHAR(100) NULL,\n",
    "    CODE CHAR(2) NULL,\n",
    "    ABBREV CHAR(2) NULL,\n",
    "    AREA BIGINT NULL,\n",
    "    -- NAD 83\n",
    "    -- TODO: Can be MultiPolygon. How to handle both?\n",
    "    location    GEOMETRY(POLYGON, 4269)   NULL\n",
    ");\n",
    "\n",
    "CREATE INDEX us_states_poly_gix \n",
    "ON public.us_states\n",
    "USING GIST (location);\n",
    "\"\"\"\n",
    "shp_path = os.path.join(os.environ[\"DATA_DIR\"], 'us_states', 'tl_2014_us_state.shp')\n",
    "\n",
    "with psycopg2.connect(host=pg_host, database=pg_db,user=pg_user, password=pg_pwd) as c, \\\n",
    "    shapefile.Reader(shp_path) as shp:\n",
    "\n",
    "    try:\n",
    "        # Execute DDL\n",
    "        cursor = c.cursor()\n",
    "        cursor.execute(ddl)\n",
    "        c.commit()\n",
    "\n",
    "        # Execute DML\n",
    "        cursor = c.cursor()\n",
    "\n",
    "        dml = \"\"\"\n",
    "        INSERT INTO public.us_states (NAME, CODE, ABBREV, AREA, location)\n",
    "        VALUES (%s, %s, %s, %s, ST_GeomFromText(%s, 4269))\n",
    "        \"\"\"\n",
    "\n",
    "        # Read both attributes and geometries.\n",
    "        for srec in shp.shapeRecords()[:5]:\n",
    "            if srec.record['STUSPS'] not in ('AK', 'HI'):\n",
    "                poly = Polygon(srec.shape.points)\n",
    "                cursor.execute(dml, (srec.record['NAME'], srec.record['STATEFP'], \n",
    "                                     srec.record['STUSPS'], srec.record['ALAND'], poly.wkt))\n",
    "\n",
    "        c.commit()\n",
    "        \n",
    "    except Exception as e:\n",
    "        c.rollback()\n",
    "        raise e\n",
    "\n",
    "print(\"Completed.\")\n"
   ]
  },
  {
   "cell_type": "markdown",
   "metadata": {},
   "source": [
    "## Scratch"
   ]
  },
  {
   "cell_type": "code",
   "execution_count": 110,
   "metadata": {
    "scrolled": true
   },
   "outputs": [
    {
     "name": "stdout",
     "output_type": "stream",
     "text": [
      "('DeletionFlag', 'C', 1, 0)\n",
      "['REGION', 'C', 2, 0]\n",
      "['DIVISION', 'C', 2, 0]\n",
      "['STATEFP', 'C', 2, 0]\n",
      "['STATENS', 'C', 8, 0]\n",
      "['GEOID', 'C', 2, 0]\n",
      "['STUSPS', 'C', 2, 0]\n",
      "['NAME', 'C', 100, 0]\n",
      "['LSAD', 'C', 2, 0]\n",
      "['MTFCC', 'C', 5, 0]\n",
      "['FUNCSTAT', 'C', 1, 0]\n",
      "['ALAND', 'N', 14, 0]\n",
      "['AWATER', 'N', 14, 0]\n",
      "['INTPTLAT', 'C', 11, 0]\n",
      "['INTPTLON', 'C', 12, 0]\n",
      "Geometryx-0: POLYGON\n",
      "Geometryx-1: POLYGON\n",
      "Geometry-0: POLYGON\n",
      "Record-0: West Virginia, 54, WV, 62266581604\n",
      "Geometry-1: POLYGON\n",
      "Record-1: Florida, 12, FL, 138903200855\n"
     ]
    }
   ],
   "source": [
    "shp_path = os.path.join(os.environ[\"DATA_DIR\"], 'us_states', 'tl_2014_us_state.shp')\n",
    "\n",
    "with shapefile.Reader(shp_path) as shp:\n",
    "    \n",
    "    # Attribute Definitions\n",
    "    for meta in shp.fields:\n",
    "        print(meta)\n",
    "\n",
    "    # Geometries\n",
    "    for i, s in enumerate(shp.shapes()[:2]):\n",
    "        #print(f\"Geometry-{i}: {s.bbox}\")\n",
    "        #print(f\"Geometry-{i}: {s.points}\")\n",
    "        print(f\"Geometryx-{i}: {s.shapeTypeName}\")\n",
    "\n",
    "        poly = Polygon(s.points)\n",
    "#         print(poly.wkt)\n",
    "\n",
    "    # Read both attributes and geometries.\n",
    "    for srec in shp.shapeRecords()[:2]:\n",
    "        poly = Polygon(srec.shape.points)\n",
    "        #print(poly.wkt)\n",
    "        print(f\"Geometry-{srec.record.oid}: {srec.shape.shapeTypeName}\")\n",
    "        #print(f\"Record-{srec.record.oid}: {srec.record}\")\n",
    "        print(f\"Record-{srec.record.oid}: {srec.record['NAME']}, {srec.record['STATEFP']}, {srec.record['STUSPS']}, {srec.record['ALAND']}\")\n",
    "        "
   ]
  }
 ],
 "metadata": {
  "kernelspec": {
   "display_name": "Python 3",
   "language": "python",
   "name": "python3"
  },
  "language_info": {
   "codemirror_mode": {
    "name": "ipython",
    "version": 3
   },
   "file_extension": ".py",
   "mimetype": "text/x-python",
   "name": "python",
   "nbconvert_exporter": "python",
   "pygments_lexer": "ipython3",
   "version": "3.6.9"
  }
 },
 "nbformat": 4,
 "nbformat_minor": 2
}

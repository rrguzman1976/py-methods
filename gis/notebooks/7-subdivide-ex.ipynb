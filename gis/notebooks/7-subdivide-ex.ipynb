{
 "cells": [
  {
   "cell_type": "code",
   "execution_count": 47,
   "metadata": {},
   "outputs": [],
   "source": [
    "import logging\n",
    "import os\n",
    "\n",
    "import fiona\n",
    "from shapely.geometry import (\n",
    "    box, mapping, shape, MultiPolygon,\n",
    "    Polygon\n",
    ")\n",
    "import python_gis.poc.util.log_config\n",
    "\n",
    "logger = logging.getLogger(__name__)"
   ]
  },
  {
   "cell_type": "code",
   "execution_count": 3,
   "metadata": {},
   "outputs": [
    {
     "name": "stdout",
     "output_type": "stream",
     "text": [
      "/opt/diml-service/notebooks\r\n"
     ]
    }
   ],
   "source": [
    "! pwd"
   ]
  },
  {
   "cell_type": "code",
   "execution_count": 59,
   "metadata": {},
   "outputs": [],
   "source": [
    "out_path = os.path.join(os.environ[\"DATA_DIR\"], 'shapefile_out')\n",
    "shapefile_path = os.path.join(out_path, 'States_US_clean.shp')\n",
    "nohole_path = os.path.join(out_path, 'States_US_noholes.shp')\n",
    "grid_path = os.path.join(out_path, 'States_US_shgrid.shp')"
   ]
  },
  {
   "cell_type": "markdown",
   "metadata": {},
   "source": [
    "## Hole Extraction"
   ]
  },
  {
   "cell_type": "code",
   "execution_count": null,
   "metadata": {
    "scrolled": true
   },
   "outputs": [],
   "source": [
    "%%time\n",
    "\n",
    "with fiona.open(shapefile_path) as src:\n",
    "#     logger.info(f\"Driver: {src.driver}, CRS: {src.crs}\")\n",
    "#     logger.info(f\"Schema: {src.schema}\")\n",
    "\n",
    "    with fiona.open(new_path, 'w', driver='ESRI Shapefile', \n",
    "                    schema=src.schema.copy(), crs=src.crs) as tgt:\n",
    "        \n",
    "        for i, rec in enumerate(src):\n",
    "            polys = []    \n",
    "\n",
    "            logger.info(f\"State: {rec['properties']['State_Name']}\")\n",
    "\n",
    "            try:\n",
    "                poly = shape(rec['geometry'])\n",
    "            except Exception as e:\n",
    "                logger.exception(f\"Error reading geometry: {rec['properties']}\", e)\n",
    "                raise\n",
    "\n",
    "            # Begin function (geometry)\n",
    "            if poly.geom_type == 'Polygon':\n",
    "\n",
    "                if len(poly.interiors) > 0:\n",
    "                    poly = Polygon(poly.exterior)\n",
    "                \n",
    "            elif poly.geom_type == 'MultiPolygon':\n",
    "                for ring in poly.geoms:\n",
    "                    if len(ring.interiors) > 0:\n",
    "                        polys.append(Polygon(ring.exterior))                        \n",
    "                    else:\n",
    "                        polys.append(ring)\n",
    "\n",
    "                poly = MultiPolygon(polys)\n",
    "                \n",
    "            else:  ## move to assert\n",
    "                raise Exception(f\"Unsupported geometry type: {poly.geom_type}.\")\n",
    "            # End function, return geometry    \n",
    "            \n",
    "            rec['geometry'] = mapping(poly)\n",
    "            tgt.write(rec)\n",
    "\n",
    "            polys = poly = None\n",
    "                \n",
    "print('Completed')"
   ]
  },
  {
   "cell_type": "code",
   "execution_count": null,
   "metadata": {
    "scrolled": false
   },
   "outputs": [],
   "source": [
    "%%time\n",
    "\n",
    "with fiona.open(shapefile_path) as src:\n",
    "#     logger.info(f\"Driver: {src.driver}, CRS: {src.crs}\")\n",
    "#     logger.info(f\"Schema: {src.schema}\")\n",
    "\n",
    "        \n",
    "    for i, rec in enumerate(src):\n",
    "\n",
    "        try:\n",
    "            poly = shape(rec['geometry'])\n",
    "        except Exception as e:\n",
    "            logger.exception(f\"Error reading geometry: {rec['properties']}\", e)\n",
    "            raise\n",
    "\n",
    "        if poly.geom_type == 'MultiPolygon':\n",
    "            for g in poly.geoms:\n",
    "                if len(g.interiors) > 0:\n",
    "                    print(f\"State: {rec['properties']['State_Name']}, {len(g.interiors)}\")\n",
    "                    \n",
    "                    for ring in g.interiors:\n",
    "                        print(len(ring.coords))\n",
    "                \n",
    "print('Completed')"
   ]
  }
 ],
 "metadata": {
  "kernelspec": {
   "display_name": "Python 3",
   "language": "python",
   "name": "python3"
  },
  "language_info": {
   "codemirror_mode": {
    "name": "ipython",
    "version": 3
   },
   "file_extension": ".py",
   "mimetype": "text/x-python",
   "name": "python",
   "nbconvert_exporter": "python",
   "pygments_lexer": "ipython3",
   "version": "3.6.9"
  }
 },
 "nbformat": 4,
 "nbformat_minor": 2
}

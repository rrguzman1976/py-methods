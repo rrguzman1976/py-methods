{
 "cells": [
  {
   "cell_type": "markdown",
   "metadata": {},
   "source": [
    "## Geopandas Examples"
   ]
  },
  {
   "cell_type": "code",
   "execution_count": 1,
   "metadata": {},
   "outputs": [],
   "source": [
    "import os\n",
    "\n",
    "import matplotlib.pyplot as plt\n",
    "import pandas as pd\n",
    "import geopandas as gpd\n",
    "import numpy as np\n",
    "import fiona\n",
    "\n",
    "%matplotlib inline"
   ]
  },
  {
   "cell_type": "markdown",
   "metadata": {},
   "source": [
    "## Read a shapefile"
   ]
  },
  {
   "cell_type": "code",
   "execution_count": 2,
   "metadata": {
    "scrolled": true
   },
   "outputs": [
    {
     "data": {
      "text/html": [
       "<div>\n",
       "<style scoped>\n",
       "    .dataframe tbody tr th:only-of-type {\n",
       "        vertical-align: middle;\n",
       "    }\n",
       "\n",
       "    .dataframe tbody tr th {\n",
       "        vertical-align: top;\n",
       "    }\n",
       "\n",
       "    .dataframe thead th {\n",
       "        text-align: right;\n",
       "    }\n",
       "</style>\n",
       "<table border=\"1\" class=\"dataframe\">\n",
       "  <thead>\n",
       "    <tr style=\"text-align: right;\">\n",
       "      <th></th>\n",
       "      <th>REGION</th>\n",
       "      <th>DIVISION</th>\n",
       "      <th>STATEFP</th>\n",
       "      <th>STATENS</th>\n",
       "      <th>GEOID</th>\n",
       "      <th>STUSPS</th>\n",
       "      <th>NAME</th>\n",
       "      <th>LSAD</th>\n",
       "      <th>MTFCC</th>\n",
       "      <th>FUNCSTAT</th>\n",
       "      <th>ALAND</th>\n",
       "      <th>AWATER</th>\n",
       "      <th>INTPTLAT</th>\n",
       "      <th>INTPTLON</th>\n",
       "      <th>geometry</th>\n",
       "    </tr>\n",
       "  </thead>\n",
       "  <tbody>\n",
       "    <tr>\n",
       "      <th>0</th>\n",
       "      <td>3</td>\n",
       "      <td>5</td>\n",
       "      <td>54</td>\n",
       "      <td>01779805</td>\n",
       "      <td>54</td>\n",
       "      <td>WV</td>\n",
       "      <td>West Virginia</td>\n",
       "      <td>00</td>\n",
       "      <td>G4000</td>\n",
       "      <td>A</td>\n",
       "      <td>62266581604</td>\n",
       "      <td>489443020</td>\n",
       "      <td>+38.6472854</td>\n",
       "      <td>-080.6183274</td>\n",
       "      <td>POLYGON ((-81.74725 39.09538, -81.74635 39.096...</td>\n",
       "    </tr>\n",
       "    <tr>\n",
       "      <th>1</th>\n",
       "      <td>3</td>\n",
       "      <td>5</td>\n",
       "      <td>12</td>\n",
       "      <td>00294478</td>\n",
       "      <td>12</td>\n",
       "      <td>FL</td>\n",
       "      <td>Florida</td>\n",
       "      <td>00</td>\n",
       "      <td>G4000</td>\n",
       "      <td>A</td>\n",
       "      <td>138903200855</td>\n",
       "      <td>31407883551</td>\n",
       "      <td>+28.4574302</td>\n",
       "      <td>-082.4091478</td>\n",
       "      <td>MULTIPOLYGON (((-82.98339 24.60263, -82.98624 ...</td>\n",
       "    </tr>\n",
       "    <tr>\n",
       "      <th>2</th>\n",
       "      <td>2</td>\n",
       "      <td>3</td>\n",
       "      <td>17</td>\n",
       "      <td>01779784</td>\n",
       "      <td>17</td>\n",
       "      <td>IL</td>\n",
       "      <td>Illinois</td>\n",
       "      <td>00</td>\n",
       "      <td>G4000</td>\n",
       "      <td>A</td>\n",
       "      <td>143794747023</td>\n",
       "      <td>6200927458</td>\n",
       "      <td>+40.1028754</td>\n",
       "      <td>-089.1526108</td>\n",
       "      <td>POLYGON ((-91.18529 40.63780, -91.17510 40.643...</td>\n",
       "    </tr>\n",
       "    <tr>\n",
       "      <th>3</th>\n",
       "      <td>2</td>\n",
       "      <td>4</td>\n",
       "      <td>27</td>\n",
       "      <td>00662849</td>\n",
       "      <td>27</td>\n",
       "      <td>MN</td>\n",
       "      <td>Minnesota</td>\n",
       "      <td>00</td>\n",
       "      <td>G4000</td>\n",
       "      <td>A</td>\n",
       "      <td>206236605303</td>\n",
       "      <td>18924324242</td>\n",
       "      <td>+46.3161343</td>\n",
       "      <td>-094.1994801</td>\n",
       "      <td>POLYGON ((-96.78438 46.63050, -96.78434 46.630...</td>\n",
       "    </tr>\n",
       "    <tr>\n",
       "      <th>4</th>\n",
       "      <td>3</td>\n",
       "      <td>5</td>\n",
       "      <td>24</td>\n",
       "      <td>01714934</td>\n",
       "      <td>24</td>\n",
       "      <td>MD</td>\n",
       "      <td>Maryland</td>\n",
       "      <td>00</td>\n",
       "      <td>G4000</td>\n",
       "      <td>A</td>\n",
       "      <td>25147575220</td>\n",
       "      <td>6983455225</td>\n",
       "      <td>+38.9466584</td>\n",
       "      <td>-076.6744939</td>\n",
       "      <td>POLYGON ((-77.45881 39.22027, -77.45866 39.220...</td>\n",
       "    </tr>\n",
       "    <tr>\n",
       "      <th>5</th>\n",
       "      <td>1</td>\n",
       "      <td>1</td>\n",
       "      <td>44</td>\n",
       "      <td>01219835</td>\n",
       "      <td>44</td>\n",
       "      <td>RI</td>\n",
       "      <td>Rhode Island</td>\n",
       "      <td>00</td>\n",
       "      <td>G4000</td>\n",
       "      <td>A</td>\n",
       "      <td>2677751247</td>\n",
       "      <td>1323482672</td>\n",
       "      <td>+41.5974187</td>\n",
       "      <td>-071.5272723</td>\n",
       "      <td>MULTIPOLYGON (((-71.67264 41.13429, -71.67609 ...</td>\n",
       "    </tr>\n",
       "    <tr>\n",
       "      <th>6</th>\n",
       "      <td>4</td>\n",
       "      <td>8</td>\n",
       "      <td>16</td>\n",
       "      <td>01779783</td>\n",
       "      <td>16</td>\n",
       "      <td>ID</td>\n",
       "      <td>Idaho</td>\n",
       "      <td>00</td>\n",
       "      <td>G4000</td>\n",
       "      <td>A</td>\n",
       "      <td>214045425549</td>\n",
       "      <td>2397728105</td>\n",
       "      <td>+44.3020993</td>\n",
       "      <td>-114.5956279</td>\n",
       "      <td>POLYGON ((-116.89971 44.84061, -116.89967 44.8...</td>\n",
       "    </tr>\n",
       "    <tr>\n",
       "      <th>7</th>\n",
       "      <td>1</td>\n",
       "      <td>1</td>\n",
       "      <td>33</td>\n",
       "      <td>01779794</td>\n",
       "      <td>33</td>\n",
       "      <td>NH</td>\n",
       "      <td>New Hampshire</td>\n",
       "      <td>00</td>\n",
       "      <td>G4000</td>\n",
       "      <td>A</td>\n",
       "      <td>23187964254</td>\n",
       "      <td>1026252314</td>\n",
       "      <td>+43.6726907</td>\n",
       "      <td>-071.5843145</td>\n",
       "      <td>POLYGON ((-72.32962 43.60020, -72.32851 43.600...</td>\n",
       "    </tr>\n",
       "    <tr>\n",
       "      <th>8</th>\n",
       "      <td>3</td>\n",
       "      <td>5</td>\n",
       "      <td>37</td>\n",
       "      <td>01027616</td>\n",
       "      <td>37</td>\n",
       "      <td>NC</td>\n",
       "      <td>North Carolina</td>\n",
       "      <td>00</td>\n",
       "      <td>G4000</td>\n",
       "      <td>A</td>\n",
       "      <td>125917995955</td>\n",
       "      <td>13472722504</td>\n",
       "      <td>+35.5397100</td>\n",
       "      <td>-079.1308636</td>\n",
       "      <td>POLYGON ((-82.41671 36.07278, -82.41669 36.072...</td>\n",
       "    </tr>\n",
       "    <tr>\n",
       "      <th>9</th>\n",
       "      <td>1</td>\n",
       "      <td>1</td>\n",
       "      <td>50</td>\n",
       "      <td>01779802</td>\n",
       "      <td>50</td>\n",
       "      <td>VT</td>\n",
       "      <td>Vermont</td>\n",
       "      <td>00</td>\n",
       "      <td>G4000</td>\n",
       "      <td>A</td>\n",
       "      <td>23871896411</td>\n",
       "      <td>1034369068</td>\n",
       "      <td>+44.0604795</td>\n",
       "      <td>-072.6733273</td>\n",
       "      <td>POLYGON ((-73.31328 44.26413, -73.31274 44.265...</td>\n",
       "    </tr>\n",
       "    <tr>\n",
       "      <th>10</th>\n",
       "      <td>1</td>\n",
       "      <td>1</td>\n",
       "      <td>09</td>\n",
       "      <td>01779780</td>\n",
       "      <td>09</td>\n",
       "      <td>CT</td>\n",
       "      <td>Connecticut</td>\n",
       "      <td>00</td>\n",
       "      <td>G4000</td>\n",
       "      <td>A</td>\n",
       "      <td>12542396439</td>\n",
       "      <td>1814978794</td>\n",
       "      <td>+41.5797777</td>\n",
       "      <td>-072.7466665</td>\n",
       "      <td>POLYGON ((-73.51808 41.66672, -73.51807 41.666...</td>\n",
       "    </tr>\n",
       "    <tr>\n",
       "      <th>11</th>\n",
       "      <td>3</td>\n",
       "      <td>5</td>\n",
       "      <td>10</td>\n",
       "      <td>01779781</td>\n",
       "      <td>10</td>\n",
       "      <td>DE</td>\n",
       "      <td>Delaware</td>\n",
       "      <td>00</td>\n",
       "      <td>G4000</td>\n",
       "      <td>A</td>\n",
       "      <td>5047093738</td>\n",
       "      <td>1398754502</td>\n",
       "      <td>+38.9985380</td>\n",
       "      <td>-075.4416616</td>\n",
       "      <td>POLYGON ((-75.76007 39.29682, -75.76010 39.297...</td>\n",
       "    </tr>\n",
       "    <tr>\n",
       "      <th>12</th>\n",
       "      <td>4</td>\n",
       "      <td>8</td>\n",
       "      <td>35</td>\n",
       "      <td>00897535</td>\n",
       "      <td>35</td>\n",
       "      <td>NM</td>\n",
       "      <td>New Mexico</td>\n",
       "      <td>00</td>\n",
       "      <td>G4000</td>\n",
       "      <td>A</td>\n",
       "      <td>314161410324</td>\n",
       "      <td>755712514</td>\n",
       "      <td>+34.4346843</td>\n",
       "      <td>-106.1316181</td>\n",
       "      <td>POLYGON ((-106.00663 36.99534, -106.00637 36.9...</td>\n",
       "    </tr>\n",
       "    <tr>\n",
       "      <th>13</th>\n",
       "      <td>4</td>\n",
       "      <td>9</td>\n",
       "      <td>06</td>\n",
       "      <td>01779778</td>\n",
       "      <td>06</td>\n",
       "      <td>CA</td>\n",
       "      <td>California</td>\n",
       "      <td>00</td>\n",
       "      <td>G4000</td>\n",
       "      <td>A</td>\n",
       "      <td>403483823181</td>\n",
       "      <td>20483271881</td>\n",
       "      <td>+37.1551773</td>\n",
       "      <td>-119.5434183</td>\n",
       "      <td>MULTIPOLYGON (((-119.63472 33.26544, -119.6363...</td>\n",
       "    </tr>\n",
       "    <tr>\n",
       "      <th>14</th>\n",
       "      <td>1</td>\n",
       "      <td>2</td>\n",
       "      <td>34</td>\n",
       "      <td>01779795</td>\n",
       "      <td>34</td>\n",
       "      <td>NJ</td>\n",
       "      <td>New Jersey</td>\n",
       "      <td>00</td>\n",
       "      <td>G4000</td>\n",
       "      <td>A</td>\n",
       "      <td>19048769408</td>\n",
       "      <td>3542752545</td>\n",
       "      <td>+40.1072744</td>\n",
       "      <td>-074.6652012</td>\n",
       "      <td>POLYGON ((-75.18960 40.59178, -75.18977 40.592...</td>\n",
       "    </tr>\n",
       "    <tr>\n",
       "      <th>15</th>\n",
       "      <td>2</td>\n",
       "      <td>3</td>\n",
       "      <td>55</td>\n",
       "      <td>01779806</td>\n",
       "      <td>55</td>\n",
       "      <td>WI</td>\n",
       "      <td>Wisconsin</td>\n",
       "      <td>00</td>\n",
       "      <td>G4000</td>\n",
       "      <td>A</td>\n",
       "      <td>140269495483</td>\n",
       "      <td>29365430262</td>\n",
       "      <td>+44.6309071</td>\n",
       "      <td>-089.7093916</td>\n",
       "      <td>POLYGON ((-92.88707 45.64415, -92.88671 45.644...</td>\n",
       "    </tr>\n",
       "    <tr>\n",
       "      <th>16</th>\n",
       "      <td>4</td>\n",
       "      <td>9</td>\n",
       "      <td>41</td>\n",
       "      <td>01155107</td>\n",
       "      <td>41</td>\n",
       "      <td>OR</td>\n",
       "      <td>Oregon</td>\n",
       "      <td>00</td>\n",
       "      <td>G4000</td>\n",
       "      <td>A</td>\n",
       "      <td>248608666869</td>\n",
       "      <td>6190902750</td>\n",
       "      <td>+43.9717125</td>\n",
       "      <td>-120.6229578</td>\n",
       "      <td>POLYGON ((-124.06545 45.78305, -124.06206 45.7...</td>\n",
       "    </tr>\n",
       "    <tr>\n",
       "      <th>17</th>\n",
       "      <td>2</td>\n",
       "      <td>4</td>\n",
       "      <td>31</td>\n",
       "      <td>01779792</td>\n",
       "      <td>31</td>\n",
       "      <td>NE</td>\n",
       "      <td>Nebraska</td>\n",
       "      <td>00</td>\n",
       "      <td>G4000</td>\n",
       "      <td>A</td>\n",
       "      <td>198972282955</td>\n",
       "      <td>1356441861</td>\n",
       "      <td>+41.5433014</td>\n",
       "      <td>-099.8118616</td>\n",
       "      <td>POLYGON ((-104.05264 42.00172, -104.05263 42.0...</td>\n",
       "    </tr>\n",
       "    <tr>\n",
       "      <th>18</th>\n",
       "      <td>1</td>\n",
       "      <td>2</td>\n",
       "      <td>42</td>\n",
       "      <td>01779798</td>\n",
       "      <td>42</td>\n",
       "      <td>PA</td>\n",
       "      <td>Pennsylvania</td>\n",
       "      <td>00</td>\n",
       "      <td>G4000</td>\n",
       "      <td>A</td>\n",
       "      <td>115884023072</td>\n",
       "      <td>3396010541</td>\n",
       "      <td>+40.9024957</td>\n",
       "      <td>-077.8334514</td>\n",
       "      <td>POLYGON ((-80.51935 41.84956, -80.51938 41.850...</td>\n",
       "    </tr>\n",
       "    <tr>\n",
       "      <th>19</th>\n",
       "      <td>4</td>\n",
       "      <td>9</td>\n",
       "      <td>53</td>\n",
       "      <td>01779804</td>\n",
       "      <td>53</td>\n",
       "      <td>WA</td>\n",
       "      <td>Washington</td>\n",
       "      <td>00</td>\n",
       "      <td>G4000</td>\n",
       "      <td>A</td>\n",
       "      <td>172120795268</td>\n",
       "      <td>12540315747</td>\n",
       "      <td>+47.4073238</td>\n",
       "      <td>-120.5757999</td>\n",
       "      <td>POLYGON ((-123.24903 48.28431, -123.23154 48.3...</td>\n",
       "    </tr>\n",
       "  </tbody>\n",
       "</table>\n",
       "</div>"
      ],
      "text/plain": [
       "   REGION DIVISION STATEFP   STATENS GEOID STUSPS            NAME LSAD  MTFCC  \\\n",
       "0       3        5      54  01779805    54     WV   West Virginia   00  G4000   \n",
       "1       3        5      12  00294478    12     FL         Florida   00  G4000   \n",
       "2       2        3      17  01779784    17     IL        Illinois   00  G4000   \n",
       "3       2        4      27  00662849    27     MN       Minnesota   00  G4000   \n",
       "4       3        5      24  01714934    24     MD        Maryland   00  G4000   \n",
       "5       1        1      44  01219835    44     RI    Rhode Island   00  G4000   \n",
       "6       4        8      16  01779783    16     ID           Idaho   00  G4000   \n",
       "7       1        1      33  01779794    33     NH   New Hampshire   00  G4000   \n",
       "8       3        5      37  01027616    37     NC  North Carolina   00  G4000   \n",
       "9       1        1      50  01779802    50     VT         Vermont   00  G4000   \n",
       "10      1        1      09  01779780    09     CT     Connecticut   00  G4000   \n",
       "11      3        5      10  01779781    10     DE        Delaware   00  G4000   \n",
       "12      4        8      35  00897535    35     NM      New Mexico   00  G4000   \n",
       "13      4        9      06  01779778    06     CA      California   00  G4000   \n",
       "14      1        2      34  01779795    34     NJ      New Jersey   00  G4000   \n",
       "15      2        3      55  01779806    55     WI       Wisconsin   00  G4000   \n",
       "16      4        9      41  01155107    41     OR          Oregon   00  G4000   \n",
       "17      2        4      31  01779792    31     NE        Nebraska   00  G4000   \n",
       "18      1        2      42  01779798    42     PA    Pennsylvania   00  G4000   \n",
       "19      4        9      53  01779804    53     WA      Washington   00  G4000   \n",
       "\n",
       "   FUNCSTAT         ALAND       AWATER     INTPTLAT      INTPTLON  \\\n",
       "0         A   62266581604    489443020  +38.6472854  -080.6183274   \n",
       "1         A  138903200855  31407883551  +28.4574302  -082.4091478   \n",
       "2         A  143794747023   6200927458  +40.1028754  -089.1526108   \n",
       "3         A  206236605303  18924324242  +46.3161343  -094.1994801   \n",
       "4         A   25147575220   6983455225  +38.9466584  -076.6744939   \n",
       "5         A    2677751247   1323482672  +41.5974187  -071.5272723   \n",
       "6         A  214045425549   2397728105  +44.3020993  -114.5956279   \n",
       "7         A   23187964254   1026252314  +43.6726907  -071.5843145   \n",
       "8         A  125917995955  13472722504  +35.5397100  -079.1308636   \n",
       "9         A   23871896411   1034369068  +44.0604795  -072.6733273   \n",
       "10        A   12542396439   1814978794  +41.5797777  -072.7466665   \n",
       "11        A    5047093738   1398754502  +38.9985380  -075.4416616   \n",
       "12        A  314161410324    755712514  +34.4346843  -106.1316181   \n",
       "13        A  403483823181  20483271881  +37.1551773  -119.5434183   \n",
       "14        A   19048769408   3542752545  +40.1072744  -074.6652012   \n",
       "15        A  140269495483  29365430262  +44.6309071  -089.7093916   \n",
       "16        A  248608666869   6190902750  +43.9717125  -120.6229578   \n",
       "17        A  198972282955   1356441861  +41.5433014  -099.8118616   \n",
       "18        A  115884023072   3396010541  +40.9024957  -077.8334514   \n",
       "19        A  172120795268  12540315747  +47.4073238  -120.5757999   \n",
       "\n",
       "                                             geometry  \n",
       "0   POLYGON ((-81.74725 39.09538, -81.74635 39.096...  \n",
       "1   MULTIPOLYGON (((-82.98339 24.60263, -82.98624 ...  \n",
       "2   POLYGON ((-91.18529 40.63780, -91.17510 40.643...  \n",
       "3   POLYGON ((-96.78438 46.63050, -96.78434 46.630...  \n",
       "4   POLYGON ((-77.45881 39.22027, -77.45866 39.220...  \n",
       "5   MULTIPOLYGON (((-71.67264 41.13429, -71.67609 ...  \n",
       "6   POLYGON ((-116.89971 44.84061, -116.89967 44.8...  \n",
       "7   POLYGON ((-72.32962 43.60020, -72.32851 43.600...  \n",
       "8   POLYGON ((-82.41671 36.07278, -82.41669 36.072...  \n",
       "9   POLYGON ((-73.31328 44.26413, -73.31274 44.265...  \n",
       "10  POLYGON ((-73.51808 41.66672, -73.51807 41.666...  \n",
       "11  POLYGON ((-75.76007 39.29682, -75.76010 39.297...  \n",
       "12  POLYGON ((-106.00663 36.99534, -106.00637 36.9...  \n",
       "13  MULTIPOLYGON (((-119.63472 33.26544, -119.6363...  \n",
       "14  POLYGON ((-75.18960 40.59178, -75.18977 40.592...  \n",
       "15  POLYGON ((-92.88707 45.64415, -92.88671 45.644...  \n",
       "16  POLYGON ((-124.06545 45.78305, -124.06206 45.7...  \n",
       "17  POLYGON ((-104.05264 42.00172, -104.05263 42.0...  \n",
       "18  POLYGON ((-80.51935 41.84956, -80.51938 41.850...  \n",
       "19  POLYGON ((-123.24903 48.28431, -123.23154 48.3...  "
      ]
     },
     "execution_count": 2,
     "metadata": {},
     "output_type": "execute_result"
    }
   ],
   "source": [
    "# In NAD83\n",
    "shp_path = os.path.join(os.environ[\"DATA_DIR\"], 'us_states', 'tl_2014_us_state.shp')\n",
    "\n",
    "states_df = gpd.read_file(shp_path)\n",
    "states_df.head(20)"
   ]
  },
  {
   "cell_type": "code",
   "execution_count": 6,
   "metadata": {},
   "outputs": [
    {
     "data": {
      "text/plain": [
       "<matplotlib.axes._subplots.AxesSubplot at 0x7f9904ac39b0>"
      ]
     },
     "execution_count": 6,
     "metadata": {},
     "output_type": "execute_result"
    },
    {
     "data": {
      "image/png": "[encoded data removed]",
      "text/plain": [
       "<Figure size 432x288 with 1 Axes>"
      ]
     },
     "metadata": {
      "needs_background": "light"
     },
     "output_type": "display_data"
    }
   ],
   "source": [
    "states_df[states_df.STUSPS.isin(['TX', 'OK', 'NM', 'LA'])].plot(cmap=\"Set1\")"
   ]
  },
  {
   "cell_type": "markdown",
   "metadata": {},
   "source": [
    "## Examine Metadata"
   ]
  },
  {
   "cell_type": "code",
   "execution_count": 11,
   "metadata": {},
   "outputs": [
    {
     "data": {
      "text/plain": [
       "0         Polygon\n",
       "1    MultiPolygon\n",
       "2         Polygon\n",
       "3         Polygon\n",
       "4         Polygon\n",
       "dtype: object"
      ]
     },
     "execution_count": 11,
     "metadata": {},
     "output_type": "execute_result"
    }
   ],
   "source": [
    "states_df.head(5).geom_type"
   ]
  },
  {
   "cell_type": "code",
   "execution_count": 12,
   "metadata": {},
   "outputs": [
    {
     "data": {
      "text/plain": [
       "{'init': 'epsg:4269'}"
      ]
     },
     "execution_count": 12,
     "metadata": {},
     "output_type": "execute_result"
    }
   ],
   "source": [
    "states_df.crs"
   ]
  },
  {
   "cell_type": "markdown",
   "metadata": {},
   "source": [
    "## Transformations/Reprojections"
   ]
  },
  {
   "cell_type": "code",
   "execution_count": 5,
   "metadata": {},
   "outputs": [
    {
     "name": "stderr",
     "output_type": "stream",
     "text": [
      "/usr/local/lib/python3.6/dist-packages/pyproj/crs.py:77: FutureWarning: '+init=<authority>:<code>' syntax is deprecated. '<authority>:<code>' is the preferred initialization method.\n",
      "  return _prepare_from_string(\" \".join(pjargs))\n"
     ]
    },
    {
     "data": {
      "text/plain": [
       "<matplotlib.axes._subplots.AxesSubplot at 0x7f9904b466a0>"
      ]
     },
     "execution_count": 5,
     "metadata": {},
     "output_type": "execute_result"
    },
    {
     "data": {
      "image/png": "[encoded data removed]",
      "text/plain": [
       "<Figure size 432x288 with 1 Axes>"
      ]
     },
     "metadata": {
      "needs_background": "light"
     },
     "output_type": "display_data"
    }
   ],
   "source": [
    "# Mercator: https://spatialreference.org/ref/epsg/3395/\n",
    "#merc = states_df.to_crs({'init': 'epsg:3395'})\n",
    "merc = states_df[states_df.STUSPS.isin(['TX', 'OK', 'NM', 'LA'])].to_crs(epsg=3395)\n",
    "\n",
    "merc.plot(cmap=\"Set1\")"
   ]
  },
  {
   "cell_type": "markdown",
   "metadata": {},
   "source": [
    "## Spatial Join"
   ]
  },
  {
   "cell_type": "code",
   "execution_count": null,
   "metadata": {
    "scrolled": true
   },
   "outputs": [],
   "source": [
    "# In NAD27: EPSG:4267\n",
    "shp_path2 = os.path.join(os.environ[\"DATA_DIR\"], 'roads', 'roads.shp')\n",
    "\n",
    "roads_df = gpd.read_file(shp_path2)\n",
    "roads_df.head()"
   ]
  },
  {
   "cell_type": "markdown",
   "metadata": {},
   "source": [
    "## Standardize to WGS84, EPSG:4326"
   ]
  },
  {
   "cell_type": "code",
   "execution_count": null,
   "metadata": {
    "scrolled": true
   },
   "outputs": [],
   "source": [
    "states_wgs84_df = states_df.loc[:, ['STATEFP', 'STUSPS', 'NAME', 'geometry']].copy().to_crs(epsg=4326)\n",
    "roads_wgs84_df = roads_df.copy().to_crs(epsg=4326)"
   ]
  },
  {
   "cell_type": "code",
   "execution_count": 12,
   "metadata": {},
   "outputs": [],
   "source": [
    "roads_states_df = gpd.sjoin(roads_wgs84_df, states_wgs84_df, how='inner', op='within')"
   ]
  },
  {
   "cell_type": "code",
   "execution_count": null,
   "metadata": {
    "scrolled": true
   },
   "outputs": [],
   "source": [
    "roads_states_df.head()"
   ]
  },
  {
   "cell_type": "code",
   "execution_count": 13,
   "metadata": {},
   "outputs": [
    {
     "data": {
      "text/plain": [
       "<matplotlib.axes._subplots.AxesSubplot at 0x7fc985165828>"
      ]
     },
     "execution_count": 13,
     "metadata": {},
     "output_type": "execute_result"
    },
    {
     "data": {
      "image/png": "[encoded data removed]",
      "text/plain": [
       "<Figure size 432x288 with 1 Axes>"
      ]
     },
     "metadata": {
      "needs_background": "light"
     },
     "output_type": "display_data"
    }
   ],
   "source": [
    "roads_states_df.plot(cmap=\"Set1\")"
   ]
  },
  {
   "cell_type": "markdown",
   "metadata": {},
   "source": [
    "## Overlaps Example via Spatial Join"
   ]
  },
  {
   "cell_type": "code",
   "execution_count": 13,
   "metadata": {},
   "outputs": [
    {
     "name": "stdout",
     "output_type": "stream",
     "text": [
      "CPU times: user 6.06 s, sys: 51.5 ms, total: 6.11 s\n",
      "Wall time: 6.1 s\n"
     ]
    },
    {
     "data": {
      "text/plain": [
       "<geopandas.sindex.SpatialIndex at 0x7f1b57bccda0>"
      ]
     },
     "execution_count": 13,
     "metadata": {},
     "output_type": "execute_result"
    }
   ],
   "source": [
    "%%time\n",
    "\n",
    "# In WGS84: EPSG:4326\n",
    "layers = ['Counties_US_WGS84', 'NM_township']\n",
    "\n",
    "gdb_path = os.path.join(os.environ[\"DATA_DIR\"], 'landgrid', 'DI_basemaps_WGS84.gdb')\n",
    "\n",
    "counties_df = gpd.read_file(gdb_path, layer='Counties_US_WGS84')\n",
    "nm_twp_df = gpd.read_file(gdb_path, layer='NM_township')\n",
    "\n",
    "# pre-generate sindex if it doesn't already exist\n",
    "nm_twp_df.sindex"
   ]
  },
  {
   "cell_type": "code",
   "execution_count": 14,
   "metadata": {
    "scrolled": true
   },
   "outputs": [
    {
     "name": "stdout",
     "output_type": "stream",
     "text": [
      "CPU times: user 1.51 s, sys: 60 µs, total: 1.51 s\n",
      "Wall time: 1.51 s\n"
     ]
    }
   ],
   "source": [
    "%%time\n",
    "\n",
    "ovlaps_df = gpd.sjoin(nm_twp_df, counties_df, how='inner', op='intersects')"
   ]
  },
  {
   "cell_type": "markdown",
   "metadata": {},
   "source": [
    "### Implement String Aggregation using Pandas\n",
    "- [Reference](https://stackoverflow.com/questions/17841149/pandas-groupby-how-to-get-a-union-of-strings)"
   ]
  },
  {
   "cell_type": "code",
   "execution_count": 8,
   "metadata": {},
   "outputs": [
    {
     "name": "stdout",
     "output_type": "stream",
     "text": [
      "CPU times: user 914 ms, sys: 12.5 ms, total: 926 ms\n",
      "Wall time: 904 ms\n"
     ]
    },
    {
     "data": {
      "text/html": [
       "<div>\n",
       "<style scoped>\n",
       "    .dataframe tbody tr th:only-of-type {\n",
       "        vertical-align: middle;\n",
       "    }\n",
       "\n",
       "    .dataframe tbody tr th {\n",
       "        vertical-align: top;\n",
       "    }\n",
       "\n",
       "    .dataframe thead th {\n",
       "        text-align: right;\n",
       "    }\n",
       "</style>\n",
       "<table border=\"1\" class=\"dataframe\">\n",
       "  <thead>\n",
       "    <tr style=\"text-align: right;\">\n",
       "      <th></th>\n",
       "      <th>TWPLabel</th>\n",
       "      <th>TWPCODE</th>\n",
       "      <th>County_Count</th>\n",
       "      <th>County_Overlaps</th>\n",
       "    </tr>\n",
       "  </thead>\n",
       "  <tbody>\n",
       "    <tr>\n",
       "      <th>0</th>\n",
       "      <td>T9N R21W</td>\n",
       "      <td>3023T00900NR02100W</td>\n",
       "      <td>3</td>\n",
       "      <td>McKinley,Apache,Cibola</td>\n",
       "    </tr>\n",
       "    <tr>\n",
       "      <th>1</th>\n",
       "      <td>T13N R5W</td>\n",
       "      <td>3023T01300NR00500W</td>\n",
       "      <td>3</td>\n",
       "      <td>McKinley,Cibola,Sandoval</td>\n",
       "    </tr>\n",
       "    <tr>\n",
       "      <th>2</th>\n",
       "      <td>T20N R8W</td>\n",
       "      <td>3023T02000NR00800W</td>\n",
       "      <td>3</td>\n",
       "      <td>McKinley,Sandoval,San Juan</td>\n",
       "    </tr>\n",
       "    <tr>\n",
       "      <th>3</th>\n",
       "      <td>T21N R7W</td>\n",
       "      <td>3023T02100NR00700W</td>\n",
       "      <td>3</td>\n",
       "      <td>McKinley,Sandoval,San Juan</td>\n",
       "    </tr>\n",
       "    <tr>\n",
       "      <th>4</th>\n",
       "      <td>T21N R8W</td>\n",
       "      <td>3023T02100NR00800W</td>\n",
       "      <td>3</td>\n",
       "      <td>McKinley,Sandoval,San Juan</td>\n",
       "    </tr>\n",
       "    <tr>\n",
       "      <th>...</th>\n",
       "      <td>...</td>\n",
       "      <td>...</td>\n",
       "      <td>...</td>\n",
       "      <td>...</td>\n",
       "    </tr>\n",
       "    <tr>\n",
       "      <th>92</th>\n",
       "      <td>T21N R13E</td>\n",
       "      <td>3023T02100NR01300E</td>\n",
       "      <td>3</td>\n",
       "      <td>Mora,Rio Arriba,Taos</td>\n",
       "    </tr>\n",
       "    <tr>\n",
       "      <th>93</th>\n",
       "      <td>T23N R15E</td>\n",
       "      <td>3023T02300NR01500E</td>\n",
       "      <td>3</td>\n",
       "      <td>Mora,Taos,Colfax</td>\n",
       "    </tr>\n",
       "    <tr>\n",
       "      <th>94</th>\n",
       "      <td>T32N R9E</td>\n",
       "      <td>3023T03200NR00900E</td>\n",
       "      <td>3</td>\n",
       "      <td>Rio Arriba,Taos,Conejos</td>\n",
       "    </tr>\n",
       "    <tr>\n",
       "      <th>95</th>\n",
       "      <td>T32N R15W</td>\n",
       "      <td>3023T03200NR01500W</td>\n",
       "      <td>3</td>\n",
       "      <td>San Juan,La Plata,Montezuma</td>\n",
       "    </tr>\n",
       "    <tr>\n",
       "      <th>96</th>\n",
       "      <td>T32N R16E</td>\n",
       "      <td>3023T03200NR01600E</td>\n",
       "      <td>3</td>\n",
       "      <td>Taos,Colfax,Costilla</td>\n",
       "    </tr>\n",
       "  </tbody>\n",
       "</table>\n",
       "<p>97 rows × 4 columns</p>\n",
       "</div>"
      ],
      "text/plain": [
       "     TWPLabel             TWPCODE  County_Count              County_Overlaps\n",
       "0    T9N R21W  3023T00900NR02100W             3       McKinley,Apache,Cibola\n",
       "1    T13N R5W  3023T01300NR00500W             3     McKinley,Cibola,Sandoval\n",
       "2    T20N R8W  3023T02000NR00800W             3   McKinley,Sandoval,San Juan\n",
       "3    T21N R7W  3023T02100NR00700W             3   McKinley,Sandoval,San Juan\n",
       "4    T21N R8W  3023T02100NR00800W             3   McKinley,Sandoval,San Juan\n",
       "..        ...                 ...           ...                          ...\n",
       "92  T21N R13E  3023T02100NR01300E             3         Mora,Rio Arriba,Taos\n",
       "93  T23N R15E  3023T02300NR01500E             3             Mora,Taos,Colfax\n",
       "94   T32N R9E  3023T03200NR00900E             3      Rio Arriba,Taos,Conejos\n",
       "95  T32N R15W  3023T03200NR01500W             3  San Juan,La Plata,Montezuma\n",
       "96  T32N R16E  3023T03200NR01600E             3         Taos,Colfax,Costilla\n",
       "\n",
       "[97 rows x 4 columns]"
      ]
     },
     "execution_count": 8,
     "metadata": {},
     "output_type": "execute_result"
    }
   ],
   "source": [
    "%%time\n",
    "\n",
    "ovlaps_agg_df = ovlaps_df.loc[:, ['TWPCODE', 'TWPLabel', 'County_Name']].copy()\n",
    "\n",
    "# ovlaps_join_df = (ovlaps_agg_df\n",
    "#                   .groupby('TWPLabel', sort=False)\n",
    "#                   .filter(lambda x: len(x['County_Name']) > 2)  # like HAVING\n",
    "#                   .groupby('TWPLabel', sort=False)\n",
    "#                   .aggregate({'TWPCODE': 'first',\n",
    "#                               'County_Name': ','.join})\n",
    "#                  )\n",
    "\n",
    "#Pandas 0.25.0\n",
    "ovlaps_join_df = (ovlaps_agg_df\n",
    "                  .groupby('TWPLabel', sort=False)\n",
    "                  .filter(lambda x: len(x['County_Name']) > 2)  # like HAVING\n",
    "                  .groupby('TWPLabel', sort=False)\n",
    "                  .aggregate(TWPCODE=('TWPCODE', 'first'),\n",
    "                             County_Count=('County_Name', 'size'),\n",
    "                             County_Overlaps=('County_Name', ','.join)))\n",
    "\n",
    "ovlaps_join_df.reset_index()"
   ]
  },
  {
   "cell_type": "markdown",
   "metadata": {},
   "source": [
    "## Dissolve Example"
   ]
  },
  {
   "cell_type": "code",
   "execution_count": 29,
   "metadata": {},
   "outputs": [],
   "source": [
    "# In WGS84: EPSG:4326\n",
    "# For Texas_Abstracts, dissolve (Township, Block) => Block\n",
    "# For Ohio_Sections, dissolve (COUNTY, TOWNSHIP) => Municipality\n",
    "# For Ohio_Sections, dissolve (COUNTY, TOWNSHIP, TWP, TNS, RGE, REW) => Township\n",
    "# For Ohio_Sections, dissolve (COUNTY, TOWNSHIP, TWP, TNS, RGE, REW) => Section\n",
    "\n",
    "layers = ['Ohio_Sections', 'Texas_Abstracts', 'Ohio_Sections']\n",
    "gdb_path = os.path.join(os.environ[\"DATA_DIR\"], 'landgrid', 'DI_basemaps_WGS84.gdb')\n",
    "\n",
    "ohio_df = gpd.read_file(gdb_path, layer='Ohio_Sections')"
   ]
  },
  {
   "cell_type": "code",
   "execution_count": 31,
   "metadata": {},
   "outputs": [
    {
     "data": {
      "text/plain": [
       "Index(['SUBDIV_NM', 'TWP', 'TNS', 'RGE', 'REW', 'SEC', 'QTR_TWP', 'ALLOTMENT',\n",
       "       'TRACT', 'LOT', 'DIVISION', 'FRACTION', 'COUNTY', 'TOWNSHIP',\n",
       "       'SURVEY_TYP', 'Shape_Leng', 'ObjectID', 'VMSLOT', 'OTHER_SUB',\n",
       "       'Shape_Length', 'Shape_Area', 'geometry'],\n",
       "      dtype='object')"
      ]
     },
     "execution_count": 31,
     "metadata": {},
     "output_type": "execute_result"
    }
   ],
   "source": [
    "ohio_df.columns"
   ]
  },
  {
   "cell_type": "code",
   "execution_count": 32,
   "metadata": {},
   "outputs": [
    {
     "name": "stdout",
     "output_type": "stream",
     "text": [
      "CPU times: user 13.7 s, sys: 6 µs, total: 13.7 s\n",
      "Wall time: 13.8 s\n"
     ]
    }
   ],
   "source": [
    "%%time\n",
    "\n",
    "ohio_muni_df = ohio_df.dissolve(by=['COUNTY', 'TOWNSHIP'], aggfunc='first')"
   ]
  },
  {
   "cell_type": "code",
   "execution_count": 37,
   "metadata": {},
   "outputs": [
    {
     "data": {
      "text/plain": [
       "MultiIndex([(  'Adams',     'BRATTON'),\n",
       "            (  'Adams', 'BRUSH CREEK'),\n",
       "            (  'Adams',    'FRANKLIN'),\n",
       "            (  'Adams',       'GREEN'),\n",
       "            (  'Adams',   'JEFFERSON'),\n",
       "            (  'Adams',     'LIBERTY'),\n",
       "            (  'Adams',  'MANCHESTER'),\n",
       "            (  'Adams',       'MEIGS'),\n",
       "            (  'Adams',      'MONROE'),\n",
       "            (  'Adams',      'OLIVER'),\n",
       "            ...\n",
       "            ('Wyandot',        'EDEN'),\n",
       "            ('Wyandot',     'JACKSON'),\n",
       "            ('Wyandot',  'MARSEILLES'),\n",
       "            ('Wyandot',     'MIFFLIN'),\n",
       "            ('Wyandot',        'PITT'),\n",
       "            ('Wyandot',    'RICHLAND'),\n",
       "            ('Wyandot',       'RIDGE'),\n",
       "            ('Wyandot',       'SALEM'),\n",
       "            ('Wyandot',    'SYCAMORE'),\n",
       "            ('Wyandot',   'TYMOCHTEE')],\n",
       "           names=['COUNTY', 'TOWNSHIP'], length=1363)"
      ]
     },
     "execution_count": 37,
     "metadata": {},
     "output_type": "execute_result"
    }
   ],
   "source": [
    "ohio_muni_df.index"
   ]
  },
  {
   "cell_type": "code",
   "execution_count": 36,
   "metadata": {},
   "outputs": [
    {
     "data": {
      "text/html": [
       "<div>\n",
       "<style scoped>\n",
       "    .dataframe tbody tr th:only-of-type {\n",
       "        vertical-align: middle;\n",
       "    }\n",
       "\n",
       "    .dataframe tbody tr th {\n",
       "        vertical-align: top;\n",
       "    }\n",
       "\n",
       "    .dataframe thead th {\n",
       "        text-align: right;\n",
       "    }\n",
       "</style>\n",
       "<table border=\"1\" class=\"dataframe\">\n",
       "  <thead>\n",
       "    <tr style=\"text-align: right;\">\n",
       "      <th></th>\n",
       "      <th></th>\n",
       "      <th>geometry</th>\n",
       "      <th>SUBDIV_NM</th>\n",
       "      <th>TWP</th>\n",
       "      <th>TNS</th>\n",
       "      <th>RGE</th>\n",
       "      <th>REW</th>\n",
       "      <th>SEC</th>\n",
       "      <th>QTR_TWP</th>\n",
       "      <th>ALLOTMENT</th>\n",
       "      <th>TRACT</th>\n",
       "      <th>LOT</th>\n",
       "      <th>DIVISION</th>\n",
       "      <th>FRACTION</th>\n",
       "      <th>SURVEY_TYP</th>\n",
       "      <th>Shape_Leng</th>\n",
       "      <th>ObjectID</th>\n",
       "      <th>VMSLOT</th>\n",
       "      <th>OTHER_SUB</th>\n",
       "      <th>Shape_Length</th>\n",
       "      <th>Shape_Area</th>\n",
       "    </tr>\n",
       "    <tr>\n",
       "      <th>COUNTY</th>\n",
       "      <th>TOWNSHIP</th>\n",
       "      <th></th>\n",
       "      <th></th>\n",
       "      <th></th>\n",
       "      <th></th>\n",
       "      <th></th>\n",
       "      <th></th>\n",
       "      <th></th>\n",
       "      <th></th>\n",
       "      <th></th>\n",
       "      <th></th>\n",
       "      <th></th>\n",
       "      <th></th>\n",
       "      <th></th>\n",
       "      <th></th>\n",
       "      <th></th>\n",
       "      <th></th>\n",
       "      <th></th>\n",
       "      <th></th>\n",
       "      <th></th>\n",
       "      <th></th>\n",
       "    </tr>\n",
       "  </thead>\n",
       "  <tbody>\n",
       "    <tr>\n",
       "      <th rowspan=\"5\" valign=\"top\">Adams</th>\n",
       "      <th>BRATTON</th>\n",
       "      <td>POLYGON ((-83.41524 38.97852, -83.41566 38.971...</td>\n",
       "      <td>VIRGINIA MILITARY DISTRICT</td>\n",
       "      <td>0</td>\n",
       "      <td></td>\n",
       "      <td>0</td>\n",
       "      <td></td>\n",
       "      <td>0</td>\n",
       "      <td></td>\n",
       "      <td></td>\n",
       "      <td></td>\n",
       "      <td></td>\n",
       "      <td></td>\n",
       "      <td>0</td>\n",
       "      <td></td>\n",
       "      <td>0.0</td>\n",
       "      <td>57511</td>\n",
       "      <td>1766</td>\n",
       "      <td></td>\n",
       "      <td>0.063200</td>\n",
       "      <td>0.000222</td>\n",
       "    </tr>\n",
       "    <tr>\n",
       "      <th>BRUSH CREEK</th>\n",
       "      <td>POLYGON ((-83.45785 38.74554, -83.46907 38.737...</td>\n",
       "      <td>VIRGINIA MILITARY DISTRICT</td>\n",
       "      <td>0</td>\n",
       "      <td></td>\n",
       "      <td>0</td>\n",
       "      <td></td>\n",
       "      <td>0</td>\n",
       "      <td></td>\n",
       "      <td></td>\n",
       "      <td></td>\n",
       "      <td></td>\n",
       "      <td></td>\n",
       "      <td>0</td>\n",
       "      <td></td>\n",
       "      <td>0.0</td>\n",
       "      <td>57993</td>\n",
       "      <td>13866</td>\n",
       "      <td></td>\n",
       "      <td>0.035937</td>\n",
       "      <td>0.000035</td>\n",
       "    </tr>\n",
       "    <tr>\n",
       "      <th>FRANKLIN</th>\n",
       "      <td>POLYGON ((-83.26885 38.91560, -83.26885 38.915...</td>\n",
       "      <td>VIRGINIA MILITARY DISTRICT</td>\n",
       "      <td>0</td>\n",
       "      <td></td>\n",
       "      <td>0</td>\n",
       "      <td></td>\n",
       "      <td>0</td>\n",
       "      <td></td>\n",
       "      <td></td>\n",
       "      <td></td>\n",
       "      <td></td>\n",
       "      <td></td>\n",
       "      <td>0</td>\n",
       "      <td></td>\n",
       "      <td>0.0</td>\n",
       "      <td>57507</td>\n",
       "      <td>14162</td>\n",
       "      <td></td>\n",
       "      <td>0.051047</td>\n",
       "      <td>0.000094</td>\n",
       "    </tr>\n",
       "    <tr>\n",
       "      <th>GREEN</th>\n",
       "      <td>POLYGON ((-83.26806 38.61846, -83.26771 38.618...</td>\n",
       "      <td>VIRGINIA MILITARY DISTRICT</td>\n",
       "      <td>0</td>\n",
       "      <td></td>\n",
       "      <td>0</td>\n",
       "      <td></td>\n",
       "      <td>0</td>\n",
       "      <td></td>\n",
       "      <td></td>\n",
       "      <td></td>\n",
       "      <td></td>\n",
       "      <td></td>\n",
       "      <td>0</td>\n",
       "      <td></td>\n",
       "      <td>0.0</td>\n",
       "      <td>64536</td>\n",
       "      <td>5708</td>\n",
       "      <td></td>\n",
       "      <td>0.037990</td>\n",
       "      <td>0.000056</td>\n",
       "    </tr>\n",
       "    <tr>\n",
       "      <th>JEFFERSON</th>\n",
       "      <td>POLYGON ((-83.32331 38.71274, -83.32351 38.712...</td>\n",
       "      <td>VIRGINIA MILITARY DISTRICT</td>\n",
       "      <td>0</td>\n",
       "      <td></td>\n",
       "      <td>0</td>\n",
       "      <td></td>\n",
       "      <td>0</td>\n",
       "      <td></td>\n",
       "      <td></td>\n",
       "      <td></td>\n",
       "      <td></td>\n",
       "      <td></td>\n",
       "      <td>0</td>\n",
       "      <td></td>\n",
       "      <td>0.0</td>\n",
       "      <td>57992</td>\n",
       "      <td>16648</td>\n",
       "      <td></td>\n",
       "      <td>0.065780</td>\n",
       "      <td>0.000179</td>\n",
       "    </tr>\n",
       "  </tbody>\n",
       "</table>\n",
       "</div>"
      ],
      "text/plain": [
       "                                                             geometry  \\\n",
       "COUNTY TOWNSHIP                                                         \n",
       "Adams  BRATTON      POLYGON ((-83.41524 38.97852, -83.41566 38.971...   \n",
       "       BRUSH CREEK  POLYGON ((-83.45785 38.74554, -83.46907 38.737...   \n",
       "       FRANKLIN     POLYGON ((-83.26885 38.91560, -83.26885 38.915...   \n",
       "       GREEN        POLYGON ((-83.26806 38.61846, -83.26771 38.618...   \n",
       "       JEFFERSON    POLYGON ((-83.32331 38.71274, -83.32351 38.712...   \n",
       "\n",
       "                                     SUBDIV_NM  TWP TNS  RGE REW  SEC QTR_TWP  \\\n",
       "COUNTY TOWNSHIP                                                                 \n",
       "Adams  BRATTON      VIRGINIA MILITARY DISTRICT    0        0        0           \n",
       "       BRUSH CREEK  VIRGINIA MILITARY DISTRICT    0        0        0           \n",
       "       FRANKLIN     VIRGINIA MILITARY DISTRICT    0        0        0           \n",
       "       GREEN        VIRGINIA MILITARY DISTRICT    0        0        0           \n",
       "       JEFFERSON    VIRGINIA MILITARY DISTRICT    0        0        0           \n",
       "\n",
       "                   ALLOTMENT TRACT LOT DIVISION  FRACTION SURVEY_TYP  \\\n",
       "COUNTY TOWNSHIP                                                        \n",
       "Adams  BRATTON                                          0              \n",
       "       BRUSH CREEK                                      0              \n",
       "       FRANKLIN                                         0              \n",
       "       GREEN                                            0              \n",
       "       JEFFERSON                                        0              \n",
       "\n",
       "                    Shape_Leng  ObjectID VMSLOT OTHER_SUB  Shape_Length  \\\n",
       "COUNTY TOWNSHIP                                                           \n",
       "Adams  BRATTON             0.0     57511   1766                0.063200   \n",
       "       BRUSH CREEK         0.0     57993  13866                0.035937   \n",
       "       FRANKLIN            0.0     57507  14162                0.051047   \n",
       "       GREEN               0.0     64536   5708                0.037990   \n",
       "       JEFFERSON           0.0     57992  16648                0.065780   \n",
       "\n",
       "                    Shape_Area  \n",
       "COUNTY TOWNSHIP                 \n",
       "Adams  BRATTON        0.000222  \n",
       "       BRUSH CREEK    0.000035  \n",
       "       FRANKLIN       0.000094  \n",
       "       GREEN          0.000056  \n",
       "       JEFFERSON      0.000179  "
      ]
     },
     "execution_count": 36,
     "metadata": {},
     "output_type": "execute_result"
    },
    {
     "data": {
      "image/png": "[encoded data removed]",
      "text/plain": [
       "<Figure size 432x288 with 1 Axes>"
      ]
     },
     "metadata": {
      "needs_background": "light"
     },
     "output_type": "display_data"
    }
   ],
   "source": [
    "ohio_muni_df.plot()\n",
    "\n",
    "ohio_muni_df.head()"
   ]
  }
 ],
 "metadata": {
  "kernelspec": {
   "display_name": "Python 3",
   "language": "python",
   "name": "python3"
  },
  "language_info": {
   "codemirror_mode": {
    "name": "ipython",
    "version": 3
   },
   "file_extension": ".py",
   "mimetype": "text/x-python",
   "name": "python",
   "nbconvert_exporter": "python",
   "pygments_lexer": "ipython3",
   "version": "3.6.9"
  }
 },
 "nbformat": 4,
 "nbformat_minor": 2
}

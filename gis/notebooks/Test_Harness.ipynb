{
 "cells": [
  {
   "cell_type": "code",
   "execution_count": null,
   "metadata": {},
   "outputs": [],
   "source": [
    "from collections import OrderedDict\n",
    "from datetime import datetime\n",
    "import logging\n",
    "import os\n",
    "from pprint import pprint\n",
    "\n",
    "import geojson\n",
    "import geopandas as gpd\n",
    "import fiona\n",
    "import matplotlib as plt\n",
    "import pyodbc\n",
    "from shapely.geometry import (\n",
    "    LineString, mapping, shape\n",
    ")\n",
    "from shapely.ops import (\n",
    "    split as shapely_split, transform\n",
    ")\n",
    "\n",
    "from python_gis.poc.landgrid_processor import LandgridProcessor\n",
    "from python_gis.poc.io.pgsql import PgWriter\n",
    "from python_gis.poc.io.mssql import MsWriter\n",
    "from python_gis.poc.io.shapefile import (\n",
    "    read_shapefile\n",
    ")\n",
    "from python_gis.poc.tools.spatial import (\n",
    "    remove_holes, fix_anti_meridian\n",
    ")\n",
    "import python_gis.poc.util.log_config\n",
    "\n",
    "logger = logging.getLogger(__name__)"
   ]
  },
  {
   "cell_type": "code",
   "execution_count": null,
   "metadata": {},
   "outputs": [],
   "source": [
    "!ls $DIML_HOME"
   ]
  },
  {
   "cell_type": "code",
   "execution_count": null,
   "metadata": {},
   "outputs": [],
   "source": [
    "# Ms Sql\n",
    "ms_driver = os.environ[\"MSSQL_DRIVER\"]\n",
    "ms_host = os.environ[\"MSSQL_SERVER\"]\n",
    "ms_db = os.environ[\"MSSQL_DATABASE\"]\n",
    "ms_user = os.environ[\"MSSQL_UID\"]\n",
    "ms_pwd = os.environ[\"MSSQL_PWD\"]\n",
    "\n",
    "# Postgis\n",
    "pg_host = os.environ[\"PG_SERVER\"]\n",
    "pg_db = os.environ[\"PG_DATABASE\"]\n",
    "pg_user = os.environ[\"PG_UID\"]\n",
    "pg_pwd = os.environ[\"PG_PWD\"]\n",
    "\n",
    "# WGS84 (epsg:4326)\n",
    "gdb_path = os.path.join(os.environ[\"DATA_DIR\"], 'landgrid', 'DI_basemaps_WGS84.gdb')\n",
    "ddl_path = os.path.join(os.environ[\"DIML_HOME\"], 'database', 'mssql', 'schema.sql')\n",
    "out_path = os.path.join(os.environ[\"DATA_DIR\"], 'shapefile_out')\n",
    "idx_path = os.path.join(os.environ[\"DIML_HOME\"], 'database', \"indexes.sql\")\n",
    "test_path = os.path.join(os.environ[\"DATA_DIR\"], 'mssql_test')"
   ]
  },
  {
   "cell_type": "markdown",
   "metadata": {},
   "source": [
    "## Test Harness (PostgreSQL)"
   ]
  },
  {
   "cell_type": "code",
   "execution_count": null,
   "metadata": {
    "scrolled": true
   },
   "outputs": [],
   "source": [
    "%%time\n",
    "\n",
    "with PgWriter(host=pg_host, database=pg_db, user=pg_user,\n",
    "              password=pg_pwd) as db:\n",
    "\n",
    "        logger.info(f\"Creating database schema...\")\n",
    "\n",
    "        db.execute_script(ddl_path, auto_commit=True)\n",
    "\n",
    "        logger.info(f\"Running landgrid ETL...\")\n",
    "\n",
    "        landgrid = LandgridProcessor(gdb_path, out_path, db)\n",
    "        landgrid.to_shapefiles(redo_grid=True)\n",
    "        landgrid.run_transforms()\n",
    "        landgrid.to_datastore()\n",
    "\n",
    "        logger.info(f\"Building spatial indexes...\")\n",
    "\n",
    "        db.execute_script(idx_path, auto_commit=True)\n",
    "    "
   ]
  },
  {
   "cell_type": "markdown",
   "metadata": {},
   "source": [
    "## Test Harness (MS SQL)"
   ]
  },
  {
   "cell_type": "code",
   "execution_count": null,
   "metadata": {
    "scrolled": false
   },
   "outputs": [],
   "source": [
    "%%time\n",
    "\n",
    "with MsWriter(driver=os.environ[\"MSSQL_DRIVER\"],\n",
    "              host=os.environ[\"MSSQL_SERVER\"],\n",
    "              db=os.environ[\"MSSQL_DATABASE\"],\n",
    "              uid=os.environ[\"MSSQL_UID\"],\n",
    "              pwd=os.environ[\"MSSQL_PWD\"]) as db:\n",
    "\n",
    "    logger.info(f\"Creating database schema...\")\n",
    "\n",
    "    db.execute_script(ddl_path, auto_commit=True)  # TODO: add if_exists skip.\n",
    "\n",
    "    logger.info(f\"Running landgrid ETL...\")\n",
    "\n",
    "    landgrid = LandgridProcessor(gdb_path, out_path, db)\n",
    "#     landgrid.to_shapefiles(redo_grid=False)\n",
    "    landgrid.run_transforms()\n",
    "    landgrid.to_datastore()\n",
    "\n",
    "    # logger.info(f\"Building spatial indexes...\")\n",
    "    #\n",
    "    # db.execute_script(idx_path, auto_commit=True)"
   ]
  }
 ],
 "metadata": {
  "kernelspec": {
   "display_name": "Python 3",
   "language": "python",
   "name": "python3"
  },
  "language_info": {
   "codemirror_mode": {
    "name": "ipython",
    "version": 3
   },
   "file_extension": ".py",
   "mimetype": "text/x-python",
   "name": "python",
   "nbconvert_exporter": "python",
   "pygments_lexer": "ipython3",
   "version": "3.6.9"
  }
 },
 "nbformat": 4,
 "nbformat_minor": 2
}

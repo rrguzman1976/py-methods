{
 "cells": [
  {
   "cell_type": "code",
   "execution_count": null,
   "metadata": {},
   "outputs": [],
   "source": [
    "from collections import OrderedDict\n",
    "from datetime import datetime\n",
    "import logging\n",
    "import os\n",
    "from pprint import pprint\n",
    "\n",
    "import geojson\n",
    "import geopandas as gpd\n",
    "import fiona\n",
    "import matplotlib as plt\n",
    "from shapely.geometry import (\n",
    "    LineString, mapping, shape\n",
    ")\n",
    "from shapely.ops import (\n",
    "    split as shapely_split, transform\n",
    ")\n",
    "\n",
    "from python_gis.poc.landgrid_processor import LandgridProcessor\n",
    "from python_gis.poc.io.pgsql import PgWriter\n",
    "from python_gis.poc.tools.spatial import (\n",
    "    remove_holes\n",
    ")\n",
    "import python_gis.poc.util.log_config\n",
    "\n",
    "logger = logging.getLogger(__name__)"
   ]
  },
  {
   "cell_type": "code",
   "execution_count": null,
   "metadata": {},
   "outputs": [],
   "source": [
    "!ls $DIML_HOME"
   ]
  },
  {
   "cell_type": "code",
   "execution_count": null,
   "metadata": {},
   "outputs": [],
   "source": [
    "# Postgis\n",
    "pg_host = os.environ[\"PG_SERVER\"]\n",
    "pg_db = os.environ[\"PG_DATABASE\"]\n",
    "pg_user = os.environ[\"PG_UID\"]\n",
    "pg_pwd = os.environ[\"PG_PWD\"]\n",
    "\n",
    "# WGS84 (epsg:4326)\n",
    "gdb_path = os.path.join(os.environ[\"DATA_DIR\"], 'landgrid', 'DI_basemaps_WGS84.gdb')\n",
    "ddl_path = os.path.join(os.environ[\"DIML_HOME\"], 'database', 'schema.sql')\n",
    "out_path = os.path.join(os.environ[\"DATA_DIR\"], 'shapefile_out')\n",
    "idx_path = os.path.join(os.environ[\"DIML_HOME\"], 'database', \"indexes.sql\")\n",
    "test_path = os.path.join(os.environ[\"DATA_DIR\"], 'mssql_test')"
   ]
  },
  {
   "cell_type": "markdown",
   "metadata": {},
   "source": [
    "## Anti-Meridian Fix\n",
    "- Splits polygon at the meridian and keeps the right half"
   ]
  },
  {
   "cell_type": "code",
   "execution_count": null,
   "metadata": {},
   "outputs": [],
   "source": [
    "def shift_west(x, y, z=None):\n",
    "    return tuple(filter(None, ((x - 360)%-360, y, z)))  # shift to west hemi\n",
    "\n",
    "def unshift_west(x, y, z=None):\n",
    "    return tuple(filter(None, ((x + 360), y, z)))  # shift back to east hemi\n",
    "\n",
    "# def shift_east(x, y, z=None):\n",
    "#     return tuple(filter(None, ((x + 360)%360, y, z))) # shift to east hemi\n",
    "\n",
    "# def unshift_east(x, y, z=None):\n",
    "#     return tuple(filter(None, ((x - 360), y, z))) # shift back to west hemi\n",
    "\n",
    "# TODO: Try 150\n",
    "def is_near_idl(x):\n",
    "    return x < -150 or x > 150"
   ]
  },
  {
   "cell_type": "code",
   "execution_count": null,
   "metadata": {
    "scrolled": true
   },
   "outputs": [],
   "source": [
    "%%time\n",
    "\n",
    "# WGS84 (epsg:4326)\n",
    "gdb_src_path = os.path.join(gdb_path)\n",
    "shp_out_path = os.path.join(out_path, 'test_counties_bbox_pg_v4.shp')  # test_states_bbox_pg_v4.shp, test_counties_bbox_pg.shp\n",
    "\n",
    "west_meridian = LineString([(-180, 90), (-180, -90)])\n",
    "\n",
    "with fiona.open(gdb_src_path, layer='Counties_US_WGS84') as src:  # Counties_US_WGS84, States_US\n",
    "    print(f\"Driver: {src.driver}, CRS: {src.crs}\")\n",
    "    \n",
    "    # Copy the source schema and add a property.\n",
    "    schema = src.schema.copy()\n",
    "    schema['properties']['geobounds'] = 'str:254'  # new\n",
    "    schema['geometry'] = 'Polygon'  # update\n",
    "    \n",
    "    with fiona.open(shp_out_path, 'w', driver='ESRI Shapefile', \n",
    "                    schema=schema, crs=src.crs) as tgt:\n",
    "        \n",
    "        for f in src:\n",
    "            \n",
    "#             pprint(f\"Props: {f['properties']}\")\n",
    "            poly = shape(f['geometry'])\n",
    "            min_x, _, max_x, _ = poly.bounds\n",
    "            \n",
    "            if not poly.is_valid:\n",
    "                clean_poly = poly.buffer(0.0)\n",
    "                assert clean_poly.is_valid\n",
    "                assert clean_poly.geom_type in ('Polygon', 'MultiPolygon')\n",
    "                poly = clean_poly\n",
    "            \n",
    "            # Check if near dateline.\n",
    "            if is_near_idl(min_x) or is_near_idl(max_x):\n",
    "                \n",
    "                print(f\"{f['properties']} near IDL.\")\n",
    "                pprint(f\"Shape Envelope: {poly.bounds}\")\n",
    "                \n",
    "                # Shift to west hemisphere\n",
    "                shape_shift = transform(shift_west, poly)\n",
    "                shape_envelope = shape_shift.envelope\n",
    "                pprint(f\"Shape Envelope after shift: {shape_shift.bounds}\")\n",
    "\n",
    "                if shape_envelope.intersects(west_meridian):\n",
    "                    print(f\"{f['properties']} crosses IDL.\")\n",
    "                    \n",
    "                    _, right_half = shapely_split(shape_envelope, west_meridian)\n",
    "                    \n",
    "                    pprint(f\"pre-half_{i}: {right_half.bounds}\")\n",
    "                    min_x, _, max_x, _ = right_half.envelope.bounds\n",
    "\n",
    "                    # Shift back to the east hemisphere.\n",
    "                    if min_x < -180 or max_x < -180:  # check west hemi\n",
    "                        right_half = transform(unshift_west, right_half.envelope)\n",
    "\n",
    "                    pprint(f\"post-half_{i}: {right_half.bounds}\")\n",
    "                    pprint(f\"post-half_{i} area: {right_half.area}\")\n",
    "\n",
    "                    # Keep larger area\n",
    "                    f['geometry'] = mapping(right_half)\n",
    "                    f['properties'].update(geobounds=geojson.dumps(f['geometry']))\n",
    "                    tgt.write(f)\n"
   ]
  },
  {
   "cell_type": "code",
   "execution_count": null,
   "metadata": {
    "scrolled": false
   },
   "outputs": [],
   "source": [
    "%%time\n",
    "\n",
    "# WGS84 (epsg:4326)\n",
    "src_path = os.path.join(test_path, 'landgrid.County.shp')  # landgrid.State.shp, landgrid.County.shp\n",
    "shp_out_path = os.path.join(out_path, 'landgrid.County.fme.shp')\n",
    "\n",
    "with fiona.open(src_path) as src:\n",
    "    print(f\"Driver: {src.driver}, CRS: {src.crs}\")\n",
    "    \n",
    "    # Copy the source schema and add a property.\n",
    "    schema = src.schema.copy()\n",
    "    schema['geometry'] = 'Polygon'  # update\n",
    "    pprint(f\"Schema: {schema}\")\n",
    "    \n",
    "    with fiona.open(shp_out_path, 'w', driver='ESRI Shapefile', \n",
    "                    schema=schema, crs=src.crs) as tgt:\n",
    "        \n",
    "        for f in src:\n",
    "            \n",
    "            print(f\"State: {f['properties']['StateName']}\")\n",
    "            pprint(f\"BoundsGeoS: {f['properties']['BoundsGeoS']}\")\n",
    "            \n",
    "            g_json = geojson.loads(f['properties']['BoundsGeoS'])\n",
    "            state = shape(g_json)\n",
    "            \n",
    "            # Writes as python-geo-interface (GeoJSON-like)\n",
    "            f['geometry'] = mapping(state)\n",
    "            \n",
    "            pprint(f\"Geometry: {f['geometry']}\")\n",
    "            pprint(f\"GeoJSON: {geojson.dumps(f['geometry'])}\")\n",
    "\n",
    "            tgt.write(f)\n"
   ]
  },
  {
   "cell_type": "code",
   "execution_count": null,
   "metadata": {},
   "outputs": [],
   "source": [
    "g_json2 = '{\"type\":\"Polygon\",\"coordinates\":[[[172.44245193800009,51.214336780000053],[-129.99567699399995,51.214336780000053],[-129.99567699399995,71.390079301000071],[172.44245193800009,71.390079301000071],[172.44245193800009,51.214336780000053]]]}'\n",
    "bbox2 = geojson.loads(g_json2)\n",
    "\n",
    "poly2 = shape(bbox2)\n",
    "\n",
    "poly2os.path.join(os.environ[\"DATA_DIR\"], 'shapefile_out')"
   ]
  }
 ],
 "metadata": {
  "kernelspec": {
   "display_name": "Python 3",
   "language": "python",
   "name": "python3"
  },
  "language_info": {
   "codemirror_mode": {
    "name": "ipython",
    "version": 3
   },
   "file_extension": ".py",
   "mimetype": "text/x-python",
   "name": "python",
   "nbconvert_exporter": "python",
   "pygments_lexer": "ipython3",
   "version": "3.6.9"
  }
 },
 "nbformat": 4,
 "nbformat_minor": 2
}

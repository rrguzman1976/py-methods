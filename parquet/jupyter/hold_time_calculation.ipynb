{
 "cells": [
  {
   "cell_type": "markdown",
   "metadata": {},
   "source": [
    "#  Stock Hold Time Calculation\n",
    "- Characterize the hold time(s) of a series of buys and sells in shares\n",
    "of a given symbol."
   ]
  },
  {
   "cell_type": "code",
   "execution_count": 1,
   "metadata": {},
   "outputs": [],
   "source": [
    "import matplotlib.pyplot as plt\n",
    "import pandas as pd"
   ]
  },
  {
   "cell_type": "code",
   "execution_count": 2,
   "metadata": {},
   "outputs": [
    {
     "name": "stdout",
     "output_type": "stream",
     "text": [
      "data/eventus/sample_data.csv\n"
     ]
    }
   ],
   "source": [
    "%%bash\n",
    "\n",
    "ls data/eventus/*.csv"
   ]
  },
  {
   "cell_type": "markdown",
   "metadata": {},
   "source": [
    "## Plot Time-Series\n",
    "- Show trades over time"
   ]
  },
  {
   "cell_type": "code",
   "execution_count": 3,
   "metadata": {
    "scrolled": false
   },
   "outputs": [
    {
     "data": {
      "text/html": [
       "<div>\n",
       "<style scoped>\n",
       "    .dataframe tbody tr th:only-of-type {\n",
       "        vertical-align: middle;\n",
       "    }\n",
       "\n",
       "    .dataframe tbody tr th {\n",
       "        vertical-align: top;\n",
       "    }\n",
       "\n",
       "    .dataframe thead th {\n",
       "        text-align: right;\n",
       "    }\n",
       "</style>\n",
       "<table border=\"1\" class=\"dataframe\">\n",
       "  <thead>\n",
       "    <tr style=\"text-align: right;\">\n",
       "      <th></th>\n",
       "      <th>tm</th>\n",
       "      <th>buy_sell</th>\n",
       "      <th>qty</th>\n",
       "      <th>CumSum</th>\n",
       "    </tr>\n",
       "  </thead>\n",
       "  <tbody>\n",
       "    <tr>\n",
       "      <th>0</th>\n",
       "      <td>1531492972</td>\n",
       "      <td>buy</td>\n",
       "      <td>2000</td>\n",
       "      <td>2000</td>\n",
       "    </tr>\n",
       "    <tr>\n",
       "      <th>1</th>\n",
       "      <td>1531492974</td>\n",
       "      <td>buy</td>\n",
       "      <td>1000</td>\n",
       "      <td>3000</td>\n",
       "    </tr>\n",
       "    <tr>\n",
       "      <th>2</th>\n",
       "      <td>1531493224</td>\n",
       "      <td>sell</td>\n",
       "      <td>550</td>\n",
       "      <td>2450</td>\n",
       "    </tr>\n",
       "    <tr>\n",
       "      <th>3</th>\n",
       "      <td>1531493225</td>\n",
       "      <td>sell</td>\n",
       "      <td>600</td>\n",
       "      <td>1850</td>\n",
       "    </tr>\n",
       "    <tr>\n",
       "      <th>4</th>\n",
       "      <td>1531493232</td>\n",
       "      <td>sell</td>\n",
       "      <td>100</td>\n",
       "      <td>1750</td>\n",
       "    </tr>\n",
       "  </tbody>\n",
       "</table>\n",
       "</div>"
      ],
      "text/plain": [
       "           tm buy_sell   qty  CumSum\n",
       "0  1531492972      buy  2000    2000\n",
       "1  1531492974      buy  1000    3000\n",
       "2  1531493224     sell   550    2450\n",
       "3  1531493225     sell   600    1850\n",
       "4  1531493232     sell   100    1750"
      ]
     },
     "execution_count": 3,
     "metadata": {},
     "output_type": "execute_result"
    }
   ],
   "source": [
    "txns = pd.read_csv('data/eventus/sample_data.csv')\n",
    "txns['delta'] = txns.qty \n",
    "txns.loc[txns.buy_sell == 'sell', 'delta'] = -txns.qty \n",
    "txns['CumSum'] = txns.delta.cumsum()\n",
    "txns.loc[:, ['tm', 'buy_sell', 'qty', 'CumSum']].head()"
   ]
  },
  {
   "cell_type": "code",
   "execution_count": 4,
   "metadata": {
    "scrolled": true
   },
   "outputs": [
    {
     "data": {
      "image/png": "[encoded data removed]",
      "text/plain": [
       "<Figure size 432x288 with 1 Axes>"
      ]
     },
     "metadata": {
      "needs_background": "light"
     },
     "output_type": "display_data"
    }
   ],
   "source": [
    "fig, ax = plt.subplots()\n",
    "ax.plot(txns.index, txns.CumSum)\n",
    "ax.set(xlabel='time (s)', ylabel='Quantity', title='Buy/Sell over Time')\n",
    "ax.grid()\n",
    "plt.show()"
   ]
  },
  {
   "cell_type": "markdown",
   "metadata": {},
   "source": [
    "## Algorithm for Calculating Hold Time\n",
    "- Use a stack to keep track of the buy time for each stock purchase\n",
    "- Maintain a running average of weighted hold times each time a stock is sold and matches a buy order\n",
    "- For each sell transaction:\n",
    "    1. Pop the most recent stock purchase from the stack\n",
    "    2. Use the sell quantity + hold time to update the running average hold time\n",
    "    3. Push the updated stock quantity back onto the stack\n",
    "    \n",
    "### Assumptions\n",
    "- Ignore transactions for which there is no matching stock purchase\n",
    "- If a sell order exceeds the remaining buy order, then sell only what remains\n",
    "- When matching sales to purchases, the most recent stock purchase is used\n",
    "\n",
    "### Complexity\n",
    "For input n:\n",
    "- Runtime: O(n**2)\n",
    "- Storage: O(n)"
   ]
  },
  {
   "cell_type": "code",
   "execution_count": 5,
   "metadata": {},
   "outputs": [],
   "source": [
    "stack = []\n",
    "stock_total = ev_total = 0\n",
    "\n",
    "for txn in txns.loc[:, ['tm', 'buy_sell', 'qty']].itertuples(index=False):\n",
    "    if txn.buy_sell == 'buy':\n",
    "        stack.append((txn.tm, txn.qty))\n",
    "    else:\n",
    "        tmp_qty = txn.qty\n",
    "        \n",
    "        while stack and tmp_qty:\n",
    "            \n",
    "            last_time, last_buy = stack.pop()\n",
    "            new_balance = last_buy - tmp_qty\n",
    "\n",
    "            if new_balance > 0:\n",
    "                stock_total += tmp_qty\n",
    "                ev_total += tmp_qty*(txn.tm - last_time)\n",
    "                stack.append((last_time, new_balance))\n",
    "                \n",
    "                break\n",
    "            else:\n",
    "                stock_total += last_buy\n",
    "                ev_total += last_buy*(txn.tm - last_time)\n",
    "                tmp_qty -= last_buy"
   ]
  },
  {
   "cell_type": "markdown",
   "metadata": {},
   "source": [
    "## Result"
   ]
  },
  {
   "cell_type": "code",
   "execution_count": 6,
   "metadata": {},
   "outputs": [
    {
     "name": "stdout",
     "output_type": "stream",
     "text": [
      "Average hold time = 6167194s/9500 = 649.18s\n"
     ]
    }
   ],
   "source": [
    "print(f\"Average hold time = {ev_total}s/{stock_total} = {(ev_total/stock_total):.2f}s\")"
   ]
  }
 ],
 "metadata": {
  "kernelspec": {
   "display_name": "Python 3",
   "language": "python",
   "name": "python3"
  },
  "language_info": {
   "codemirror_mode": {
    "name": "ipython",
    "version": 3
   },
   "file_extension": ".py",
   "mimetype": "text/x-python",
   "name": "python",
   "nbconvert_exporter": "python",
   "pygments_lexer": "ipython3",
   "version": "3.7.5"
  }
 },
 "nbformat": 4,
 "nbformat_minor": 4
}

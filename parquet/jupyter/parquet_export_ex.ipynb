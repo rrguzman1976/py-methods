{
 "cells": [
  {
   "cell_type": "markdown",
   "metadata": {},
   "source": [
    "## Examples Exporting Parquet to SQL"
   ]
  },
  {
   "cell_type": "code",
   "execution_count": null,
   "metadata": {},
   "outputs": [],
   "source": [
    "from os import environ\n",
    "import urllib\n",
    "\n",
    "from sqlalchemy import create_engine\n",
    "\n",
    "from utility.api.parquet import load_dataset"
   ]
  },
  {
   "cell_type": "code",
   "execution_count": null,
   "metadata": {},
   "outputs": [],
   "source": [
    "%%bash\n",
    "\n",
    "ls -al"
   ]
  },
  {
   "cell_type": "markdown",
   "metadata": {},
   "source": [
    "## Setup SQL Engine"
   ]
  },
  {
   "cell_type": "code",
   "execution_count": null,
   "metadata": {},
   "outputs": [],
   "source": [
    "driver = environ.get('SQL_DRIVER', '{ODBC Driver 17 for SQL Server}')\n",
    "host = environ.get('SQL_HOST', 'sql-parquet')\n",
    "db = environ.get('SQL_DB', 'ScratchDB')\n",
    "user = environ.get('SQL_USER', 'sa')\n",
    "pw = environ.get('SQL_PASSWORD', 'HelloWorld1')\n",
    "con_str = f'DRIVER={driver};SERVER={host};DATABASE={db};UID={user};PWD={pw}'\n",
    "\n",
    "params = urllib.parse.quote_plus(con_str)\n",
    "sql_engine = create_engine(f\"mssql+pyodbc:///?odbc_connect={params}\"\n",
    "                           , echo=False) # echo's emitted sql"
   ]
  },
  {
   "cell_type": "markdown",
   "metadata": {},
   "source": [
    "## Export Parquet Datasets"
   ]
  },
  {
   "cell_type": "code",
   "execution_count": null,
   "metadata": {
    "scrolled": false
   },
   "outputs": [],
   "source": [
    "%%time\n",
    "\n",
    "with sql_engine.connect() as c:\n",
    "    datasets = [\n",
    "        ('KinnserBIBaseData', 'data/KinnsrBIBaseData'),\n",
    "        ('KinnserCrosswalk', 'data/cc_crosswalk_kinnser'),\n",
    "        ('KinnserPatientScore', 'data/patient_score_kinnser'),\n",
    "        ('LTC400BaseData', 'data/LTC400BaseData'),\n",
    "        ('LTC400Crosswalk', 'data/cc_crosswalk_ltc400'),\n",
    "        ('LTC400PatientScore', 'data/patient_score_ltc400'),\n",
    "    ]\n",
    "    for table, folder in datasets:\n",
    "        print(f\"Reading from {folder}\")\n",
    "        df = load_dataset(folder)\n",
    "        \n",
    "        print(f\"Loading to {table}\")\n",
    "        df.to_sql(name=table, con=c, schema='Staging', \n",
    "                  if_exists='append', index=True)"
   ]
  }
 ],
 "metadata": {
  "kernelspec": {
   "display_name": "Python 3",
   "language": "python",
   "name": "python3"
  },
  "language_info": {
   "codemirror_mode": {
    "name": "ipython",
    "version": 3
   },
   "file_extension": ".py",
   "mimetype": "text/x-python",
   "name": "python",
   "nbconvert_exporter": "python",
   "pygments_lexer": "ipython3",
   "version": "3.7.5"
  }
 },
 "nbformat": 4,
 "nbformat_minor": 4
}
